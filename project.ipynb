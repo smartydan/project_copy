{
 "cells": [
  {
   "cell_type": "markdown",
   "id": "fa11297e-3260-48a9-99ff-f72dbfb972e3",
   "metadata": {},
   "source": [
    "# HSE-2024 text classification project"
   ]
  },
  {
   "cell_type": "markdown",
   "id": "ce9bf42f5b985ac8",
   "metadata": {},
   "source": [
    "## Table of content\n",
    "* [Imports](#c1)\n",
    "* [Data loading and preprocessing](#c2)\n",
    "* [Custom dataset](#c3)\n",
    "* [Custom model](#c4)\n",
    "* [Trainer](#c5)\n",
    "* [Model training](#c6)"
   ]
  },
  {
   "cell_type": "markdown",
   "id": "868114483c848d79",
   "metadata": {},
   "source": [
    "### Imports <a class=\"anchor\" id=\"c1\"></a>"
   ]
  },
  {
   "cell_type": "code",
   "execution_count": 1,
   "id": "b0efad74",
   "metadata": {},
   "outputs": [],
   "source": [
    "import numpy as np\n",
    "import pandas as pd\n",
    "\n",
    "import torch\n",
    "from sklearn.model_selection import train_test_split\n",
    "\n",
    "import os\n",
    "import re\n",
    "import string\n",
    "\n",
    "from classes import Preprocessor, MyModel, Trainer"
   ]
  },
  {
   "cell_type": "markdown",
   "id": "79bf6ab199bd0511",
   "metadata": {},
   "source": [
    "### Data loading and preprocessing <a class=\"anchor\" id=\"c2\"></a>"
   ]
  },
  {
   "cell_type": "code",
   "execution_count": 2,
   "id": "f1302e35a33a0911",
   "metadata": {
    "ExecuteTime": {
     "end_time": "2024-03-16T13:13:13.519967Z",
     "start_time": "2024-03-16T13:13:13.510904Z"
    }
   },
   "outputs": [
    {
     "data": {
      "text/plain": [
       "<torch._C.Generator at 0x277e17c0510>"
      ]
     },
     "execution_count": 2,
     "metadata": {},
     "output_type": "execute_result"
    }
   ],
   "source": [
    "RANDOM_STATE = 42\n",
    "torch.manual_seed(RANDOM_STATE)"
   ]
  },
  {
   "cell_type": "code",
   "execution_count": 3,
   "id": "24ce7bd260a89584",
   "metadata": {
    "ExecuteTime": {
     "end_time": "2024-03-16T13:13:13.541403Z",
     "start_time": "2024-03-16T13:13:13.521039Z"
    }
   },
   "outputs": [],
   "source": [
    "base_dir = 'data/'\n",
    "if not os.path.exists(base_dir):  # создадим папку, куда будем сохранять модели, и где будут лежать данные\n",
    "    os.makedirs(base_dir)"
   ]
  },
  {
   "cell_type": "code",
   "execution_count": 4,
   "id": "1db05a48bd6571f2",
   "metadata": {
    "ExecuteTime": {
     "end_time": "2024-03-16T13:13:13.908022Z",
     "start_time": "2024-03-16T13:13:13.543410Z"
    }
   },
   "outputs": [
    {
     "data": {
      "text/html": [
       "<div>\n",
       "<style scoped>\n",
       "    .dataframe tbody tr th:only-of-type {\n",
       "        vertical-align: middle;\n",
       "    }\n",
       "\n",
       "    .dataframe tbody tr th {\n",
       "        vertical-align: top;\n",
       "    }\n",
       "\n",
       "    .dataframe thead th {\n",
       "        text-align: right;\n",
       "    }\n",
       "</style>\n",
       "<table border=\"1\" class=\"dataframe\">\n",
       "  <thead>\n",
       "    <tr style=\"text-align: right;\">\n",
       "      <th></th>\n",
       "      <th>document.id</th>\n",
       "      <th>source</th>\n",
       "      <th>stage</th>\n",
       "      <th>source_text</th>\n",
       "      <th>lemm_text</th>\n",
       "      <th>city</th>\n",
       "      <th>region</th>\n",
       "      <th>date</th>\n",
       "    </tr>\n",
       "  </thead>\n",
       "  <tbody>\n",
       "    <tr>\n",
       "      <th>11474</th>\n",
       "      <td>983823112</td>\n",
       "      <td>iqbuzz</td>\n",
       "      <td>3</td>\n",
       "      <td>&lt;b&gt;коряк&lt;/b&gt; жесткий, смотреть всем))) &lt;a href...</td>\n",
       "      <td>коряк жёсткий смотреть hollaback girl this my ...</td>\n",
       "      <td>Якутск</td>\n",
       "      <td>Саха /Якутия/</td>\n",
       "      <td>2015-08-01</td>\n",
       "    </tr>\n",
       "    <tr>\n",
       "      <th>11886</th>\n",
       "      <td>1029357790</td>\n",
       "      <td>iqbuzz</td>\n",
       "      <td>3</td>\n",
       "      <td>А русский язык и русская культура как обьединя...</td>\n",
       "      <td>русский язык русский культура обьединять ранни...</td>\n",
       "      <td>Москва</td>\n",
       "      <td>Москва</td>\n",
       "      <td>2015-09-17</td>\n",
       "    </tr>\n",
       "    <tr>\n",
       "      <th>2764</th>\n",
       "      <td>1109872488</td>\n",
       "      <td>iqbuzz</td>\n",
       "      <td>2</td>\n",
       "      <td>barmalei писал(а): Это нужно спросить у местны...</td>\n",
       "      <td>re флудильнуть barmalei писать нужно спросить ...</td>\n",
       "      <td>NaN</td>\n",
       "      <td>NaN</td>\n",
       "      <td>2015-02-08</td>\n",
       "    </tr>\n",
       "  </tbody>\n",
       "</table>\n",
       "</div>"
      ],
      "text/plain": [
       "       document.id  source  stage  \\\n",
       "11474    983823112  iqbuzz      3   \n",
       "11886   1029357790  iqbuzz      3   \n",
       "2764    1109872488  iqbuzz      2   \n",
       "\n",
       "                                             source_text  \\\n",
       "11474  <b>коряк</b> жесткий, смотреть всем))) <a href...   \n",
       "11886  А русский язык и русская культура как обьединя...   \n",
       "2764   barmalei писал(а): Это нужно спросить у местны...   \n",
       "\n",
       "                                               lemm_text    city  \\\n",
       "11474  коряк жёсткий смотреть hollaback girl this my ...  Якутск   \n",
       "11886  русский язык русский культура обьединять ранни...  Москва   \n",
       "2764   re флудильнуть barmalei писать нужно спросить ...     NaN   \n",
       "\n",
       "              region        date  \n",
       "11474  Саха /Якутия/  2015-08-01  \n",
       "11886         Москва  2015-09-17  \n",
       "2764             NaN  2015-02-08  "
      ]
     },
     "execution_count": 4,
     "metadata": {},
     "output_type": "execute_result"
    }
   ],
   "source": [
    "texts = pd.read_csv(f'{base_dir}texts_and_metadata.txt', sep='\\t')\n",
    "texts.sample(3)"
   ]
  },
  {
   "cell_type": "code",
   "execution_count": 5,
   "id": "2f8c930af33a5b55",
   "metadata": {
    "ExecuteTime": {
     "end_time": "2024-03-16T13:13:15.058581Z",
     "start_time": "2024-03-16T13:13:13.910030Z"
    }
   },
   "outputs": [
    {
     "data": {
      "text/html": [
       "<div>\n",
       "<style scoped>\n",
       "    .dataframe tbody tr th:only-of-type {\n",
       "        vertical-align: middle;\n",
       "    }\n",
       "\n",
       "    .dataframe tbody tr th {\n",
       "        vertical-align: top;\n",
       "    }\n",
       "\n",
       "    .dataframe thead th {\n",
       "        text-align: right;\n",
       "    }\n",
       "</style>\n",
       "<table border=\"1\" class=\"dataframe\">\n",
       "  <thead>\n",
       "    <tr style=\"text-align: right;\">\n",
       "      <th></th>\n",
       "      <th>document.id</th>\n",
       "      <th>source</th>\n",
       "      <th>stage</th>\n",
       "      <th>data</th>\n",
       "      <th>assessor</th>\n",
       "      <th>seed_eth_group</th>\n",
       "      <th>for_questions_about_text</th>\n",
       "      <th>do_text_make_sense_raw</th>\n",
       "      <th>do_text_make_sense_recoded</th>\n",
       "      <th>has_ethnonym_raw</th>\n",
       "      <th>...</th>\n",
       "      <th>represent_ethicity_raw</th>\n",
       "      <th>represent_ethicity_meaning</th>\n",
       "      <th>is_ethicity_superior_raw</th>\n",
       "      <th>is_ethicity_superior_meaning</th>\n",
       "      <th>is_ethicity_aggressor_raw</th>\n",
       "      <th>is_ethicity_aggressor_meaning</th>\n",
       "      <th>is_ethicity_dangerous_raw</th>\n",
       "      <th>is_ethicity_dangerous_meaning</th>\n",
       "      <th>comment</th>\n",
       "      <th>old_id</th>\n",
       "    </tr>\n",
       "  </thead>\n",
       "  <tbody>\n",
       "    <tr>\n",
       "      <th>65099</th>\n",
       "      <td>580482676</td>\n",
       "      <td>iqbuzz</td>\n",
       "      <td>2</td>\n",
       "      <td>2016-10-14 13:06:51</td>\n",
       "      <td>Tankly</td>\n",
       "      <td>карачаевец</td>\n",
       "      <td>0</td>\n",
       "      <td>yes</td>\n",
       "      <td>1</td>\n",
       "      <td>several</td>\n",
       "      <td>...</td>\n",
       "      <td>2.0</td>\n",
       "      <td>unk</td>\n",
       "      <td>3.0</td>\n",
       "      <td>irrel</td>\n",
       "      <td>3.0</td>\n",
       "      <td>irrel</td>\n",
       "      <td>1.0</td>\n",
       "      <td>no</td>\n",
       "      <td>'Другое' = 'шапсуги', 'калаши', 'курейшиты', '...</td>\n",
       "      <td>карачаевский_57</td>\n",
       "    </tr>\n",
       "    <tr>\n",
       "      <th>78810</th>\n",
       "      <td>750751530</td>\n",
       "      <td>iqbuzz</td>\n",
       "      <td>2</td>\n",
       "      <td>2016-10-14 17:38:13</td>\n",
       "      <td>Tankly</td>\n",
       "      <td>уйгур</td>\n",
       "      <td>0</td>\n",
       "      <td>yes</td>\n",
       "      <td>1</td>\n",
       "      <td>several</td>\n",
       "      <td>...</td>\n",
       "      <td>1.0</td>\n",
       "      <td>no</td>\n",
       "      <td>3.0</td>\n",
       "      <td>irrel</td>\n",
       "      <td>3.0</td>\n",
       "      <td>irrel</td>\n",
       "      <td>1.0</td>\n",
       "      <td>no</td>\n",
       "      <td>NaN</td>\n",
       "      <td>уйгур_137</td>\n",
       "    </tr>\n",
       "    <tr>\n",
       "      <th>48362</th>\n",
       "      <td>1032712556</td>\n",
       "      <td>iqbuzz</td>\n",
       "      <td>3</td>\n",
       "      <td>2017-04-02 14:42:29</td>\n",
       "      <td>adzhigitova</td>\n",
       "      <td>аварец</td>\n",
       "      <td>1</td>\n",
       "      <td>yes</td>\n",
       "      <td>1</td>\n",
       "      <td>several</td>\n",
       "      <td>...</td>\n",
       "      <td>2.0</td>\n",
       "      <td>unk</td>\n",
       "      <td>3.0</td>\n",
       "      <td>irrel</td>\n",
       "      <td>3.0</td>\n",
       "      <td>irrel</td>\n",
       "      <td>1.0</td>\n",
       "      <td>no</td>\n",
       "      <td>NaN</td>\n",
       "      <td>1032712556</td>\n",
       "    </tr>\n",
       "  </tbody>\n",
       "</table>\n",
       "<p>3 rows × 56 columns</p>\n",
       "</div>"
      ],
      "text/plain": [
       "       document.id  source  stage                 data     assessor  \\\n",
       "65099    580482676  iqbuzz      2  2016-10-14 13:06:51       Tankly   \n",
       "78810    750751530  iqbuzz      2  2016-10-14 17:38:13       Tankly   \n",
       "48362   1032712556  iqbuzz      3  2017-04-02 14:42:29  adzhigitova   \n",
       "\n",
       "      seed_eth_group  for_questions_about_text do_text_make_sense_raw  \\\n",
       "65099     карачаевец                         0                    yes   \n",
       "78810          уйгур                         0                    yes   \n",
       "48362         аварец                         1                    yes   \n",
       "\n",
       "       do_text_make_sense_recoded has_ethnonym_raw  ...  \\\n",
       "65099                           1          several  ...   \n",
       "78810                           1          several  ...   \n",
       "48362                           1          several  ...   \n",
       "\n",
       "      represent_ethicity_raw represent_ethicity_meaning  \\\n",
       "65099                    2.0                        unk   \n",
       "78810                    1.0                         no   \n",
       "48362                    2.0                        unk   \n",
       "\n",
       "      is_ethicity_superior_raw is_ethicity_superior_meaning  \\\n",
       "65099                      3.0                        irrel   \n",
       "78810                      3.0                        irrel   \n",
       "48362                      3.0                        irrel   \n",
       "\n",
       "      is_ethicity_aggressor_raw  is_ethicity_aggressor_meaning  \\\n",
       "65099                       3.0                          irrel   \n",
       "78810                       3.0                          irrel   \n",
       "48362                       3.0                          irrel   \n",
       "\n",
       "       is_ethicity_dangerous_raw  is_ethicity_dangerous_meaning  \\\n",
       "65099                        1.0                             no   \n",
       "78810                        1.0                             no   \n",
       "48362                        1.0                             no   \n",
       "\n",
       "                                                 comment           old_id  \n",
       "65099  'Другое' = 'шапсуги', 'калаши', 'курейшиты', '...  карачаевский_57  \n",
       "78810                                                NaN        уйгур_137  \n",
       "48362                                                NaN       1032712556  \n",
       "\n",
       "[3 rows x 56 columns]"
      ]
     },
     "execution_count": 5,
     "metadata": {},
     "output_type": "execute_result"
    }
   ],
   "source": [
    "data = pd.read_csv(f'{base_dir}coding_results.txt', low_memory=False, sep='\\t')\n",
    "data.sample(3)"
   ]
  },
  {
   "cell_type": "code",
   "execution_count": 6,
   "id": "21d27009f3a04da6",
   "metadata": {
    "ExecuteTime": {
     "end_time": "2024-03-16T13:13:15.207178Z",
     "start_time": "2024-03-16T13:13:15.059593Z"
    }
   },
   "outputs": [
    {
     "data": {
      "text/html": [
       "<div>\n",
       "<style scoped>\n",
       "    .dataframe tbody tr th:only-of-type {\n",
       "        vertical-align: middle;\n",
       "    }\n",
       "\n",
       "    .dataframe tbody tr th {\n",
       "        vertical-align: top;\n",
       "    }\n",
       "\n",
       "    .dataframe thead th {\n",
       "        text-align: right;\n",
       "    }\n",
       "</style>\n",
       "<table border=\"1\" class=\"dataframe\">\n",
       "  <thead>\n",
       "    <tr style=\"text-align: right;\">\n",
       "      <th></th>\n",
       "      <th>document.id</th>\n",
       "      <th>source</th>\n",
       "      <th>stage</th>\n",
       "      <th>source_text</th>\n",
       "      <th>lemm_text</th>\n",
       "      <th>city</th>\n",
       "      <th>region</th>\n",
       "      <th>date</th>\n",
       "      <th>data</th>\n",
       "      <th>assessor</th>\n",
       "      <th>...</th>\n",
       "      <th>represent_ethicity_raw</th>\n",
       "      <th>represent_ethicity_meaning</th>\n",
       "      <th>is_ethicity_superior_raw</th>\n",
       "      <th>is_ethicity_superior_meaning</th>\n",
       "      <th>is_ethicity_aggressor_raw</th>\n",
       "      <th>is_ethicity_aggressor_meaning</th>\n",
       "      <th>is_ethicity_dangerous_raw</th>\n",
       "      <th>is_ethicity_dangerous_meaning</th>\n",
       "      <th>comment</th>\n",
       "      <th>old_id</th>\n",
       "    </tr>\n",
       "  </thead>\n",
       "  <tbody>\n",
       "    <tr>\n",
       "      <th>76824</th>\n",
       "      <td>1106747861</td>\n",
       "      <td>iqbuzz</td>\n",
       "      <td>3</td>\n",
       "      <td>На небе засияло ВИФЛЕЕМСКАЯ ЗВЕЗДА и главный м...</td>\n",
       "      <td>небо засиять вифлеемский звезда главный мудрец...</td>\n",
       "      <td>Москва</td>\n",
       "      <td>Москва</td>\n",
       "      <td>2015-11-27</td>\n",
       "      <td>2017-04-02 02:15:21</td>\n",
       "      <td>skuchilina</td>\n",
       "      <td>...</td>\n",
       "      <td>1.0</td>\n",
       "      <td>no</td>\n",
       "      <td>3.0</td>\n",
       "      <td>irrel</td>\n",
       "      <td>3.0</td>\n",
       "      <td>irrel</td>\n",
       "      <td>1.0</td>\n",
       "      <td>no</td>\n",
       "      <td>Другой: булгары</td>\n",
       "      <td>1106747861</td>\n",
       "    </tr>\n",
       "    <tr>\n",
       "      <th>23054</th>\n",
       "      <td>882980196</td>\n",
       "      <td>iqbuzz</td>\n",
       "      <td>2</td>\n",
       "      <td>У К. Бальмонта наверное стих про других русски...</td>\n",
       "      <td>бальмонт наверное стихнуть про другой этот сти...</td>\n",
       "      <td>NaN</td>\n",
       "      <td>NaN</td>\n",
       "      <td>2015-05-01</td>\n",
       "      <td>2016-10-13 20:41:17</td>\n",
       "      <td>Tankly</td>\n",
       "      <td>...</td>\n",
       "      <td>2.0</td>\n",
       "      <td>unk</td>\n",
       "      <td>3.0</td>\n",
       "      <td>irrel</td>\n",
       "      <td>3.0</td>\n",
       "      <td>irrel</td>\n",
       "      <td>1.0</td>\n",
       "      <td>no</td>\n",
       "      <td>NaN</td>\n",
       "      <td>русич_120</td>\n",
       "    </tr>\n",
       "    <tr>\n",
       "      <th>18568</th>\n",
       "      <td>1073645535</td>\n",
       "      <td>iqbuzz</td>\n",
       "      <td>2</td>\n",
       "      <td>Цитата(Kuzja @ 28.10.2015, 18:01) Ко мне подкр...</td>\n",
       "      <td>re осенний зов цитата kuzja подкрадываться бол...</td>\n",
       "      <td>NaN</td>\n",
       "      <td>NaN</td>\n",
       "      <td>2015-10-28</td>\n",
       "      <td>2016-10-09 23:49:46</td>\n",
       "      <td>an_men</td>\n",
       "      <td>...</td>\n",
       "      <td>NaN</td>\n",
       "      <td>NaN</td>\n",
       "      <td>NaN</td>\n",
       "      <td>NaN</td>\n",
       "      <td>NaN</td>\n",
       "      <td>NaN</td>\n",
       "      <td>NaN</td>\n",
       "      <td>NaN</td>\n",
       "      <td>NaN</td>\n",
       "      <td>мариец_8</td>\n",
       "    </tr>\n",
       "    <tr>\n",
       "      <th>40145</th>\n",
       "      <td>700084544</td>\n",
       "      <td>iqbuzz</td>\n",
       "      <td>3</td>\n",
       "      <td>Стойбище народа &lt;b&gt;Саамы&lt;/b&gt;: &lt;b&gt;&lt;font color=\\...</td>\n",
       "      <td>стойбище народ саам шикарный уха олень катание...</td>\n",
       "      <td>Санкт-Петербург</td>\n",
       "      <td>Санкт-Петербург</td>\n",
       "      <td>2015-01-08</td>\n",
       "      <td>2017-03-17 10:26:24</td>\n",
       "      <td>DariaN</td>\n",
       "      <td>...</td>\n",
       "      <td>NaN</td>\n",
       "      <td>NaN</td>\n",
       "      <td>NaN</td>\n",
       "      <td>NaN</td>\n",
       "      <td>NaN</td>\n",
       "      <td>NaN</td>\n",
       "      <td>NaN</td>\n",
       "      <td>NaN</td>\n",
       "      <td>NaN</td>\n",
       "      <td>700084544</td>\n",
       "    </tr>\n",
       "    <tr>\n",
       "      <th>46688</th>\n",
       "      <td>754363727</td>\n",
       "      <td>iqbuzz</td>\n",
       "      <td>3</td>\n",
       "      <td>14 марта на вечеринку в дворянском стиле (бал-...</td>\n",
       "      <td>март вечеринка дворянский стиль нужный цыган д...</td>\n",
       "      <td>Москва</td>\n",
       "      <td>Москва</td>\n",
       "      <td>2015-02-10</td>\n",
       "      <td>2017-03-28 19:09:27</td>\n",
       "      <td>DariaN</td>\n",
       "      <td>...</td>\n",
       "      <td>NaN</td>\n",
       "      <td>NaN</td>\n",
       "      <td>NaN</td>\n",
       "      <td>NaN</td>\n",
       "      <td>NaN</td>\n",
       "      <td>NaN</td>\n",
       "      <td>NaN</td>\n",
       "      <td>NaN</td>\n",
       "      <td>NaN</td>\n",
       "      <td>754363727</td>\n",
       "    </tr>\n",
       "  </tbody>\n",
       "</table>\n",
       "<p>5 rows × 61 columns</p>\n",
       "</div>"
      ],
      "text/plain": [
       "       document.id  source  stage  \\\n",
       "76824   1106747861  iqbuzz      3   \n",
       "23054    882980196  iqbuzz      2   \n",
       "18568   1073645535  iqbuzz      2   \n",
       "40145    700084544  iqbuzz      3   \n",
       "46688    754363727  iqbuzz      3   \n",
       "\n",
       "                                             source_text  \\\n",
       "76824  На небе засияло ВИФЛЕЕМСКАЯ ЗВЕЗДА и главный м...   \n",
       "23054  У К. Бальмонта наверное стих про других русски...   \n",
       "18568  Цитата(Kuzja @ 28.10.2015, 18:01) Ко мне подкр...   \n",
       "40145  Стойбище народа <b>Саамы</b>: <b><font color=\\...   \n",
       "46688  14 марта на вечеринку в дворянском стиле (бал-...   \n",
       "\n",
       "                                               lemm_text             city  \\\n",
       "76824  небо засиять вифлеемский звезда главный мудрец...           Москва   \n",
       "23054  бальмонт наверное стихнуть про другой этот сти...              NaN   \n",
       "18568  re осенний зов цитата kuzja подкрадываться бол...              NaN   \n",
       "40145  стойбище народ саам шикарный уха олень катание...  Санкт-Петербург   \n",
       "46688  март вечеринка дворянский стиль нужный цыган д...           Москва   \n",
       "\n",
       "                region        date                 data    assessor  ...  \\\n",
       "76824           Москва  2015-11-27  2017-04-02 02:15:21  skuchilina  ...   \n",
       "23054              NaN  2015-05-01  2016-10-13 20:41:17      Tankly  ...   \n",
       "18568              NaN  2015-10-28  2016-10-09 23:49:46      an_men  ...   \n",
       "40145  Санкт-Петербург  2015-01-08  2017-03-17 10:26:24      DariaN  ...   \n",
       "46688           Москва  2015-02-10  2017-03-28 19:09:27      DariaN  ...   \n",
       "\n",
       "      represent_ethicity_raw  represent_ethicity_meaning  \\\n",
       "76824                    1.0                          no   \n",
       "23054                    2.0                         unk   \n",
       "18568                    NaN                         NaN   \n",
       "40145                    NaN                         NaN   \n",
       "46688                    NaN                         NaN   \n",
       "\n",
       "      is_ethicity_superior_raw  is_ethicity_superior_meaning  \\\n",
       "76824                      3.0                         irrel   \n",
       "23054                      3.0                         irrel   \n",
       "18568                      NaN                           NaN   \n",
       "40145                      NaN                           NaN   \n",
       "46688                      NaN                           NaN   \n",
       "\n",
       "      is_ethicity_aggressor_raw is_ethicity_aggressor_meaning  \\\n",
       "76824                       3.0                         irrel   \n",
       "23054                       3.0                         irrel   \n",
       "18568                       NaN                           NaN   \n",
       "40145                       NaN                           NaN   \n",
       "46688                       NaN                           NaN   \n",
       "\n",
       "      is_ethicity_dangerous_raw is_ethicity_dangerous_meaning  \\\n",
       "76824                       1.0                            no   \n",
       "23054                       1.0                            no   \n",
       "18568                       NaN                           NaN   \n",
       "40145                       NaN                           NaN   \n",
       "46688                       NaN                           NaN   \n",
       "\n",
       "               comment      old_id  \n",
       "76824  Другой: булгары  1106747861  \n",
       "23054              NaN   русич_120  \n",
       "18568              NaN    мариец_8  \n",
       "40145              NaN   700084544  \n",
       "46688              NaN   754363727  \n",
       "\n",
       "[5 rows x 61 columns]"
      ]
     },
     "execution_count": 6,
     "metadata": {},
     "output_type": "execute_result"
    }
   ],
   "source": [
    "df = texts.merge(data, how='left')\n",
    "df.sample(5)"
   ]
  },
  {
   "cell_type": "code",
   "execution_count": 7,
   "id": "88b555a29fca8ead",
   "metadata": {
    "ExecuteTime": {
     "end_time": "2024-03-16T13:13:15.216414Z",
     "start_time": "2024-03-16T13:13:15.209247Z"
    }
   },
   "outputs": [
    {
     "data": {
      "text/plain": [
       "(84784, 61)"
      ]
     },
     "execution_count": 7,
     "metadata": {},
     "output_type": "execute_result"
    }
   ],
   "source": [
    "df.shape"
   ]
  },
  {
   "cell_type": "code",
   "execution_count": 8,
   "id": "b0f58a43b9d2bc2e",
   "metadata": {
    "ExecuteTime": {
     "end_time": "2024-03-16T13:13:15.232899Z",
     "start_time": "2024-03-16T13:13:15.218424Z"
    }
   },
   "outputs": [
    {
     "data": {
      "text/plain": [
       "do_text_make_sense_raw\n",
       "yes     78372\n",
       "no       4334\n",
       "lang     1890\n",
       "joke      188\n",
       "Name: count, dtype: int64"
      ]
     },
     "execution_count": 8,
     "metadata": {},
     "output_type": "execute_result"
    }
   ],
   "source": [
    "df['do_text_make_sense_raw'].value_counts()"
   ]
  },
  {
   "cell_type": "code",
   "execution_count": 9,
   "id": "c59bb0d5a199388a",
   "metadata": {
    "ExecuteTime": {
     "end_time": "2024-03-16T13:13:15.300951Z",
     "start_time": "2024-03-16T13:13:15.234907Z"
    }
   },
   "outputs": [],
   "source": [
    "df.drop(df[df['do_text_make_sense_raw'] == 'no'].index, inplace=True)"
   ]
  },
  {
   "cell_type": "code",
   "execution_count": 10,
   "id": "7617fdd2aa60b7dc",
   "metadata": {
    "ExecuteTime": {
     "end_time": "2024-03-16T13:13:15.410364Z",
     "start_time": "2024-03-16T13:13:15.302029Z"
    }
   },
   "outputs": [],
   "source": [
    "ops = ['is_text_positive_recoded', 'is_text_neg_recoded']\n",
    "df[ops] = df[ops].apply(pd.to_numeric, errors='coerce')\n",
    "pos_ = df['is_text_positive_recoded']\n",
    "neg_ = df['is_text_neg_recoded']\n",
    "df.loc[(pos_ > 0) & (neg_ < 0), ops] = None\n",
    "df.loc[neg_ < 0, 'text_sentiment'] = -1\n",
    "df.loc[pos_ > 0, 'text_sentiment'] = 1\n",
    "df.loc[(neg_ == 0) & (pos_ == 0), 'text_sentiment'] = 0"
   ]
  },
  {
   "cell_type": "code",
   "execution_count": 11,
   "id": "48d83b3240a39054",
   "metadata": {
    "ExecuteTime": {
     "end_time": "2024-03-16T13:13:15.423634Z",
     "start_time": "2024-03-16T13:13:15.411371Z"
    }
   },
   "outputs": [
    {
     "data": {
      "text/plain": [
       "7"
      ]
     },
     "execution_count": 11,
     "metadata": {},
     "output_type": "execute_result"
    }
   ],
   "source": [
    "args = ['text_sentiment', 'has_eth_conflict_raw', 'has_pos_eth_interaction_raw', 'opinion_about_ethnonym_recoded',\n",
    "        'is_ethicity_superior_meaning', 'is_ethicity_aggressor_meaning',\n",
    "        'is_ethicity_dangerous_meaning']\n",
    "MAX_SPOIL = len(args)\n",
    "topic_to_russian = {'culture': 'культура', 'economics': 'экономика', 'ethicity': 'этничность', 'history': 'история',\n",
    "                    'humour': 'юмор', 'daily_routine': 'рутина', 'migration': 'миграция', 'other': 'другая',\n",
    "                    'politics': 'политика', 'religion': 'религия', 'society_social': 'социальная'}\n",
    "MAX_SPOIL"
   ]
  },
  {
   "cell_type": "code",
   "execution_count": 12,
   "id": "7d0e23cfe874429a",
   "metadata": {
    "ExecuteTime": {
     "end_time": "2024-03-16T13:13:15.442493Z",
     "start_time": "2024-03-16T13:13:15.425761Z"
    }
   },
   "outputs": [
    {
     "data": {
      "text/plain": [
       "has_pos_eth_interaction_raw\n",
       "no     62783\n",
       "yes    13603\n",
       "unk     1986\n",
       "Name: count, dtype: int64"
      ]
     },
     "execution_count": 12,
     "metadata": {},
     "output_type": "execute_result"
    }
   ],
   "source": [
    "df['has_pos_eth_interaction_raw'].value_counts()"
   ]
  },
  {
   "cell_type": "code",
   "execution_count": 13,
   "id": "e1e43c1fbfeba1c9",
   "metadata": {
    "ExecuteTime": {
     "end_time": "2024-03-16T13:13:15.461785Z",
     "start_time": "2024-03-16T13:13:15.446513Z"
    }
   },
   "outputs": [],
   "source": [
    "var_vocab = {\n",
    "    'text_sentiment': {'labels': {-1.0: 'этот текст является негативным', 0: 'этот текст является нейтральным',\n",
    "                                  1.0: 'этот текст является позитивным'}, 'aspect_level': False, 'prompt': 'тональность текста'},\n",
    "    'has_eth_conflict_raw': {\n",
    "        'labels': {'yes': 'в тексте есть этнический конфликт', 'no': 'в тексте этнический конфликт отсутствует',\n",
    "                   'unk': None},\n",
    "        'aspect_level': False, 'prompt': 'оцени наличие этнического конфликта'},\n",
    "    'has_pos_eth_interaction_raw': {'labels': {'yes': 'в тексте есть позитивное взаимодействие между этичностями',\n",
    "                                               'no': 'в тексте не зафиксировано позитивного взаимодействия этичностей',\n",
    "                                               'unk': None},\n",
    "                                    'aspect_level': False, 'prompt': 'наличие позитивного взаимодействия этничностей'},\n",
    "    'opinion_about_ethnonym_recoded': {'labels': {-1: 'мнение об этничности \\'{}\\' отрицательное',\n",
    "                                                  0: 'мнение об этничности \\'{}\\' нейтральное или не зафиксировано',\n",
    "                                                  1: 'мнение об этничности \\'{}\\' положительное'},\n",
    "                                       'aspect_level': True, 'prompt': 'мнение о {} в тексте'},\n",
    "    # 'represent_ethicity_meaning': {'labels': {}, 'aspect_level': True}, # not using yet\n",
    "    'is_ethicity_superior_meaning': {'labels': {'high': 'этничность \\'{}\\' является доминирующей',\n",
    "                                                'low': 'этничность \\'{}\\' является отчасти доминирующей',\n",
    "                                                'irrel': None},\n",
    "                                     'aspect_level': True, 'prompt': 'является ли этничность {} доминирующей'},\n",
    "    'is_ethicity_aggressor_meaning': {'labels': {'agressor':\n",
    "                                                     'этничность \\'{}\\' является агрессором',\n",
    "                                                 'victim': 'этничность \\'{}\\' является жертвой',\n",
    "                                                 'irrel': None},\n",
    "                                      'aspect_level': True, 'prompt': 'является ли этничность {} агрессором'},\n",
    "    'is_ethicity_dangerous_meaning': {\n",
    "        'labels': {'yes': 'этничность \\'{}\\' является опасной',\n",
    "                   'no': 'этничность \\'{}\\' не является опасной',\n",
    "                   'irrel': None},\n",
    "        'aspect_level': True, 'prompt': 'является ли этничность {} опасной'},\n",
    "}"
   ]
  },
  {
   "cell_type": "code",
   "execution_count": 14,
   "id": "635bdb29566bc788",
   "metadata": {
    "ExecuteTime": {
     "end_time": "2024-03-16T13:13:16.195368Z",
     "start_time": "2024-03-16T13:13:15.468912Z"
    }
   },
   "outputs": [],
   "source": [
    "df = df.fillna(np.nan).replace([np.nan], [None])"
   ]
  },
  {
   "cell_type": "code",
   "execution_count": 15,
   "id": "daa93c289140e12",
   "metadata": {
    "ExecuteTime": {
     "end_time": "2024-03-16T13:13:16.204529Z",
     "start_time": "2024-03-16T13:13:16.196382Z"
    }
   },
   "outputs": [
    {
     "data": {
      "text/plain": [
       "(14196,)"
      ]
     },
     "execution_count": 15,
     "metadata": {},
     "output_type": "execute_result"
    }
   ],
   "source": [
    "ids = df['document.id'].unique()\n",
    "ids.shape  # 14196 после дропа по do_text_make_sence = no"
   ]
  },
  {
   "cell_type": "code",
   "execution_count": 16,
   "id": "9351aae9-4899-4fdd-b31a-d67037ce6e1e",
   "metadata": {},
   "outputs": [
    {
     "name": "stderr",
     "output_type": "stream",
     "text": [
      "<>:3: SyntaxWarning: invalid escape sequence '\\['\n",
      "<>:3: SyntaxWarning: invalid escape sequence '\\['\n",
      "C:\\Users\\bentodan\\AppData\\Local\\Temp\\ipykernel_11952\\3087058704.py:3: SyntaxWarning: invalid escape sequence '\\['\n",
      "  CLEANR = [re.compile('<.*?>'), re.compile(\"\\[.*?\\]\")]\n"
     ]
    }
   ],
   "source": [
    "def clean(text):\n",
    "    text = text.apply(lambda x: str(x))\n",
    "    CLEANR = [re.compile('<.*?>'), re.compile(\"\\[.*?\\]\")]\n",
    "    for i in CLEANR:\n",
    "        text = text.apply(lambda x: re.sub(i, '', x))\n",
    "    text = text.apply(lambda x: x.replace('\\\\', ''))\n",
    "    text = text.apply(lambda x: re.sub(r\"([\" + re.escape(string.punctuation) + r\"])\\1+\", r\"\\1\", x))\n",
    "    text = text.apply(lambda x: re.sub(r\"http\\S+\", '', x))\n",
    "    text = text.apply(lambda x: re.sub(r\"\\r\", '', x))\n",
    "    text = text.apply(lambda x: re.sub(r'\\s+', ' ', x))\n",
    "    text = text.apply(lambda x: re.sub(r'\\s+', ' ', x))\n",
    "    text = text.apply(lambda x: re.sub('\"+','\"', x))\n",
    "    text = text.apply(lambda x: re.sub(\"'+\",\"'\", x))\n",
    "    items = string.punctuation + \" \"\n",
    "    text = text.apply(lambda x: x.lstrip(items) if isinstance(x, str) else x)\n",
    "    return text"
   ]
  },
  {
   "cell_type": "code",
   "execution_count": 17,
   "id": "da95d743-aa5f-4bc0-9b57-6bd0eda39588",
   "metadata": {},
   "outputs": [],
   "source": [
    "df['source_text'] = clean(df['source_text'])"
   ]
  },
  {
   "cell_type": "code",
   "execution_count": 18,
   "id": "14d872e3-023c-4db1-94cb-3c6096e6b346",
   "metadata": {},
   "outputs": [
    {
     "data": {
      "text/plain": [
       "'но у вас же бред написан. Какими русскими? Вообще то там грузины воевали с Абхазами. Это исторический факт. А статья может быть на 10% правдива. Почему вы верите, какой-то статье?'"
      ]
     },
     "execution_count": 18,
     "metadata": {},
     "output_type": "execute_result"
    }
   ],
   "source": [
    "df['source_text'][0]"
   ]
  },
  {
   "cell_type": "code",
   "execution_count": 19,
   "id": "731b6e0a7c036836",
   "metadata": {
    "ExecuteTime": {
     "end_time": "2024-03-16T13:13:16.215940Z",
     "start_time": "2024-03-16T13:13:16.205497Z"
    }
   },
   "outputs": [],
   "source": [
    "preprocessor = Preprocessor.Preprocessor(df=df, args=args, var_vocab=var_vocab, topic_to_russian=topic_to_russian)"
   ]
  },
  {
   "cell_type": "code",
   "execution_count": 20,
   "id": "319dfcf6ad5c50e8",
   "metadata": {
    "ExecuteTime": {
     "end_time": "2024-03-16T13:13:16.235982Z",
     "start_time": "2024-03-16T13:13:16.217936Z"
    }
   },
   "outputs": [
    {
     "name": "stdout",
     "output_type": "stream",
     "text": [
      "278590\n",
      "в тексте этнический конфликт отсутствует, в тексте не зафиксировано позитивного взаимодействия этичностей\n",
      "\n",
      "News | Футболисты «Анжи» — в национальной и молодёжной сборных РоссииТренерский штаб сборной России определился с окончательным списком из 25 футболистов, которые будут готовиться к матчу отборочного турнира чемпионата мира 2014 года против Северной Ирландии (22 марта) и товарищеской игре с бразильцами (25 марта).В этом списке 5 футболистов «Анжи»: Владимир Габулов, Андрей Ещенко, Арсений Логашов, Юрий Жирков, Олег Шатов.Тем временем форвард «Анжи» Фёдор Смолов приглашен в молодёжную сборную России, которая будет готовиться к ближайшим товарищеским матчам. 22 марта россияне сыграют с молодёжной сборной Италии, а 25 марта — с молодёжной сборной Испании.#Анжи #Anj\n"
     ]
    }
   ],
   "source": [
    "id_ = df['document.id'].sample().values[0]\n",
    "descr, text = preprocessor.fit(id_)\n",
    "print(id_, descr, text, sep='\\n')"
   ]
  },
  {
   "cell_type": "code",
   "execution_count": 21,
   "id": "d26a4ba13ca497f0",
   "metadata": {
    "ExecuteTime": {
     "end_time": "2024-03-16T13:13:16.249176Z",
     "start_time": "2024-03-16T13:13:16.237995Z"
    }
   },
   "outputs": [
    {
     "name": "stdout",
     "output_type": "stream",
     "text": [
      "в тексте этнический конфликт отсутствует, в тексте не зафиксировано позитивного взаимодействия этичностей\n",
      "\n",
      "в тексте есть этнический конфликт\n",
      "\n"
     ]
    }
   ],
   "source": [
    "descr_spoiled, text = preprocessor.fit(id_, spoil_size=len(preprocessor.args))\n",
    "print(descr, descr_spoiled, sep='\\n')"
   ]
  },
  {
   "cell_type": "code",
   "execution_count": 22,
   "id": "692e8a6ac50e1b93",
   "metadata": {
    "ExecuteTime": {
     "end_time": "2024-03-16T13:13:16.276722Z",
     "start_time": "2024-03-16T13:13:16.250194Z"
    }
   },
   "outputs": [
    {
     "name": "stdout",
     "output_type": "stream",
     "text": [
      "в тексте этнический конфликт отсутствует, в тексте не зафиксировано позитивного взаимодействия этичностей\n",
      "\n",
      "в тексте этнический конфликт отсутствует, в тексте не зафиксировано позитивного взаимодействия этичностей\n",
      "\n"
     ]
    }
   ],
   "source": [
    "descr_topics, _ = preprocessor.fit(id_, topic=True)\n",
    "descr_topics_spoiled, _ = preprocessor.fit(id_, topic=True, topic_spoil=1)\n",
    "print(descr_topics, descr_topics_spoiled, sep='\\n')"
   ]
  },
  {
   "cell_type": "markdown",
   "id": "4843d60bf53dd986",
   "metadata": {},
   "source": [
    "### Custom dataset <a class=\"anchor\" id=\"c3\"></a>"
   ]
  },
  {
   "cell_type": "code",
   "execution_count": 23,
   "id": "bdd2ab92586b4300",
   "metadata": {
    "ExecuteTime": {
     "end_time": "2024-03-16T13:13:16.352614Z",
     "start_time": "2024-03-16T13:13:16.277734Z"
    }
   },
   "outputs": [
    {
     "data": {
      "text/plain": [
       "((47999, 62), (16170, 62), (16281, 62))"
      ]
     },
     "execution_count": 23,
     "metadata": {},
     "output_type": "execute_result"
    }
   ],
   "source": [
    "process_ids, test_ids = train_test_split(ids, test_size=0.2, random_state=RANDOM_STATE)\n",
    "train_ids, validate_ids = train_test_split(process_ids, train_size=0.75, random_state=RANDOM_STATE)\n",
    "\n",
    "train = df.loc[df['document.id'].isin(train_ids)]\n",
    "test = df.loc[df['document.id'].isin(test_ids)]\n",
    "validate = df.loc[df['document.id'].isin(validate_ids)]\n",
    "train.shape, test.shape, validate.shape  # percents are ≈ (60%, 20%, 20%)"
   ]
  },
  {
   "cell_type": "markdown",
   "id": "54d13ab22fe08ea0",
   "metadata": {},
   "source": [
    "### Custom model <a class=\"anchor\" id=\"c4\"></a>"
   ]
  },
  {
   "cell_type": "code",
   "execution_count": 24,
   "id": "8fa1b0ce53ec3bf6",
   "metadata": {
    "ExecuteTime": {
     "end_time": "2024-03-16T13:13:16.528628Z",
     "start_time": "2024-03-16T13:13:16.353631Z"
    }
   },
   "outputs": [
    {
     "name": "stdout",
     "output_type": "stream",
     "text": [
      "Device used: cpu.\n"
     ]
    }
   ],
   "source": [
    "device = torch.device('cuda') if torch.cuda.is_available() else torch.device('cpu')\n",
    "print(f\"Device used: {device}.\")"
   ]
  },
  {
   "cell_type": "code",
   "execution_count": 25,
   "id": "ed00a5f39f8b806d",
   "metadata": {
    "ExecuteTime": {
     "end_time": "2024-03-16T13:13:21.215828Z",
     "start_time": "2024-03-16T13:13:16.529624Z"
    }
   },
   "outputs": [
    {
     "name": "stdout",
     "output_type": "stream",
     "text": [
      "Model loaded. Model tokenizer is BertTokenizerFast(name_or_path='cointegrated/rubert-tiny2', vocab_size=83828, model_max_length=512, is_fast=True, padding_side='right', truncation_side='right', special_tokens={'unk_token': '[UNK]', 'sep_token': '[SEP]', 'pad_token': '[PAD]', 'cls_token': '[CLS]', 'mask_token': '[MASK]'}, clean_up_tokenization_spaces=True),  added_tokens_decoder={\n",
      "\t0: AddedToken(\"[PAD]\", rstrip=False, lstrip=False, single_word=False, normalized=False, special=True),\n",
      "\t1: AddedToken(\"[UNK]\", rstrip=False, lstrip=False, single_word=False, normalized=False, special=True),\n",
      "\t2: AddedToken(\"[CLS]\", rstrip=False, lstrip=False, single_word=False, normalized=False, special=True),\n",
      "\t3: AddedToken(\"[SEP]\", rstrip=False, lstrip=False, single_word=False, normalized=False, special=True),\n",
      "\t4: AddedToken(\"[MASK]\", rstrip=False, lstrip=False, single_word=False, normalized=False, special=True),\n",
      "}.\n"
     ]
    }
   ],
   "source": [
    "model = MyModel.MyModel(device) # turn on the developer mode here\n",
    "print(f\"Model loaded. Model tokenizer is {model.tokenizer}.\")"
   ]
  },
  {
   "cell_type": "code",
   "execution_count": 26,
   "id": "1d44b225117fb6c1",
   "metadata": {
    "ExecuteTime": {
     "end_time": "2024-03-16T13:13:22.117995Z",
     "start_time": "2024-03-16T13:13:21.218827Z"
    }
   },
   "outputs": [
    {
     "name": "stdout",
     "output_type": "stream",
     "text": [
      "Model reloaded. Model tokenizer is BertTokenizerFast(name_or_path='cointegrated/rubert-tiny2', vocab_size=83828, model_max_length=512, is_fast=True, padding_side='right', truncation_side='right', special_tokens={'unk_token': '[UNK]', 'sep_token': '[SEP]', 'pad_token': '[PAD]', 'cls_token': '[CLS]', 'mask_token': '[MASK]'}, clean_up_tokenization_spaces=True),  added_tokens_decoder={\n",
      "\t0: AddedToken(\"[PAD]\", rstrip=False, lstrip=False, single_word=False, normalized=False, special=True),\n",
      "\t1: AddedToken(\"[UNK]\", rstrip=False, lstrip=False, single_word=False, normalized=False, special=True),\n",
      "\t2: AddedToken(\"[CLS]\", rstrip=False, lstrip=False, single_word=False, normalized=False, special=True),\n",
      "\t3: AddedToken(\"[SEP]\", rstrip=False, lstrip=False, single_word=False, normalized=False, special=True),\n",
      "\t4: AddedToken(\"[MASK]\", rstrip=False, lstrip=False, single_word=False, normalized=False, special=True),\n",
      "}.\n"
     ]
    }
   ],
   "source": [
    "model.reinitialize()\n",
    "print(f\"Model reloaded. Model tokenizer is {model.tokenizer}.\")"
   ]
  },
  {
   "cell_type": "markdown",
   "id": "17ce014580ed6d7a",
   "metadata": {},
   "source": [
    "### Trainer <a class=\"anchor\" id=\"c5\"></a>"
   ]
  },
  {
   "cell_type": "code",
   "execution_count": 27,
   "id": "26daec4d9c62257b",
   "metadata": {
    "ExecuteTime": {
     "end_time": "2024-03-16T13:13:22.132070Z",
     "start_time": "2024-03-16T13:13:22.121017Z"
    }
   },
   "outputs": [],
   "source": [
    "params = {\n",
    "    'batch_size': [8, 16],\n",
    "    'lr': [1e-5, 1e-6, 1e-4],\n",
    "    'max_spoil': range(1, MAX_SPOIL + 1, 2),\n",
    "    'spoil_proba': np.arange(0.2,  0.8 + 0.1, 0.1)\n",
    "}"
   ]
  },
  {
   "cell_type": "code",
   "execution_count": 28,
   "id": "3e0a3528",
   "metadata": {
    "ExecuteTime": {
     "end_time": "2024-03-16T13:13:26.486667Z",
     "start_time": "2024-03-16T13:13:22.135087Z"
    }
   },
   "outputs": [],
   "source": [
    "trainer = Trainer.Trainer(MyModel.MyModel, device, train, validate, test, preprocessor=preprocessor, params=params)"
   ]
  },
  {
   "cell_type": "markdown",
   "id": "d65ec752c6357f13",
   "metadata": {},
   "source": [
    "### Model training <a class=\"anchor\" id=\"c6\"></a>"
   ]
  },
  {
   "cell_type": "code",
   "execution_count": 29,
   "id": "dcdaeb6eadb8f8e7",
   "metadata": {
    "ExecuteTime": {
     "end_time": "2024-03-16T13:13:26.496522Z",
     "start_time": "2024-03-16T13:13:26.489687Z"
    }
   },
   "outputs": [],
   "source": [
    "torch.cuda.empty_cache()  # just in case"
   ]
  },
  {
   "cell_type": "code",
   "execution_count": 30,
   "id": "a2c1ac056328e123",
   "metadata": {
    "ExecuteTime": {
     "end_time": "2024-03-16T13:13:26.504383Z",
     "start_time": "2024-03-16T13:13:26.499545Z"
    }
   },
   "outputs": [],
   "source": [
    "# trainer.choose_model()"
   ]
  },
  {
   "cell_type": "code",
   "execution_count": 31,
   "id": "fe971e21b977473e",
   "metadata": {
    "ExecuteTime": {
     "end_time": "2024-03-16T13:13:26.512587Z",
     "start_time": "2024-03-16T13:13:26.506398Z"
    }
   },
   "outputs": [],
   "source": [
    "# trainer.save()"
   ]
  },
  {
   "cell_type": "code",
   "execution_count": 32,
   "id": "a45ab0a72a815a20",
   "metadata": {},
   "outputs": [],
   "source": [
    "# trainer.train(epochs=2)"
   ]
  },
  {
   "cell_type": "code",
   "execution_count": 33,
   "id": "52f24cd508195125",
   "metadata": {
    "ExecuteTime": {
     "end_time": "2024-03-16T13:16:03.580647Z",
     "start_time": "2024-03-16T13:16:03.378355Z"
    }
   },
   "outputs": [],
   "source": [
    "# trainer.plot_loss(on_train=False)"
   ]
  },
  {
   "cell_type": "code",
   "execution_count": 34,
   "id": "635f3eafdcdb0257",
   "metadata": {
    "ExecuteTime": {
     "end_time": "2024-03-16T13:16:03.766227Z",
     "start_time": "2024-03-16T13:16:03.581654Z"
    }
   },
   "outputs": [],
   "source": [
    "# trainer.plot_metrics(on_train=False)"
   ]
  },
  {
   "cell_type": "markdown",
   "id": "283db0dc-ff91-4dc0-b7e6-4c4d8c09190b",
   "metadata": {
    "ExecuteTime": {
     "end_time": "2024-03-16T13:16:03.770968Z",
     "start_time": "2024-03-16T13:16:03.767239Z"
    }
   },
   "source": [
    "### Генерация описаний"
   ]
  },
  {
   "cell_type": "code",
   "execution_count": 35,
   "id": "0f371a21-7d8c-41bb-811c-92d0dca0386c",
   "metadata": {},
   "outputs": [],
   "source": [
    "from torch.utils.data import Dataset, DataLoader\n",
    "\n",
    "class GPTDataset(Dataset):\n",
    "\n",
    "    def __init__(self, df, preprocessor, args, id_column='document.id', topic=False, num=None, fixed=True):\n",
    "        \"\"\"\n",
    "        :param df: input data in DataFrame format\n",
    "        :param preprocessor: class to generate prompt and decription\n",
    "        :param id_column: column to set index on (default is None)\n",
    "        :param args: args to consider\n",
    "        :param topic: if True topics will be included in the decription\n",
    "        :param num: number of args to include in prompt, if None, all will be included\n",
    "        :param fixed: if False, args will be choosen on each iteration\n",
    "        \"\"\"\n",
    "\n",
    "        self.df = df.copy()\n",
    "\n",
    "        if id_column:\n",
    "            self.id_col = id_column\n",
    "            self.df.set_index(id_column, inplace=True)\n",
    "\n",
    "        self.topic = topic\n",
    "        self.preprocessor = preprocessor\n",
    "        self.unique_ids = self.df.index.unique()\n",
    "        self.args=args\n",
    "        self.num = min(num or 0, len(args))\n",
    "        self.fixed = fixed\n",
    "        self.fixed_args = None\n",
    "\n",
    "        if num and num > 0 and fixed:\n",
    "            self.fixed_args = np.random.choise(self.args, size=num, replace=False)\n",
    "        \n",
    "    def __len__(self):\n",
    "        \"\"\"\n",
    "        :return: length of the dataset\n",
    "        \"\"\"\n",
    "        return len(self.unique_ids)\n",
    "\n",
    "    def __getitem__(self, idx):\n",
    "        \"\"\"\n",
    "        :param idx: index of the sample to be returned\n",
    "        :return: prompt\n",
    "        \"\"\"\n",
    "        id_ = self.unique_ids[idx]\n",
    "\n",
    "        if self.num > 0 and not self.fixed:\n",
    "            self.fixed_args = np.random.choise(self.args, size=self.num, replace=False)\n",
    "\n",
    "        prompt, description, text = self.preprocessor.fit(id_=id_, topic=self.topic, topic_spoil=0, spoil_size=0, prompt=True, prompt_list=self.fixed_args)\n",
    "\n",
    "        return f'Задание: {prompt or \"\"}\\nТекст: {text or \"\"}\\nОписание: {description or \"\"}',  f'Задание: {prompt or \"\"}\\nТекст: {text or \"\"}\\nОписание:'"
   ]
  },
  {
   "cell_type": "code",
   "execution_count": 36,
   "id": "d213983d-b6d2-4b7b-b2bc-67c341487a0d",
   "metadata": {},
   "outputs": [],
   "source": [
    "gptdataset = GPTDataset(df, preprocessor=preprocessor, args=var_vocab)\n",
    "gptloader = DataLoader(gptdataset, batch_size=5, shuffle=True)"
   ]
  },
  {
   "cell_type": "code",
   "execution_count": 37,
   "id": "4ffe88f1-ddbd-4905-b9a9-bae0223c4e64",
   "metadata": {},
   "outputs": [
    {
     "name": "stdout",
     "output_type": "stream",
     "text": [
      "Задание: Сгенерируй описание следующего текста, оценитональность текста, оцени наличие этнического конфликта, наличие позитивного взаимодействия этничностей, мнение о абхаз в тексте, является ли этничность абхаз доминирующей, является ли этничность абхаз агрессором, является ли этничность абхаз опасной.\n",
      "Текст: но у вас же бред написан. Какими русскими? Вообще то там грузины воевали с Абхазами. Это исторический факт. А статья может быть на 10% правдива. Почему вы верите, какой-то статье?\n",
      "Описание: этот текст является негативным, в тексте есть этнический конфликт, в тексте не зафиксировано позитивного взаимодействия этичностей\n",
      "\n",
      "Задание: Сгенерируй описание следующего текста, оценитональность текста, оцени наличие этнического конфликта, наличие позитивного взаимодействия этничностей, мнение о абхаз в тексте, является ли этничность абхаз доминирующей, является ли этничность абхаз агрессором, является ли этничность абхаз опасной.\n",
      "Текст: но у вас же бред написан. Какими русскими? Вообще то там грузины воевали с Абхазами. Это исторический факт. А статья может быть на 10% правдива. Почему вы верите, какой-то статье?\n",
      "Описание:\n"
     ]
    },
    {
     "data": {
      "text/plain": [
       "(None, None)"
      ]
     },
     "execution_count": 37,
     "metadata": {},
     "output_type": "execute_result"
    }
   ],
   "source": [
    "print(gptdataset[0][0]), print(gptdataset[0][1])"
   ]
  },
  {
   "cell_type": "code",
   "execution_count": 51,
   "id": "dc80cb8e-b0cc-47eb-adca-f001d3e00c83",
   "metadata": {},
   "outputs": [],
   "source": [
    "from torch import nn\n",
    "from transformers import GPT2Tokenizer, GPT2LMHeadModel\n",
    "\n",
    "class GPTModel(nn.Module):\n",
    "    \"\"\"Pretrained model with custom text classificator.\"\"\"\n",
    "\n",
    "    def __init__(self, device, max_len=512, max_len_model=100, ngram=2, pretrained_model_path=\"ai-forever/rugpt3small_based_on_gpt2\"):\n",
    "        \"\"\"\n",
    "        :param device: device to use\n",
    "        :param max_len: maximal length for Tokenizer\n",
    "        :param pretrained_model_path: model to load for fine-tuning\n",
    "        \"\"\"\n",
    "        super().__init__()\n",
    "        try:\n",
    "            self.model = GPT2LMHeadModel.from_pretrained(pretrained_model_path)\n",
    "            self.tokenizer = GPT2Tokenizer.from_pretrained(pretrained_model_path, model_max_length=max_len)\n",
    "        except OSError:\n",
    "            print(\"Could not load pretrained model\")\n",
    "        self.device = device\n",
    "        self.max_len = max_len\n",
    "        self.max_len_model = max_len_model\n",
    "        self.path = pretrained_model_path\n",
    "        self.ngram = ngram\n",
    "\n",
    "    def reinitialize(self, ngrams):\n",
    "        \"\"\"\n",
    "        Reloads model and tokenizer\n",
    "        \"\"\"\n",
    "        try:\n",
    "            self.model = GPT2LMHeadModel.from_pretrained(self.path)\n",
    "            self.tokenizer = GPT2Tokenizer.from_pretrained(self.path, model_max_length=self.max_len)\n",
    "        except OSError:\n",
    "            print(\"Could not load pretrained model\")\n",
    "\n",
    "        self.ngram = ngrams\n",
    "\n",
    "    def generate(self, sentence):\n",
    "        sentence_enc = self.tokenizer.encode(sentence, return_tensors='pt') \n",
    "        output = self.model.generate(sentence_enc, max_new_tokens=self.max_len_model, num_beams=2, no_repeat_ngram_size=self.ngram, early_stopping=True)\n",
    "        if output[0] is not None:\n",
    "            return self.tokenizer.decode(output[0], skip_special_tokens=True)\n",
    "\n",
    "    def forward(self, x, y):\n",
    "        \"\"\"\n",
    "        :param x: input text\n",
    "        :param y: text with description cut\n",
    "        :return: tensor of output data\n",
    "        \"\"\"\n",
    "        \n",
    "        tokenized = self.tokenizer(x, padding=True, truncation=True, return_tensors=\"pt\").to(self.device)  # токенизируем\n",
    "        tokenized_nodesc = self.tokenizer(y, padding=True, truncation=True, return_tensors=\"pt\").to(self.device)\n",
    "    \n",
    "        input_ids = tokenized['input_ids']\n",
    "        input_ids_nodesc = tokenized['input_ids']\n",
    "           \n",
    "        for i in range(input_ids.size(0)):\n",
    "            input_ids[i][:len(input_ids_nodesc[i])] = self.tokenizer.pad_token_id\n",
    "    \n",
    "        return self.model(**tokenized, labels=input_ids)"
   ]
  },
  {
   "cell_type": "code",
   "execution_count": 52,
   "id": "b3722417-1d0c-4732-bfaa-6d5b1a034b03",
   "metadata": {},
   "outputs": [],
   "source": [
    "from datetime import datetime\n",
    "from tqdm.notebook import tqdm\n",
    "import matplotlib.pyplot as plt\n",
    "from torchtext.data.metrics import bleu_score \n",
    "\n",
    "from itertools import product\n",
    "from IPython.display import clear_output\n",
    "\n",
    "import numpy as np\n",
    "\n",
    "import pickle\n",
    "\n",
    "import torch\n",
    "from torch import nn\n",
    "from torch.utils.data import DataLoader\n",
    "\n",
    "\n",
    "class GPTTrainer:\n",
    "    \"\"\"Class for model training and validation.\"\"\"\n",
    "\n",
    "    def __init__(self, model, device, train, validate, test, dataset, args, dataloader,\n",
    "                 save=True,\n",
    "                 params=None,\n",
    "                 preprocessor=None,\n",
    "                 optimizer=torch.optim.Adam, batch_size=10,\n",
    "                 base_dir='data/',\n",
    "                 best_model_path='best_model',\n",
    "                 train_window_size=10,\n",
    "                 test_window_size=5,\n",
    "                 max_len=512,\n",
    "                 epochs=10, number_of_generations=10,\n",
    "                 learning_rate=0.0005, metric_to_use='bleu_score', min_spoil=1, timer=1):\n",
    "        \"\"\"\n",
    "        :param model: model to train\n",
    "        :param device: device used for model training\n",
    "        :param train: train data\n",
    "        :param validate: validation data\n",
    "        :param test: test data\n",
    "        :param params: grid of hyperparams for best model selection\n",
    "        :param dataset: dataset derived from torch.utils.data.Dataset\n",
    "        :param args: args for dataset (structure specifical) \n",
    "        :param dataloader: dataloader derived from torch.utils.data.DataLoader\n",
    "        :param save: if True, model will be saved each epoch\n",
    "        :param preprocessor: preprocessor to pass to dataset \n",
    "        :param optimizer: optimizer to use\n",
    "        :param base_dir: base directory to save data to\n",
    "        :param best_model_path: best model will be saved at f'{base_dir}{best_model_tpath}'\n",
    "        :param train_window_size: number of train batches for average score calculation\n",
    "        :param train_window_size: number of test batches for average score calculation\n",
    "        :param max_len: maximal length for Tokenizer\n",
    "        :param epochs: number of epochs for model training\n",
    "        :param learning_rate: learning rate\n",
    "        :param metric_to_use: which metric should be considered for best model choosing\n",
    "        \"\"\"\n",
    "\n",
    "        try:\n",
    "            self.model = model(device, max_len=max_len).to(device)\n",
    "        except OSError:\n",
    "            print(\"Could not load model to device\")\n",
    "\n",
    "        self.preprocessor = preprocessor\n",
    "        self.train_dataset = dataset(train.copy(), args=args, preprocessor=preprocessor)\n",
    "        self.test_dataset = dataset(test.copy(), args=args, preprocessor=preprocessor)\n",
    "        self.dataloader = dataloader\n",
    "        self.args = args\n",
    "\n",
    "        self.max_len = max_len\n",
    "\n",
    "        try:\n",
    "            self.train_loader = dataloader(self.train_dataset, batch_size=batch_size)\n",
    "            self.test_loader = dataloader(self.test_dataset, batch_size=batch_size)\n",
    "        except OSError:\n",
    "            print(\"Could not load dataset\")\n",
    "\n",
    "        if metric_to_use not in ['bleu_score']:\n",
    "            raise ValueError(\"metric_to use must be one of 'bleu_score'\")\n",
    "\n",
    "        self.train_ = train\n",
    "        self.test_ = test\n",
    "        self.validate = validate\n",
    "\n",
    "        self.device = device\n",
    "        self.lr = learning_rate\n",
    "        self.batch_size = batch_size\n",
    "        self.base_dir = base_dir\n",
    "        self.best_model_path = best_model_path\n",
    "        self.train_window_size = train_window_size\n",
    "        self.test_window_size = test_window_size\n",
    "        self.min_spoil = min_spoil\n",
    "        self.timer = timer\n",
    "\n",
    "        self.save = save\n",
    "\n",
    "        self.opt = optimizer\n",
    "        self.optimizer = optimizer(self.model.parameters(), lr=learning_rate)\n",
    "        self.metric_to_use = metric_to_use\n",
    "        self.best_metric = -float('inf')\n",
    "\n",
    "        self.epochs = epochs\n",
    "        self.params = params\n",
    "        self.num = 0\n",
    "\n",
    "        self.number_of_gen = number_of_generations\n",
    "        self.ids = np.random.choice(range(len(self.test_loader)), size=min(number_of_generations, len(self.test_loader)), replace=False)\n",
    "\n",
    "        self.data = dict()\n",
    "\n",
    "\n",
    "    def reinitialize(self, batch_size, lr, ngrams):\n",
    "        self.model.reinitialize(ngrams)\n",
    "        self.model.to(self.device)\n",
    "\n",
    "        self.train_loader = self.dataloader(self.train_dataset, batch_size=batch_size)\n",
    "        self.test_loader = self.dataloader(self.test_dataset, batch_size=batch_size)\n",
    "\n",
    "        self.optimizer = self.opt(self.model.parameters(), lr=lr)\n",
    "\n",
    "    def choose_model(self):\n",
    "        for val in product(*self.params.values()):\n",
    "            params = {k: v for k, v in zip(self.params, val)}\n",
    "            self.reinitialize(**params)\n",
    "            self.data[self.num] = dict()\n",
    "            self.data[self.num]['params'] = params\n",
    "            self.train(self.epochs)\n",
    "            self.num += 1\n",
    "\n",
    "    def train_one_epoch(self, epoch, verbose=False):\n",
    "\n",
    "        cur_loss = sum_loss = 0\n",
    "\n",
    "        for i, (data, cut_data) in enumerate(tqdm(self.train_loader), 1):\n",
    "            self.optimizer.zero_grad()\n",
    "            outputs = self.model(data, cut_data)\n",
    "            loss = outputs.loss\n",
    "            loss.backward()\n",
    "            self.optimizer.step()\n",
    "            loss_ = loss.item()\n",
    "\n",
    "            if self.num not in self.data:\n",
    "                self.data[self.num] = dict()\n",
    "\n",
    "            if 'train_loss' not in self.data[self.num]:\n",
    "                self.data[self.num]['train_loss'] = []\n",
    "\n",
    "            self.data[self.num]['train_loss'].append(loss_)\n",
    "            cur_loss += loss_\n",
    "\n",
    "            if i % self.train_window_size == 0:\n",
    "                last_loss = cur_loss / self.train_window_size\n",
    "                sum_loss += last_loss\n",
    "                cur_loss = 0\n",
    "                if verbose:\n",
    "                    print(f\"batch {i}\\nloss: {last_loss:.5}\")\n",
    "                    \n",
    "        return sum_loss / len(self.train_loader)\n",
    "\n",
    "    def validate_one_epoch(self, epoch, verbose=False):\n",
    "        sum_loss = 0\n",
    "\n",
    "        with torch.no_grad():\n",
    "            for i, (data, cut_data) in enumerate(tqdm(self.test_loader), 1):\n",
    "                outputs = self.model(data, cut_data)\n",
    "                loss_ = outputs.loss.item()\n",
    "\n",
    "                if self.num not in self.data:\n",
    "                    self.data[self.num] = dict()\n",
    "\n",
    "                if 'test_loss' not in self.data[self.num]:\n",
    "                    self.data[self.num]['test_loss'] = []\n",
    "\n",
    "                self.data[self.num]['test_loss'].append(loss_)\n",
    "                sum_loss += loss_\n",
    "\n",
    "                if verbose and i % self.test_window_size == 0:\n",
    "                    print(f\"Batch {i} validation\")\n",
    "\n",
    "        for id_ in self.ids:\n",
    "            if epoch not in self.data[self.num]:\n",
    "                self.data[self.num][epoch] = {}\n",
    "            if 'generated' not in self.data[self.num][epoch]:\n",
    "                self.data[self.num][epoch]['generated'] = []\n",
    "            \n",
    "            self.data[self.num][epoch]['generated'].append((id_, self.model.generate(self.test_dataset[id_]))) # добавляем id и сгенерированное описание\n",
    "\n",
    "        if verbose:\n",
    "            print(f\"Calculating epoch {epoch + 1} validation scores\")\n",
    "\n",
    "        return sum_loss / len(self.train_loader)\n",
    "\n",
    "    def train(self, epochs, verbose=False, plot=True, save=False):\n",
    "        for epoch in range(epochs):\n",
    "\n",
    "            if verbose:\n",
    "                time = datetime.now()\n",
    "                print(f\"Epoch {epoch + 1} running\")\n",
    "\n",
    "            self.model.train(True)\n",
    "            loss = self.train_one_epoch(epoch, verbose=verbose)\n",
    "\n",
    "            if plot:\n",
    "                clear_output(wait=True)\n",
    "                self.plot_loss(on_train=True)\n",
    "            \n",
    "            self.model.eval()\n",
    "            v_loss = self.validate_one_epoch(epoch, verbose=verbose)\n",
    "\n",
    "            if plot:\n",
    "                clear_output(wait=True)\n",
    "                self.plot_loss(on_train=False)\n",
    "\n",
    "            if verbose:\n",
    "                print(f'Time taken for epoch {epoch + 1}: {datetime.now() - time}\\n')\n",
    "\n",
    "            if save or self.save:\n",
    "                self.save_model(v_loss, epoch, verbose)\n",
    "\n",
    "    def save_model(self, metric, epoch, verbose):\n",
    "        path = f'{self.base_dir}/epoch_{epoch}_num_{self.num}_loss_{metric}'\n",
    "        torch.save(self.model.state_dict(), path)\n",
    "\n",
    "    def load_model(self, model_path):\n",
    "        model = MyModel(self.device)\n",
    "        model.load_state_dict(torch.load(model_path))\n",
    "        model.eval()\n",
    "        return model\n",
    "\n",
    "    def plot_loss(self, on_train=False):\n",
    "        if on_train:\n",
    "\n",
    "            data = self.data[self.num]['train_loss']\n",
    "\n",
    "            plt.plot(data)\n",
    "            plt.title('Training loss')\n",
    "\n",
    "            step = len(self.train_loader)\n",
    "            for el in range(step, len(data), step):\n",
    "                plt.axvline(x=el, color='red', linestyle='--')\n",
    "        else:\n",
    "\n",
    "            data = self.data[self.num]['test_loss']\n",
    "\n",
    "            plt.plot(data)\n",
    "            plt.title('Validation loss')\n",
    "\n",
    "            step = len(self.test_loader)\n",
    "            for el in range(step, len(data), step):\n",
    "                plt.axvline(x=el, color='red', linestyle='--')\n",
    "\n",
    "        plt.xlabel('Batches')\n",
    "        plt.ylabel('Loss')\n",
    "        plt.show()\n",
    "\n",
    "    def save(self):\n",
    "        with open(f'{self.base_dir}/data.pkl', 'wb') as f:\n",
    "            pickle.dump(self.data, f)\n"
   ]
  },
  {
   "cell_type": "code",
   "execution_count": 53,
   "id": "b3c173d4-1fd4-467d-bd22-4feabc6da473",
   "metadata": {},
   "outputs": [],
   "source": [
    "max_items = 200\n",
    "gptTrainer = GPTTrainer(GPTModel, device, train[:max_items], validate[:max_items], test[:max_items], preprocessor=preprocessor, dataset=GPTDataset, args=var_vocab, dataloader=DataLoader)"
   ]
  },
  {
   "cell_type": "code",
   "execution_count": 54,
   "id": "70c46a22-7c74-42bc-986d-9a5c723c6ff4",
   "metadata": {},
   "outputs": [
    {
     "name": "stdout",
     "output_type": "stream",
     "text": [
      "Что такое питон?\n",
      "Питон - это млекопитающее, которое питается плодами растений и животных.\n",
      "\n",
      "Какие у вас ассоциации со словом \"питон\"?\n",
      "Птица\n",
      "птица, которая летает, летающая, летящая\n",
      "Это птица. Птица - птица, которую можно увидеть в небе, а можно и не увидеть. Это птица-попугай, который живет на земле. А еще это птица - птичка, которой можно летать. И еще - птеродактиль\n"
     ]
    }
   ],
   "source": [
    "print(gptTrainer.model.generate('Что такое питон?')) # слон - это змея:)"
   ]
  },
  {
   "cell_type": "code",
   "execution_count": 55,
   "id": "f85a5f18-2d43-4b9b-97b7-c16093b2a806",
   "metadata": {},
   "outputs": [
    {
     "data": {
      "image/png": "[encoded data removed]",
      "text/plain": [
       "<Figure size 640x480 with 1 Axes>"
      ]
     },
     "metadata": {},
     "output_type": "display_data"
    }
   ],
   "source": [
    "gptTrainer.train(1)"
   ]
  },
  {
   "cell_type": "code",
   "execution_count": 56,
   "id": "919845ab-37c7-49a5-b120-6a53612c1a00",
   "metadata": {},
   "outputs": [
    {
     "name": "stdout",
     "output_type": "stream",
     "text": [
      "Что такое питон? Стрель силовых меня Бо\u0002 Ни З Нет Г Ничего� Есть Господи том Какие Правда и пред Л Из б Точно m На Ф Изви 1 [ него только ст Зна те Понятно Ш Прошу\u0006 них Ск Хо Мой При Слушай что Конечно Она� Для по\n"
     ]
    }
   ],
   "source": [
    "print(gptTrainer.model.generate('Что такое питон?'))"
   ]
  },
  {
   "cell_type": "code",
   "execution_count": 57,
   "id": "2f1a9df7-8615-4418-a039-5f0f972ca7ba",
   "metadata": {},
   "outputs": [
    {
     "name": "stdout",
     "output_type": "stream",
     "text": [
      " меня\u0002 Бо З Ни Г Нет Ничего Есть� том На Господи Правда Из пред Какие и Ф Л [ б него m Точно Зна ст 1 только Понятно что них Изви Прошу Ш Хо\u0006 те Мой Слушай Ск Ва� При по Для Пу Пусть\n"
     ]
    }
   ],
   "source": [
    "for el in gptTrainer.data[0][0]['generated']:\n",
    "    print(el[1])\n",
    "    break"
   ]
  },
  {
   "cell_type": "code",
   "execution_count": null,
   "id": "c3e8604a-65bc-44dc-980f-b13cb588b62d",
   "metadata": {},
   "outputs": [],
   "source": []
  }
 ],
 "metadata": {
  "kernelspec": {
   "display_name": "Python 3 (ipykernel)",
   "language": "python",
   "name": "python3"
  },
  "language_info": {
   "codemirror_mode": {
    "name": "ipython",
    "version": 3
   },
   "file_extension": ".py",
   "mimetype": "text/x-python",
   "name": "python",
   "nbconvert_exporter": "python",
   "pygments_lexer": "ipython3",
   "version": "3.12.2"
  }
 },
 "nbformat": 4,
 "nbformat_minor": 5
}
