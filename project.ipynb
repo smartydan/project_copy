{
 "cells": [
  {
   "cell_type": "markdown",
   "id": "fa11297e-3260-48a9-99ff-f72dbfb972e3",
   "metadata": {},
   "source": [
    "# HSE-2024 text classification project"
   ]
  },
  {
   "cell_type": "markdown",
   "id": "ce9bf42f5b985ac8",
   "metadata": {},
   "source": [
    "## Table of content\n",
    "* [Imports](#c1)\n",
    "* [Data loading and preprocessing](#c2)\n",
    "* [Custom dataset](#c3)\n",
    "* [Custom model](#c4)\n",
    "* [Trainer](#c5)\n",
    "* [Model training](#c6)"
   ]
  },
  {
   "cell_type": "markdown",
   "id": "868114483c848d79",
   "metadata": {},
   "source": [
    "### Imports <a class=\"anchor\" id=\"c1\"></a>"
   ]
  },
  {
   "cell_type": "code",
   "execution_count": 1,
   "id": "b0efad74",
   "metadata": {},
   "outputs": [],
   "source": [
    "import numpy as np\n",
    "import pandas as pd\n",
    "\n",
    "import torch\n",
    "from sklearn.model_selection import train_test_split\n",
    "\n",
    "import os\n",
    "import re\n",
    "import string\n",
    "\n",
    "from classes import Preprocessor, MyModel, Trainer"
   ]
  },
  {
   "cell_type": "markdown",
   "id": "79bf6ab199bd0511",
   "metadata": {},
   "source": [
    "### Data loading and preprocessing <a class=\"anchor\" id=\"c2\"></a>"
   ]
  },
  {
   "cell_type": "code",
   "execution_count": 2,
   "id": "f1302e35a33a0911",
   "metadata": {
    "ExecuteTime": {
     "end_time": "2024-03-16T13:13:13.519967Z",
     "start_time": "2024-03-16T13:13:13.510904Z"
    }
   },
   "outputs": [
    {
     "data": {
      "text/plain": [
       "<torch._C.Generator at 0x1ebaf450530>"
      ]
     },
     "execution_count": 2,
     "metadata": {},
     "output_type": "execute_result"
    }
   ],
   "source": [
    "RANDOM_STATE = 42\n",
    "torch.manual_seed(RANDOM_STATE)"
   ]
  },
  {
   "cell_type": "code",
   "execution_count": 3,
   "id": "24ce7bd260a89584",
   "metadata": {
    "ExecuteTime": {
     "end_time": "2024-03-16T13:13:13.541403Z",
     "start_time": "2024-03-16T13:13:13.521039Z"
    }
   },
   "outputs": [],
   "source": [
    "base_dir = 'data/'\n",
    "if not os.path.exists(base_dir):  # создадим папку, куда будем сохранять модели, и где будут лежать данные\n",
    "    os.makedirs(base_dir)"
   ]
  },
  {
   "cell_type": "code",
   "execution_count": 4,
   "id": "1db05a48bd6571f2",
   "metadata": {
    "ExecuteTime": {
     "end_time": "2024-03-16T13:13:13.908022Z",
     "start_time": "2024-03-16T13:13:13.543410Z"
    }
   },
   "outputs": [
    {
     "data": {
      "text/html": [
       "<div>\n",
       "<style scoped>\n",
       "    .dataframe tbody tr th:only-of-type {\n",
       "        vertical-align: middle;\n",
       "    }\n",
       "\n",
       "    .dataframe tbody tr th {\n",
       "        vertical-align: top;\n",
       "    }\n",
       "\n",
       "    .dataframe thead th {\n",
       "        text-align: right;\n",
       "    }\n",
       "</style>\n",
       "<table border=\"1\" class=\"dataframe\">\n",
       "  <thead>\n",
       "    <tr style=\"text-align: right;\">\n",
       "      <th></th>\n",
       "      <th>document.id</th>\n",
       "      <th>source</th>\n",
       "      <th>stage</th>\n",
       "      <th>source_text</th>\n",
       "      <th>lemm_text</th>\n",
       "      <th>city</th>\n",
       "      <th>region</th>\n",
       "      <th>date</th>\n",
       "    </tr>\n",
       "  </thead>\n",
       "  <tbody>\n",
       "    <tr>\n",
       "      <th>6354</th>\n",
       "      <td>661193248</td>\n",
       "      <td>iqbuzz</td>\n",
       "      <td>3</td>\n",
       "      <td>день стольника &lt;br/&gt; Альбина  &lt;br/&gt; на гол тел...</td>\n",
       "      <td>re азиат new life помощь алабай сенбернар моск...</td>\n",
       "      <td>Солнцево</td>\n",
       "      <td>Московская область</td>\n",
       "      <td>2014-11-28</td>\n",
       "    </tr>\n",
       "    <tr>\n",
       "      <th>12224</th>\n",
       "      <td>1069907405</td>\n",
       "      <td>iqbuzz</td>\n",
       "      <td>3</td>\n",
       "      <td>Цитата(@ЛЕН@ @ 25.10.2015, 20:30) а я то думал...</td>\n",
       "      <td>re осенний зов цитата лена думать longtail вре...</td>\n",
       "      <td>NaN</td>\n",
       "      <td>NaN</td>\n",
       "      <td>2015-10-25</td>\n",
       "    </tr>\n",
       "    <tr>\n",
       "      <th>1228</th>\n",
       "      <td>751923905</td>\n",
       "      <td>iqbuzz</td>\n",
       "      <td>2</td>\n",
       "      <td>Ситуация в то же время на грани гражданской во...</td>\n",
       "      <td>ситуация время грань гражданский война гагауз ...</td>\n",
       "      <td>NaN</td>\n",
       "      <td>NaN</td>\n",
       "      <td>2015-02-09</td>\n",
       "    </tr>\n",
       "  </tbody>\n",
       "</table>\n",
       "</div>"
      ],
      "text/plain": [
       "       document.id  source  stage  \\\n",
       "6354     661193248  iqbuzz      3   \n",
       "12224   1069907405  iqbuzz      3   \n",
       "1228     751923905  iqbuzz      2   \n",
       "\n",
       "                                             source_text  \\\n",
       "6354   день стольника <br/> Альбина  <br/> на гол тел...   \n",
       "12224  Цитата(@ЛЕН@ @ 25.10.2015, 20:30) а я то думал...   \n",
       "1228   Ситуация в то же время на грани гражданской во...   \n",
       "\n",
       "                                               lemm_text      city  \\\n",
       "6354   re азиат new life помощь алабай сенбернар моск...  Солнцево   \n",
       "12224  re осенний зов цитата лена думать longtail вре...       NaN   \n",
       "1228   ситуация время грань гражданский война гагауз ...       NaN   \n",
       "\n",
       "                   region        date  \n",
       "6354   Московская область  2014-11-28  \n",
       "12224                 NaN  2015-10-25  \n",
       "1228                  NaN  2015-02-09  "
      ]
     },
     "execution_count": 4,
     "metadata": {},
     "output_type": "execute_result"
    }
   ],
   "source": [
    "texts = pd.read_csv(f'{base_dir}texts_and_metadata.txt', sep='\\t')\n",
    "texts.sample(3)"
   ]
  },
  {
   "cell_type": "code",
   "execution_count": 5,
   "id": "2f8c930af33a5b55",
   "metadata": {
    "ExecuteTime": {
     "end_time": "2024-03-16T13:13:15.058581Z",
     "start_time": "2024-03-16T13:13:13.910030Z"
    }
   },
   "outputs": [
    {
     "data": {
      "text/html": [
       "<div>\n",
       "<style scoped>\n",
       "    .dataframe tbody tr th:only-of-type {\n",
       "        vertical-align: middle;\n",
       "    }\n",
       "\n",
       "    .dataframe tbody tr th {\n",
       "        vertical-align: top;\n",
       "    }\n",
       "\n",
       "    .dataframe thead th {\n",
       "        text-align: right;\n",
       "    }\n",
       "</style>\n",
       "<table border=\"1\" class=\"dataframe\">\n",
       "  <thead>\n",
       "    <tr style=\"text-align: right;\">\n",
       "      <th></th>\n",
       "      <th>document.id</th>\n",
       "      <th>source</th>\n",
       "      <th>stage</th>\n",
       "      <th>data</th>\n",
       "      <th>assessor</th>\n",
       "      <th>seed_eth_group</th>\n",
       "      <th>for_questions_about_text</th>\n",
       "      <th>do_text_make_sense_raw</th>\n",
       "      <th>do_text_make_sense_recoded</th>\n",
       "      <th>has_ethnonym_raw</th>\n",
       "      <th>...</th>\n",
       "      <th>represent_ethicity_raw</th>\n",
       "      <th>represent_ethicity_meaning</th>\n",
       "      <th>is_ethicity_superior_raw</th>\n",
       "      <th>is_ethicity_superior_meaning</th>\n",
       "      <th>is_ethicity_aggressor_raw</th>\n",
       "      <th>is_ethicity_aggressor_meaning</th>\n",
       "      <th>is_ethicity_dangerous_raw</th>\n",
       "      <th>is_ethicity_dangerous_meaning</th>\n",
       "      <th>comment</th>\n",
       "      <th>old_id</th>\n",
       "    </tr>\n",
       "  </thead>\n",
       "  <tbody>\n",
       "    <tr>\n",
       "      <th>47955</th>\n",
       "      <td>1024532272</td>\n",
       "      <td>iqbuzz</td>\n",
       "      <td>3</td>\n",
       "      <td>2017-03-17 21:28:34</td>\n",
       "      <td>adzhigitova</td>\n",
       "      <td>якут</td>\n",
       "      <td>0</td>\n",
       "      <td>yes</td>\n",
       "      <td>1</td>\n",
       "      <td>several</td>\n",
       "      <td>...</td>\n",
       "      <td>1.0</td>\n",
       "      <td>no</td>\n",
       "      <td>3.0</td>\n",
       "      <td>irrel</td>\n",
       "      <td>3.0</td>\n",
       "      <td>irrel</td>\n",
       "      <td>1.0</td>\n",
       "      <td>no</td>\n",
       "      <td>NaN</td>\n",
       "      <td>1024532272</td>\n",
       "    </tr>\n",
       "    <tr>\n",
       "      <th>34179</th>\n",
       "      <td>857226102</td>\n",
       "      <td>iqbuzz</td>\n",
       "      <td>3</td>\n",
       "      <td>2017-03-15 15:01:58</td>\n",
       "      <td>mintbreeze</td>\n",
       "      <td>узбек</td>\n",
       "      <td>0</td>\n",
       "      <td>yes</td>\n",
       "      <td>1</td>\n",
       "      <td>several</td>\n",
       "      <td>...</td>\n",
       "      <td>1.0</td>\n",
       "      <td>no</td>\n",
       "      <td>3.0</td>\n",
       "      <td>irrel</td>\n",
       "      <td>3.0</td>\n",
       "      <td>irrel</td>\n",
       "      <td>1.0</td>\n",
       "      <td>no</td>\n",
       "      <td>NaN</td>\n",
       "      <td>857226102</td>\n",
       "    </tr>\n",
       "    <tr>\n",
       "      <th>72409</th>\n",
       "      <td>729611621</td>\n",
       "      <td>iqbuzz</td>\n",
       "      <td>2</td>\n",
       "      <td>2016-10-18 13:57:12</td>\n",
       "      <td>adzhigitova</td>\n",
       "      <td>ненец</td>\n",
       "      <td>0</td>\n",
       "      <td>yes</td>\n",
       "      <td>1</td>\n",
       "      <td>several</td>\n",
       "      <td>...</td>\n",
       "      <td>2.0</td>\n",
       "      <td>unk</td>\n",
       "      <td>3.0</td>\n",
       "      <td>irrel</td>\n",
       "      <td>3.0</td>\n",
       "      <td>irrel</td>\n",
       "      <td>1.0</td>\n",
       "      <td>no</td>\n",
       "      <td>NaN</td>\n",
       "      <td>ненец_124</td>\n",
       "    </tr>\n",
       "  </tbody>\n",
       "</table>\n",
       "<p>3 rows × 56 columns</p>\n",
       "</div>"
      ],
      "text/plain": [
       "       document.id  source  stage                 data     assessor  \\\n",
       "47955   1024532272  iqbuzz      3  2017-03-17 21:28:34  adzhigitova   \n",
       "34179    857226102  iqbuzz      3  2017-03-15 15:01:58   mintbreeze   \n",
       "72409    729611621  iqbuzz      2  2016-10-18 13:57:12  adzhigitova   \n",
       "\n",
       "      seed_eth_group  for_questions_about_text do_text_make_sense_raw  \\\n",
       "47955           якут                         0                    yes   \n",
       "34179          узбек                         0                    yes   \n",
       "72409          ненец                         0                    yes   \n",
       "\n",
       "       do_text_make_sense_recoded has_ethnonym_raw  ...  \\\n",
       "47955                           1          several  ...   \n",
       "34179                           1          several  ...   \n",
       "72409                           1          several  ...   \n",
       "\n",
       "      represent_ethicity_raw represent_ethicity_meaning  \\\n",
       "47955                    1.0                         no   \n",
       "34179                    1.0                         no   \n",
       "72409                    2.0                        unk   \n",
       "\n",
       "      is_ethicity_superior_raw is_ethicity_superior_meaning  \\\n",
       "47955                      3.0                        irrel   \n",
       "34179                      3.0                        irrel   \n",
       "72409                      3.0                        irrel   \n",
       "\n",
       "      is_ethicity_aggressor_raw  is_ethicity_aggressor_meaning  \\\n",
       "47955                       3.0                          irrel   \n",
       "34179                       3.0                          irrel   \n",
       "72409                       3.0                          irrel   \n",
       "\n",
       "       is_ethicity_dangerous_raw  is_ethicity_dangerous_meaning  comment  \\\n",
       "47955                        1.0                             no      NaN   \n",
       "34179                        1.0                             no      NaN   \n",
       "72409                        1.0                             no      NaN   \n",
       "\n",
       "           old_id  \n",
       "47955  1024532272  \n",
       "34179   857226102  \n",
       "72409   ненец_124  \n",
       "\n",
       "[3 rows x 56 columns]"
      ]
     },
     "execution_count": 5,
     "metadata": {},
     "output_type": "execute_result"
    }
   ],
   "source": [
    "data = pd.read_csv(f'{base_dir}coding_results.txt', low_memory=False, sep='\\t')\n",
    "data.sample(3)"
   ]
  },
  {
   "cell_type": "code",
   "execution_count": 6,
   "id": "21d27009f3a04da6",
   "metadata": {
    "ExecuteTime": {
     "end_time": "2024-03-16T13:13:15.207178Z",
     "start_time": "2024-03-16T13:13:15.059593Z"
    }
   },
   "outputs": [
    {
     "data": {
      "text/html": [
       "<div>\n",
       "<style scoped>\n",
       "    .dataframe tbody tr th:only-of-type {\n",
       "        vertical-align: middle;\n",
       "    }\n",
       "\n",
       "    .dataframe tbody tr th {\n",
       "        vertical-align: top;\n",
       "    }\n",
       "\n",
       "    .dataframe thead th {\n",
       "        text-align: right;\n",
       "    }\n",
       "</style>\n",
       "<table border=\"1\" class=\"dataframe\">\n",
       "  <thead>\n",
       "    <tr style=\"text-align: right;\">\n",
       "      <th></th>\n",
       "      <th>document.id</th>\n",
       "      <th>source</th>\n",
       "      <th>stage</th>\n",
       "      <th>source_text</th>\n",
       "      <th>lemm_text</th>\n",
       "      <th>city</th>\n",
       "      <th>region</th>\n",
       "      <th>date</th>\n",
       "      <th>data</th>\n",
       "      <th>assessor</th>\n",
       "      <th>...</th>\n",
       "      <th>represent_ethicity_raw</th>\n",
       "      <th>represent_ethicity_meaning</th>\n",
       "      <th>is_ethicity_superior_raw</th>\n",
       "      <th>is_ethicity_superior_meaning</th>\n",
       "      <th>is_ethicity_aggressor_raw</th>\n",
       "      <th>is_ethicity_aggressor_meaning</th>\n",
       "      <th>is_ethicity_dangerous_raw</th>\n",
       "      <th>is_ethicity_dangerous_meaning</th>\n",
       "      <th>comment</th>\n",
       "      <th>old_id</th>\n",
       "    </tr>\n",
       "  </thead>\n",
       "  <tbody>\n",
       "    <tr>\n",
       "      <th>84618</th>\n",
       "      <td>5221131</td>\n",
       "      <td>vk</td>\n",
       "      <td>1</td>\n",
       "      <td>13.09.2014. ВАЖНО! Первый фильм, постигающий в...</td>\n",
       "      <td>важно фильм постигать глубина смысл русско укр...</td>\n",
       "      <td>Ставрополь</td>\n",
       "      <td>Ставропольский край</td>\n",
       "      <td>2014-09-14</td>\n",
       "      <td>2016-07-26 13:24:27</td>\n",
       "      <td>Dasha</td>\n",
       "      <td>...</td>\n",
       "      <td>NaN</td>\n",
       "      <td>NaN</td>\n",
       "      <td>NaN</td>\n",
       "      <td>NaN</td>\n",
       "      <td>NaN</td>\n",
       "      <td>NaN</td>\n",
       "      <td>NaN</td>\n",
       "      <td>NaN</td>\n",
       "      <td>NaN</td>\n",
       "      <td>5221131</td>\n",
       "    </tr>\n",
       "    <tr>\n",
       "      <th>19105</th>\n",
       "      <td>501637645</td>\n",
       "      <td>iqbuzz</td>\n",
       "      <td>2</td>\n",
       "      <td>Пребывание &lt;b&gt;молдавских&lt;/b&gt; &lt;b&gt;гастарбайтеров...</td>\n",
       "      <td>пребывание молдавский гастарбайтер ограничить ...</td>\n",
       "      <td>Москва</td>\n",
       "      <td>Москва</td>\n",
       "      <td>2014-06-19</td>\n",
       "      <td>2016-10-03 14:30:20</td>\n",
       "      <td>dianasadr</td>\n",
       "      <td>...</td>\n",
       "      <td>1.0</td>\n",
       "      <td>no</td>\n",
       "      <td>3.0</td>\n",
       "      <td>irrel</td>\n",
       "      <td>3.0</td>\n",
       "      <td>irrel</td>\n",
       "      <td>1.0</td>\n",
       "      <td>no</td>\n",
       "      <td>NaN</td>\n",
       "      <td>молдавский_16</td>\n",
       "    </tr>\n",
       "    <tr>\n",
       "      <th>30582</th>\n",
       "      <td>865964187</td>\n",
       "      <td>iqbuzz</td>\n",
       "      <td>2</td>\n",
       "      <td>[[id71849126|Мария], эта страница - одна из мн...</td>\n",
       "      <td>мария этот страница один множество страница со...</td>\n",
       "      <td>Алшихово</td>\n",
       "      <td>Чувашская</td>\n",
       "      <td>2015-04-18</td>\n",
       "      <td>2016-10-03 19:16:50</td>\n",
       "      <td>alyonam</td>\n",
       "      <td>...</td>\n",
       "      <td>1.0</td>\n",
       "      <td>no</td>\n",
       "      <td>3.0</td>\n",
       "      <td>irrel</td>\n",
       "      <td>1.0</td>\n",
       "      <td>victim</td>\n",
       "      <td>1.0</td>\n",
       "      <td>no</td>\n",
       "      <td>NaN</td>\n",
       "      <td>чувашский_2</td>\n",
       "    </tr>\n",
       "    <tr>\n",
       "      <th>11924</th>\n",
       "      <td>1057543603</td>\n",
       "      <td>iqbuzz</td>\n",
       "      <td>2</td>\n",
       "      <td>уважаемые посетители пабника ТП Омск ((Если у ...</td>\n",
       "      <td>уважаемый посетитель тп омск межрассовыя откло...</td>\n",
       "      <td>Омск</td>\n",
       "      <td>Омская область</td>\n",
       "      <td>2015-10-11</td>\n",
       "      <td>2016-10-04 14:43:39</td>\n",
       "      <td>alyonam</td>\n",
       "      <td>...</td>\n",
       "      <td>1.0</td>\n",
       "      <td>no</td>\n",
       "      <td>3.0</td>\n",
       "      <td>irrel</td>\n",
       "      <td>2.0</td>\n",
       "      <td>agressor</td>\n",
       "      <td>1.0</td>\n",
       "      <td>no</td>\n",
       "      <td>NaN</td>\n",
       "      <td>казах_143</td>\n",
       "    </tr>\n",
       "    <tr>\n",
       "      <th>50832</th>\n",
       "      <td>782635024</td>\n",
       "      <td>iqbuzz</td>\n",
       "      <td>3</td>\n",
       "      <td>Сергей в Дагестане 14 официально признанных яз...</td>\n",
       "      <td>сергей дагестан официально признанный язык как...</td>\n",
       "      <td>Петрозаводск</td>\n",
       "      <td>Карелия</td>\n",
       "      <td>2015-02-28</td>\n",
       "      <td>2017-04-04 14:24:19</td>\n",
       "      <td>adzhigitova</td>\n",
       "      <td>...</td>\n",
       "      <td>2.0</td>\n",
       "      <td>unk</td>\n",
       "      <td>3.0</td>\n",
       "      <td>irrel</td>\n",
       "      <td>3.0</td>\n",
       "      <td>irrel</td>\n",
       "      <td>1.0</td>\n",
       "      <td>no</td>\n",
       "      <td>NaN</td>\n",
       "      <td>782635024</td>\n",
       "    </tr>\n",
       "  </tbody>\n",
       "</table>\n",
       "<p>5 rows × 61 columns</p>\n",
       "</div>"
      ],
      "text/plain": [
       "       document.id  source  stage  \\\n",
       "84618      5221131      vk      1   \n",
       "19105    501637645  iqbuzz      2   \n",
       "30582    865964187  iqbuzz      2   \n",
       "11924   1057543603  iqbuzz      2   \n",
       "50832    782635024  iqbuzz      3   \n",
       "\n",
       "                                             source_text  \\\n",
       "84618  13.09.2014. ВАЖНО! Первый фильм, постигающий в...   \n",
       "19105  Пребывание <b>молдавских</b> <b>гастарбайтеров...   \n",
       "30582  [[id71849126|Мария], эта страница - одна из мн...   \n",
       "11924  уважаемые посетители пабника ТП Омск ((Если у ...   \n",
       "50832  Сергей в Дагестане 14 официально признанных яз...   \n",
       "\n",
       "                                               lemm_text          city  \\\n",
       "84618  важно фильм постигать глубина смысл русско укр...    Ставрополь   \n",
       "19105  пребывание молдавский гастарбайтер ограничить ...        Москва   \n",
       "30582  мария этот страница один множество страница со...      Алшихово   \n",
       "11924  уважаемый посетитель тп омск межрассовыя откло...          Омск   \n",
       "50832  сергей дагестан официально признанный язык как...  Петрозаводск   \n",
       "\n",
       "                    region        date                 data     assessor  ...  \\\n",
       "84618  Ставропольский край  2014-09-14  2016-07-26 13:24:27        Dasha  ...   \n",
       "19105               Москва  2014-06-19  2016-10-03 14:30:20    dianasadr  ...   \n",
       "30582            Чувашская  2015-04-18  2016-10-03 19:16:50      alyonam  ...   \n",
       "11924       Омская область  2015-10-11  2016-10-04 14:43:39      alyonam  ...   \n",
       "50832              Карелия  2015-02-28  2017-04-04 14:24:19  adzhigitova  ...   \n",
       "\n",
       "      represent_ethicity_raw  represent_ethicity_meaning  \\\n",
       "84618                    NaN                         NaN   \n",
       "19105                    1.0                          no   \n",
       "30582                    1.0                          no   \n",
       "11924                    1.0                          no   \n",
       "50832                    2.0                         unk   \n",
       "\n",
       "      is_ethicity_superior_raw  is_ethicity_superior_meaning  \\\n",
       "84618                      NaN                           NaN   \n",
       "19105                      3.0                         irrel   \n",
       "30582                      3.0                         irrel   \n",
       "11924                      3.0                         irrel   \n",
       "50832                      3.0                         irrel   \n",
       "\n",
       "      is_ethicity_aggressor_raw is_ethicity_aggressor_meaning  \\\n",
       "84618                       NaN                           NaN   \n",
       "19105                       3.0                         irrel   \n",
       "30582                       1.0                        victim   \n",
       "11924                       2.0                      agressor   \n",
       "50832                       3.0                         irrel   \n",
       "\n",
       "      is_ethicity_dangerous_raw is_ethicity_dangerous_meaning comment  \\\n",
       "84618                       NaN                           NaN     NaN   \n",
       "19105                       1.0                            no     NaN   \n",
       "30582                       1.0                            no     NaN   \n",
       "11924                       1.0                            no     NaN   \n",
       "50832                       1.0                            no     NaN   \n",
       "\n",
       "              old_id  \n",
       "84618        5221131  \n",
       "19105  молдавский_16  \n",
       "30582    чувашский_2  \n",
       "11924      казах_143  \n",
       "50832      782635024  \n",
       "\n",
       "[5 rows x 61 columns]"
      ]
     },
     "execution_count": 6,
     "metadata": {},
     "output_type": "execute_result"
    }
   ],
   "source": [
    "df = texts.merge(data, how='left')\n",
    "df.sample(5)"
   ]
  },
  {
   "cell_type": "code",
   "execution_count": 7,
   "id": "88b555a29fca8ead",
   "metadata": {
    "ExecuteTime": {
     "end_time": "2024-03-16T13:13:15.216414Z",
     "start_time": "2024-03-16T13:13:15.209247Z"
    }
   },
   "outputs": [
    {
     "data": {
      "text/plain": [
       "(84784, 61)"
      ]
     },
     "execution_count": 7,
     "metadata": {},
     "output_type": "execute_result"
    }
   ],
   "source": [
    "df.shape"
   ]
  },
  {
   "cell_type": "code",
   "execution_count": 8,
   "id": "b0f58a43b9d2bc2e",
   "metadata": {
    "ExecuteTime": {
     "end_time": "2024-03-16T13:13:15.232899Z",
     "start_time": "2024-03-16T13:13:15.218424Z"
    }
   },
   "outputs": [
    {
     "data": {
      "text/plain": [
       "do_text_make_sense_raw\n",
       "yes     78372\n",
       "no       4334\n",
       "lang     1890\n",
       "joke      188\n",
       "Name: count, dtype: int64"
      ]
     },
     "execution_count": 8,
     "metadata": {},
     "output_type": "execute_result"
    }
   ],
   "source": [
    "df['do_text_make_sense_raw'].value_counts()"
   ]
  },
  {
   "cell_type": "code",
   "execution_count": 9,
   "id": "c59bb0d5a199388a",
   "metadata": {
    "ExecuteTime": {
     "end_time": "2024-03-16T13:13:15.300951Z",
     "start_time": "2024-03-16T13:13:15.234907Z"
    }
   },
   "outputs": [],
   "source": [
    "df.drop(df[df['do_text_make_sense_raw'] == 'no'].index, inplace=True)"
   ]
  },
  {
   "cell_type": "code",
   "execution_count": 10,
   "id": "7617fdd2aa60b7dc",
   "metadata": {
    "ExecuteTime": {
     "end_time": "2024-03-16T13:13:15.410364Z",
     "start_time": "2024-03-16T13:13:15.302029Z"
    }
   },
   "outputs": [],
   "source": [
    "ops = ['is_text_positive_recoded', 'is_text_neg_recoded']\n",
    "df[ops] = df[ops].apply(pd.to_numeric, errors='coerce')\n",
    "pos_ = df['is_text_positive_recoded']\n",
    "neg_ = df['is_text_neg_recoded']\n",
    "df.loc[(pos_ > 0) & (neg_ < 0), ops] = None\n",
    "df.loc[neg_ < 0, 'text_sentiment'] = -1\n",
    "df.loc[pos_ > 0, 'text_sentiment'] = 1\n",
    "df.loc[(neg_ == 0) & (pos_ == 0), 'text_sentiment'] = 0"
   ]
  },
  {
   "cell_type": "code",
   "execution_count": 11,
   "id": "48d83b3240a39054",
   "metadata": {
    "ExecuteTime": {
     "end_time": "2024-03-16T13:13:15.423634Z",
     "start_time": "2024-03-16T13:13:15.411371Z"
    }
   },
   "outputs": [
    {
     "data": {
      "text/plain": [
       "7"
      ]
     },
     "execution_count": 11,
     "metadata": {},
     "output_type": "execute_result"
    }
   ],
   "source": [
    "args = ['text_sentiment', 'has_eth_conflict_raw', 'has_pos_eth_interaction_raw', 'opinion_about_ethnonym_recoded',\n",
    "        'is_ethicity_superior_meaning', 'is_ethicity_aggressor_meaning',\n",
    "        'is_ethicity_dangerous_meaning']\n",
    "MAX_SPOIL = len(args)\n",
    "topic_to_russian = {'culture': 'культура', 'economics': 'экономика', 'ethicity': 'этничность', 'history': 'история',\n",
    "                    'humour': 'юмор', 'daily_routine': 'рутина', 'migration': 'миграция', 'other': 'другая',\n",
    "                    'politics': 'политика', 'religion': 'религия', 'society_social': 'социальная'}\n",
    "MAX_SPOIL"
   ]
  },
  {
   "cell_type": "code",
   "execution_count": 12,
   "id": "7d0e23cfe874429a",
   "metadata": {
    "ExecuteTime": {
     "end_time": "2024-03-16T13:13:15.442493Z",
     "start_time": "2024-03-16T13:13:15.425761Z"
    }
   },
   "outputs": [
    {
     "data": {
      "text/plain": [
       "has_pos_eth_interaction_raw\n",
       "no     62783\n",
       "yes    13603\n",
       "unk     1986\n",
       "Name: count, dtype: int64"
      ]
     },
     "execution_count": 12,
     "metadata": {},
     "output_type": "execute_result"
    }
   ],
   "source": [
    "df['has_pos_eth_interaction_raw'].value_counts()"
   ]
  },
  {
   "cell_type": "code",
   "execution_count": 13,
   "id": "e1e43c1fbfeba1c9",
   "metadata": {
    "ExecuteTime": {
     "end_time": "2024-03-16T13:13:15.461785Z",
     "start_time": "2024-03-16T13:13:15.446513Z"
    }
   },
   "outputs": [],
   "source": [
    "var_vocab = {\n",
    "    'text_sentiment': {'labels': {-1.0: 'этот текст является негативным', 0: 'этот текст является нейтральным',\n",
    "                                  1.0: 'этот текст является позитивным'}, 'aspect_level': False, 'prompt': 'тональность текста'},\n",
    "    'has_eth_conflict_raw': {\n",
    "        'labels': {'yes': 'в тексте есть этнический конфликт', 'no': 'в тексте этнический конфликт отсутствует',\n",
    "                   'unk': None},\n",
    "        'aspect_level': False, 'prompt': 'оцени наличие этнического конфликта'},\n",
    "    'has_pos_eth_interaction_raw': {'labels': {'yes': 'в тексте есть позитивное взаимодействие между этичностями',\n",
    "                                               'no': 'в тексте не зафиксировано позитивного взаимодействия этичностей',\n",
    "                                               'unk': None},\n",
    "                                    'aspect_level': False, 'prompt': 'наличие позитивного взаимодействия этничностей'},\n",
    "    'opinion_about_ethnonym_recoded': {'labels': {-1: 'мнение об этничности \\'{}\\' отрицательное',\n",
    "                                                  0: 'мнение об этничности \\'{}\\' нейтральное или не зафиксировано',\n",
    "                                                  1: 'мнение об этничности \\'{}\\' положительное'},\n",
    "                                       'aspect_level': True, 'prompt': 'мнение о {} в тексте'},\n",
    "    # 'represent_ethicity_meaning': {'labels': {}, 'aspect_level': True}, # not using yet\n",
    "    'is_ethicity_superior_meaning': {'labels': {'high': 'этничность \\'{}\\' является доминирующей',\n",
    "                                                'low': 'этничность \\'{}\\' является отчасти доминирующей',\n",
    "                                                'irrel': None},\n",
    "                                     'aspect_level': True, 'prompt': 'является ли этничность {} доминирующей'},\n",
    "    'is_ethicity_aggressor_meaning': {'labels': {'agressor':\n",
    "                                                     'этничность \\'{}\\' является агрессором',\n",
    "                                                 'victim': 'этничность \\'{}\\' является жертвой',\n",
    "                                                 'irrel': None},\n",
    "                                      'aspect_level': True, 'prompt': 'является ли этничность {} агрессором'},\n",
    "    'is_ethicity_dangerous_meaning': {\n",
    "        'labels': {'yes': 'этничность \\'{}\\' является опасной',\n",
    "                   'no': 'этничность \\'{}\\' не является опасной',\n",
    "                   'irrel': None},\n",
    "        'aspect_level': True, 'prompt': 'является ли этничность {} опасной'},\n",
    "}"
   ]
  },
  {
   "cell_type": "code",
   "execution_count": 14,
   "id": "635bdb29566bc788",
   "metadata": {
    "ExecuteTime": {
     "end_time": "2024-03-16T13:13:16.195368Z",
     "start_time": "2024-03-16T13:13:15.468912Z"
    }
   },
   "outputs": [],
   "source": [
    "df = df.fillna(np.nan).replace([np.nan], [None])"
   ]
  },
  {
   "cell_type": "code",
   "execution_count": 15,
   "id": "daa93c289140e12",
   "metadata": {
    "ExecuteTime": {
     "end_time": "2024-03-16T13:13:16.204529Z",
     "start_time": "2024-03-16T13:13:16.196382Z"
    }
   },
   "outputs": [
    {
     "data": {
      "text/plain": [
       "(14196,)"
      ]
     },
     "execution_count": 15,
     "metadata": {},
     "output_type": "execute_result"
    }
   ],
   "source": [
    "ids = df['document.id'].unique()\n",
    "ids.shape  # 14196 после дропа по do_text_make_sence = no"
   ]
  },
  {
   "cell_type": "code",
   "execution_count": 16,
   "id": "9351aae9-4899-4fdd-b31a-d67037ce6e1e",
   "metadata": {},
   "outputs": [
    {
     "name": "stderr",
     "output_type": "stream",
     "text": [
      "<>:3: SyntaxWarning: invalid escape sequence '\\['\n",
      "<>:3: SyntaxWarning: invalid escape sequence '\\['\n",
      "C:\\Users\\bentodan\\AppData\\Local\\Temp\\ipykernel_10020\\3087058704.py:3: SyntaxWarning: invalid escape sequence '\\['\n",
      "  CLEANR = [re.compile('<.*?>'), re.compile(\"\\[.*?\\]\")]\n"
     ]
    }
   ],
   "source": [
    "def clean(text):\n",
    "    text = text.apply(lambda x: str(x))\n",
    "    CLEANR = [re.compile('<.*?>'), re.compile(\"\\[.*?\\]\")]\n",
    "    for i in CLEANR:\n",
    "        text = text.apply(lambda x: re.sub(i, '', x))\n",
    "    text = text.apply(lambda x: x.replace('\\\\', ''))\n",
    "    text = text.apply(lambda x: re.sub(r\"([\" + re.escape(string.punctuation) + r\"])\\1+\", r\"\\1\", x))\n",
    "    text = text.apply(lambda x: re.sub(r\"http\\S+\", '', x))\n",
    "    text = text.apply(lambda x: re.sub(r\"\\r\", '', x))\n",
    "    text = text.apply(lambda x: re.sub(r'\\s+', ' ', x))\n",
    "    text = text.apply(lambda x: re.sub(r'\\s+', ' ', x))\n",
    "    text = text.apply(lambda x: re.sub('\"+','\"', x))\n",
    "    text = text.apply(lambda x: re.sub(\"'+\",\"'\", x))\n",
    "    items = string.punctuation + \" \"\n",
    "    text = text.apply(lambda x: x.lstrip(items) if isinstance(x, str) else x)\n",
    "    return text"
   ]
  },
  {
   "cell_type": "code",
   "execution_count": 17,
   "id": "da95d743-aa5f-4bc0-9b57-6bd0eda39588",
   "metadata": {},
   "outputs": [],
   "source": [
    "df['source_text'] = clean(df['source_text'])"
   ]
  },
  {
   "cell_type": "code",
   "execution_count": 18,
   "id": "14d872e3-023c-4db1-94cb-3c6096e6b346",
   "metadata": {},
   "outputs": [
    {
     "data": {
      "text/plain": [
       "'но у вас же бред написан. Какими русскими? Вообще то там грузины воевали с Абхазами. Это исторический факт. А статья может быть на 10% правдива. Почему вы верите, какой-то статье?'"
      ]
     },
     "execution_count": 18,
     "metadata": {},
     "output_type": "execute_result"
    }
   ],
   "source": [
    "df['source_text'][0]"
   ]
  },
  {
   "cell_type": "code",
   "execution_count": 19,
   "id": "731b6e0a7c036836",
   "metadata": {
    "ExecuteTime": {
     "end_time": "2024-03-16T13:13:16.215940Z",
     "start_time": "2024-03-16T13:13:16.205497Z"
    }
   },
   "outputs": [],
   "source": [
    "preprocessor = Preprocessor.Preprocessor(df=df, args=args, var_vocab=var_vocab, topic_to_russian=topic_to_russian)"
   ]
  },
  {
   "cell_type": "code",
   "execution_count": 20,
   "id": "319dfcf6ad5c50e8",
   "metadata": {
    "ExecuteTime": {
     "end_time": "2024-03-16T13:13:16.235982Z",
     "start_time": "2024-03-16T13:13:16.217936Z"
    }
   },
   "outputs": [
    {
     "name": "stdout",
     "output_type": "stream",
     "text": [
      "1069879253\n",
      "этот текст является негативным, в тексте не зафиксировано позитивного взаимодействия этичностей\n",
      "\n",
      "естественно пропаганда есть всегда и везде!Но не Ваши ли первые лица страны(!), корреспонденты СМИ вроде даже как с высшим образованием, позволяют себе такие выражения как:ватник,кацап,Путин Ху.ло и др? В наших СМИ слава богу не опускаются до хуторского балагана и упорно твердят о братском народе Украины!\n"
     ]
    }
   ],
   "source": [
    "id_ = df['document.id'].sample().values[0]\n",
    "descr, text = preprocessor.fit(id_)\n",
    "print(id_, descr, text, sep='\\n')"
   ]
  },
  {
   "cell_type": "code",
   "execution_count": 21,
   "id": "d26a4ba13ca497f0",
   "metadata": {
    "ExecuteTime": {
     "end_time": "2024-03-16T13:13:16.249176Z",
     "start_time": "2024-03-16T13:13:16.237995Z"
    }
   },
   "outputs": [
    {
     "name": "stdout",
     "output_type": "stream",
     "text": [
      "этот текст является негативным, в тексте не зафиксировано позитивного взаимодействия этичностей\n",
      "\n",
      "этот текст является нейтральным\n",
      "\n"
     ]
    }
   ],
   "source": [
    "descr_spoiled, text = preprocessor.fit(id_, spoil_size=len(preprocessor.args))\n",
    "print(descr, descr_spoiled, sep='\\n')"
   ]
  },
  {
   "cell_type": "code",
   "execution_count": 22,
   "id": "692e8a6ac50e1b93",
   "metadata": {
    "ExecuteTime": {
     "end_time": "2024-03-16T13:13:16.276722Z",
     "start_time": "2024-03-16T13:13:16.250194Z"
    }
   },
   "outputs": [
    {
     "name": "stdout",
     "output_type": "stream",
     "text": [
      "Текст имеет темы: политика, этот текст является негативным, в тексте не зафиксировано позитивного взаимодействия этичностей\n",
      "\n",
      "Текст имеет темы: культура, этот текст является негативным, в тексте не зафиксировано позитивного взаимодействия этичностей\n",
      "\n"
     ]
    }
   ],
   "source": [
    "descr_topics, _ = preprocessor.fit(id_, topic=True)\n",
    "descr_topics_spoiled, _ = preprocessor.fit(id_, topic=True, topic_spoil=1)\n",
    "print(descr_topics, descr_topics_spoiled, sep='\\n')"
   ]
  },
  {
   "cell_type": "markdown",
   "id": "4843d60bf53dd986",
   "metadata": {},
   "source": [
    "### Custom dataset <a class=\"anchor\" id=\"c3\"></a>"
   ]
  },
  {
   "cell_type": "code",
   "execution_count": 23,
   "id": "bdd2ab92586b4300",
   "metadata": {
    "ExecuteTime": {
     "end_time": "2024-03-16T13:13:16.352614Z",
     "start_time": "2024-03-16T13:13:16.277734Z"
    }
   },
   "outputs": [
    {
     "data": {
      "text/plain": [
       "((47999, 62), (16170, 62), (16281, 62))"
      ]
     },
     "execution_count": 23,
     "metadata": {},
     "output_type": "execute_result"
    }
   ],
   "source": [
    "process_ids, test_ids = train_test_split(ids, test_size=0.2, random_state=RANDOM_STATE)\n",
    "train_ids, validate_ids = train_test_split(process_ids, train_size=0.75, random_state=RANDOM_STATE)\n",
    "\n",
    "train = df.loc[df['document.id'].isin(train_ids)]\n",
    "test = df.loc[df['document.id'].isin(test_ids)]\n",
    "validate = df.loc[df['document.id'].isin(validate_ids)]\n",
    "train.shape, test.shape, validate.shape  # percents are ≈ (60%, 20%, 20%)"
   ]
  },
  {
   "cell_type": "markdown",
   "id": "54d13ab22fe08ea0",
   "metadata": {},
   "source": [
    "### Custom model <a class=\"anchor\" id=\"c4\"></a>"
   ]
  },
  {
   "cell_type": "code",
   "execution_count": 24,
   "id": "8fa1b0ce53ec3bf6",
   "metadata": {
    "ExecuteTime": {
     "end_time": "2024-03-16T13:13:16.528628Z",
     "start_time": "2024-03-16T13:13:16.353631Z"
    }
   },
   "outputs": [
    {
     "name": "stdout",
     "output_type": "stream",
     "text": [
      "Device used: cpu.\n"
     ]
    }
   ],
   "source": [
    "device = torch.device('cuda') if torch.cuda.is_available() else torch.device('cpu')\n",
    "print(f\"Device used: {device}.\")"
   ]
  },
  {
   "cell_type": "code",
   "execution_count": 25,
   "id": "ed00a5f39f8b806d",
   "metadata": {
    "ExecuteTime": {
     "end_time": "2024-03-16T13:13:21.215828Z",
     "start_time": "2024-03-16T13:13:16.529624Z"
    }
   },
   "outputs": [
    {
     "name": "stdout",
     "output_type": "stream",
     "text": [
      "Model loaded. Model tokenizer is BertTokenizerFast(name_or_path='cointegrated/rubert-tiny2', vocab_size=83828, model_max_length=512, is_fast=True, padding_side='right', truncation_side='right', special_tokens={'unk_token': '[UNK]', 'sep_token': '[SEP]', 'pad_token': '[PAD]', 'cls_token': '[CLS]', 'mask_token': '[MASK]'}, clean_up_tokenization_spaces=True),  added_tokens_decoder={\n",
      "\t0: AddedToken(\"[PAD]\", rstrip=False, lstrip=False, single_word=False, normalized=False, special=True),\n",
      "\t1: AddedToken(\"[UNK]\", rstrip=False, lstrip=False, single_word=False, normalized=False, special=True),\n",
      "\t2: AddedToken(\"[CLS]\", rstrip=False, lstrip=False, single_word=False, normalized=False, special=True),\n",
      "\t3: AddedToken(\"[SEP]\", rstrip=False, lstrip=False, single_word=False, normalized=False, special=True),\n",
      "\t4: AddedToken(\"[MASK]\", rstrip=False, lstrip=False, single_word=False, normalized=False, special=True),\n",
      "}.\n"
     ]
    }
   ],
   "source": [
    "model = MyModel.MyModel(device) # turn on the developer mode here\n",
    "print(f\"Model loaded. Model tokenizer is {model.tokenizer}.\")"
   ]
  },
  {
   "cell_type": "code",
   "execution_count": 26,
   "id": "1d44b225117fb6c1",
   "metadata": {
    "ExecuteTime": {
     "end_time": "2024-03-16T13:13:22.117995Z",
     "start_time": "2024-03-16T13:13:21.218827Z"
    }
   },
   "outputs": [
    {
     "name": "stdout",
     "output_type": "stream",
     "text": [
      "Model reloaded. Model tokenizer is BertTokenizerFast(name_or_path='cointegrated/rubert-tiny2', vocab_size=83828, model_max_length=512, is_fast=True, padding_side='right', truncation_side='right', special_tokens={'unk_token': '[UNK]', 'sep_token': '[SEP]', 'pad_token': '[PAD]', 'cls_token': '[CLS]', 'mask_token': '[MASK]'}, clean_up_tokenization_spaces=True),  added_tokens_decoder={\n",
      "\t0: AddedToken(\"[PAD]\", rstrip=False, lstrip=False, single_word=False, normalized=False, special=True),\n",
      "\t1: AddedToken(\"[UNK]\", rstrip=False, lstrip=False, single_word=False, normalized=False, special=True),\n",
      "\t2: AddedToken(\"[CLS]\", rstrip=False, lstrip=False, single_word=False, normalized=False, special=True),\n",
      "\t3: AddedToken(\"[SEP]\", rstrip=False, lstrip=False, single_word=False, normalized=False, special=True),\n",
      "\t4: AddedToken(\"[MASK]\", rstrip=False, lstrip=False, single_word=False, normalized=False, special=True),\n",
      "}.\n"
     ]
    }
   ],
   "source": [
    "model.reinitialize()\n",
    "print(f\"Model reloaded. Model tokenizer is {model.tokenizer}.\")"
   ]
  },
  {
   "cell_type": "markdown",
   "id": "17ce014580ed6d7a",
   "metadata": {},
   "source": [
    "### Trainer <a class=\"anchor\" id=\"c5\"></a>"
   ]
  },
  {
   "cell_type": "code",
   "execution_count": 27,
   "id": "26daec4d9c62257b",
   "metadata": {
    "ExecuteTime": {
     "end_time": "2024-03-16T13:13:22.132070Z",
     "start_time": "2024-03-16T13:13:22.121017Z"
    }
   },
   "outputs": [],
   "source": [
    "params = {\n",
    "    'batch_size': [8, 16],\n",
    "    'lr': [1e-5, 1e-6, 1e-4],\n",
    "    'max_spoil': range(1, MAX_SPOIL + 1, 2),\n",
    "    'spoil_proba': np.arange(0.2,  0.8 + 0.1, 0.1)\n",
    "}"
   ]
  },
  {
   "cell_type": "code",
   "execution_count": 28,
   "id": "3e0a3528",
   "metadata": {
    "ExecuteTime": {
     "end_time": "2024-03-16T13:13:26.486667Z",
     "start_time": "2024-03-16T13:13:22.135087Z"
    }
   },
   "outputs": [],
   "source": [
    "trainer = Trainer.Trainer(MyModel.MyModel, device, train, validate, test, preprocessor=preprocessor, params=params)"
   ]
  },
  {
   "cell_type": "markdown",
   "id": "d65ec752c6357f13",
   "metadata": {},
   "source": [
    "### Model training <a class=\"anchor\" id=\"c6\"></a>"
   ]
  },
  {
   "cell_type": "code",
   "execution_count": 29,
   "id": "dcdaeb6eadb8f8e7",
   "metadata": {
    "ExecuteTime": {
     "end_time": "2024-03-16T13:13:26.496522Z",
     "start_time": "2024-03-16T13:13:26.489687Z"
    }
   },
   "outputs": [],
   "source": [
    "torch.cuda.empty_cache()  # just in case"
   ]
  },
  {
   "cell_type": "code",
   "execution_count": 30,
   "id": "a2c1ac056328e123",
   "metadata": {
    "ExecuteTime": {
     "end_time": "2024-03-16T13:13:26.504383Z",
     "start_time": "2024-03-16T13:13:26.499545Z"
    }
   },
   "outputs": [],
   "source": [
    "# trainer.choose_model() # uncomment if you want to find best model"
   ]
  },
  {
   "cell_type": "code",
   "execution_count": 31,
   "id": "fe971e21b977473e",
   "metadata": {
    "ExecuteTime": {
     "end_time": "2024-03-16T13:13:26.512587Z",
     "start_time": "2024-03-16T13:13:26.506398Z"
    }
   },
   "outputs": [],
   "source": [
    "# trainer.save()"
   ]
  },
  {
   "cell_type": "code",
   "execution_count": 32,
   "id": "52f24cd508195125",
   "metadata": {
    "ExecuteTime": {
     "end_time": "2024-03-16T13:16:03.580647Z",
     "start_time": "2024-03-16T13:16:03.378355Z"
    }
   },
   "outputs": [],
   "source": [
    "# trainer.plot_loss(on_train=False)"
   ]
  },
  {
   "cell_type": "code",
   "execution_count": 33,
   "id": "635f3eafdcdb0257",
   "metadata": {
    "ExecuteTime": {
     "end_time": "2024-03-16T13:16:03.766227Z",
     "start_time": "2024-03-16T13:16:03.581654Z"
    }
   },
   "outputs": [],
   "source": [
    "# trainer.plot_metrics(on_train=False)"
   ]
  },
  {
   "cell_type": "markdown",
   "id": "283db0dc-ff91-4dc0-b7e6-4c4d8c09190b",
   "metadata": {
    "ExecuteTime": {
     "end_time": "2024-03-16T13:16:03.770968Z",
     "start_time": "2024-03-16T13:16:03.767239Z"
    }
   },
   "source": [
    "### Генерация описаний"
   ]
  },
  {
   "cell_type": "code",
   "execution_count": 34,
   "id": "0f371a21-7d8c-41bb-811c-92d0dca0386c",
   "metadata": {},
   "outputs": [],
   "source": [
    "from gpt_classes import GPTDataset, GPTModel, GPTTrainer"
   ]
  },
  {
   "cell_type": "code",
   "execution_count": 35,
   "id": "d213983d-b6d2-4b7b-b2bc-67c341487a0d",
   "metadata": {},
   "outputs": [],
   "source": [
    "gptdataset = GPTDataset.GPTDataset(df, preprocessor=preprocessor, args=var_vocab)"
   ]
  },
  {
   "cell_type": "code",
   "execution_count": 36,
   "id": "4ffe88f1-ddbd-4905-b9a9-bae0223c4e64",
   "metadata": {},
   "outputs": [
    {
     "name": "stdout",
     "output_type": "stream",
     "text": [
      "Задание: Сгенерируй описание следующего текста, оценитональность текста, оцени наличие этнического конфликта, наличие позитивного взаимодействия этничностей, мнение о абхаз в тексте, является ли этничность абхаз доминирующей, является ли этничность абхаз агрессором, является ли этничность абхаз опасной.\n",
      "Текст: но у вас же бред написан. Какими русскими? Вообще то там грузины воевали с Абхазами. Это исторический факт. А статья может быть на 10% правдива. Почему вы верите, какой-то статье?\n",
      "Описание: этот текст является негативным, в тексте есть этнический конфликт, в тексте не зафиксировано позитивного взаимодействия этичностей\n",
      "\n",
      "Задание: Сгенерируй описание следующего текста, оценитональность текста, оцени наличие этнического конфликта, наличие позитивного взаимодействия этничностей, мнение о абхаз в тексте, является ли этничность абхаз доминирующей, является ли этничность абхаз агрессором, является ли этничность абхаз опасной.\n",
      "Текст: но у вас же бред написан. Какими русскими? Вообще то там грузины воевали с Абхазами. Это исторический факт. А статья может быть на 10% правдива. Почему вы верите, какой-то статье?\n",
      "Описание:\n"
     ]
    }
   ],
   "source": [
    "print(gptdataset[0][0]), print(gptdataset[0][1]);"
   ]
  },
  {
   "cell_type": "code",
   "execution_count": 37,
   "id": "db54b9b4-a7d8-4c77-ae13-f03803434552",
   "metadata": {},
   "outputs": [],
   "source": [
    "from torch.utils.data import DataLoader"
   ]
  },
  {
   "cell_type": "code",
   "execution_count": 38,
   "id": "b3c173d4-1fd4-467d-bd22-4feabc6da473",
   "metadata": {},
   "outputs": [],
   "source": [
    "max_items = 200 # for now on\n",
    "gptTrainer = GPTTrainer.GPTTrainer(GPTModel.GPTModel, device, train[:max_items], validate[:max_items], test[:max_items], preprocessor=preprocessor, dataset=GPTDataset.GPTDataset, args=var_vocab, dataloader=DataLoader)\n",
    "# gptTrainer = GPTTrainer.GPTTrainer(GPTModel.GPTModel, device, train, validate, test, preprocessor=preprocessor, dataset=GPTDataset.GPTDataset, args=var_vocab, dataloader=DataLoader)"
   ]
  },
  {
   "cell_type": "code",
   "execution_count": 50,
   "id": "9e8eb367-fc43-417b-aedd-7896ce0beb5d",
   "metadata": {},
   "outputs": [
    {
     "data": {
      "text/plain": [
       "array([0, 1, 2])"
      ]
     },
     "execution_count": 50,
     "metadata": {},
     "output_type": "execute_result"
    }
   ],
   "source": [
    "gptTrainer.ids"
   ]
  },
  {
   "cell_type": "code",
   "execution_count": 39,
   "id": "70c46a22-7c74-42bc-986d-9a5c723c6ff4",
   "metadata": {},
   "outputs": [
    {
     "name": "stdout",
     "output_type": "stream",
     "text": [
      "Что такое питон?\n",
      "Питон - это млекопитающее, которое питается плодами растений и животных.\n",
      "\n",
      "Какие у вас ассоциации со словом \"питон\"?\n",
      "Птица\n",
      "птица, которая летает, летающая, летящая\n",
      "Это птица. Птица - птица, которую можно увидеть в небе, а можно и не увидеть. Это птица-попугай, который живет на земле. А еще это птица - птичка, которой можно летать. И еще - птеродактиль\n"
     ]
    }
   ],
   "source": [
    "print(gptTrainer.model.generate('Что такое питон?')) # слон - это змея:)"
   ]
  },
  {
   "cell_type": "code",
   "execution_count": 40,
   "id": "f85a5f18-2d43-4b9b-97b7-c16093b2a806",
   "metadata": {},
   "outputs": [
    {
     "data": {
      "image/png": "[encoded data removed]",
      "text/plain": [
       "<Figure size 640x480 with 1 Axes>"
      ]
     },
     "metadata": {},
     "output_type": "display_data"
    }
   ],
   "source": [
    "gptTrainer.train(1)"
   ]
  },
  {
   "cell_type": "code",
   "execution_count": 45,
   "id": "919845ab-37c7-49a5-b120-6a53612c1a00",
   "metadata": {},
   "outputs": [
    {
     "name": "stdout",
     "output_type": "stream",
     "text": [
      "Что такое питон? — спросил я.\n",
      "– Это ты о чем-то таком, что тебе не нравится в этом мире… Ты хочешь сказать: «Я хочу знать?» — и все это время у тебя на лице было написано отвращение к этому миру! И вот теперь мне стало стыдно перед тобой за свою глупую выходку с этим чудовищем из мира живых». Я понял смысл этой фразы до того как она была произнесена вслух; а потом сказал себе про себя эту фразу еще несколько раз – но так ничего\n"
     ]
    }
   ],
   "source": [
    "print(gptTrainer.model.generate('Что такое питон?'))"
   ]
  },
  {
   "cell_type": "code",
   "execution_count": 49,
   "id": "2f1a9df7-8615-4418-a039-5f0f972ca7ba",
   "metadata": {},
   "outputs": [
    {
     "name": "stdout",
     "output_type": "stream",
     "text": [
      "id:  0 \n",
      " <unk><unk>.  В этом случае, как и во многих других случаях в процессе работы над проектом необходимо учитывать все нюансы: \n",
      " 1) наличие у заказчика опыта разработки проекта (в том числе с учетом специфики конкретного объекта); 2-е место по объему выполняемых работ; 3 -и другие факторы влияющие на конечный результат – это сроки выполнения заказа или его стоимость при условии соблюдения всех требований Заказчика к качеству предоставляемой услуги. 4/5 от общей суммы заказанного объема услуг должен составлять не менее 50%\n",
      "id:  1 \n",
      " <unk><unk>.  В этом случае, как и во многих других случаях в процессе работы над проектом необходимо учитывать все нюансы: \n",
      " 1) наличие у заказчика опыта разработки проекта (в том числе с учетом специфики конкретного объекта); 2-е место по объему выполняемых работ; 3 -и другие факторы влияющие на конечный результат – это сроки выполнения заказа или его стоимость при условии соблюдения всех требований Заказчика к качеству предоставляемой услуги. 4/5 от общей суммы заказанного объема услуг должен составлять не менее 50%\n",
      "id:  2 \n",
      " <unk><unk>.  В этом случае, как и во многих других случаях в процессе работы над проектом необходимо учитывать все нюансы: \n",
      " 1) наличие у заказчика опыта разработки проекта (в том числе с учетом специфики конкретного объекта); 2-е место по объему выполняемых работ; 3 -и другие факторы влияющие на конечный результат – это сроки выполнения заказа или его стоимость при условии соблюдения всех требований Заказчика к качеству предоставляемой услуги. 4/5 от общей суммы заказанного объема услуг должен составлять не менее 50%\n"
     ]
    }
   ],
   "source": [
    "for el in gptTrainer.data[0][0]['generated']:\n",
    "    print(\"id: \", el[0], \"\\n\", el[1])"
   ]
  },
  {
   "cell_type": "code",
   "execution_count": 43,
   "id": "c3e8604a-65bc-44dc-980f-b13cb588b62d",
   "metadata": {},
   "outputs": [],
   "source": [
    "GPTparams = {\n",
    "    'batch_size': [10, 20],\n",
    "    'lr': [1e-5, 1e-6, 1e-4],\n",
    "    'ngrams': [1, 2, 3, 4, 5]\n",
    "}"
   ]
  },
  {
   "cell_type": "code",
   "execution_count": 44,
   "id": "d8e22622-b7b4-4077-b6a1-89339b53109a",
   "metadata": {},
   "outputs": [
    {
     "data": {
      "image/png": "[encoded data removed]",
      "text/plain": [
       "<Figure size 640x480 with 1 Axes>"
      ]
     },
     "metadata": {},
     "output_type": "display_data"
    },
    {
     "data": {
      "application/vnd.jupyter.widget-view+json": {
       "model_id": "9d3be433eaf04c62bb26d46fb725f86a",
       "version_major": 2,
       "version_minor": 0
      },
      "text/plain": [
       "  0%|          | 0/4 [00:00<?, ?it/s]"
      ]
     },
     "metadata": {},
     "output_type": "display_data"
    },
    {
     "name": "stderr",
     "output_type": "stream",
     "text": [
      "\n",
      "KeyboardInterrupt\n",
      "\n"
     ]
    }
   ],
   "source": [
    "gptTrainer.choose_model(GPTparams)"
   ]
  },
  {
   "cell_type": "code",
   "execution_count": null,
   "id": "af321609-5668-4ece-bbcb-b588b47e7fcb",
   "metadata": {},
   "outputs": [],
   "source": []
  }
 ],
 "metadata": {
  "kernelspec": {
   "display_name": "Python 3 (ipykernel)",
   "language": "python",
   "name": "python3"
  },
  "language_info": {
   "codemirror_mode": {
    "name": "ipython",
    "version": 3
   },
   "file_extension": ".py",
   "mimetype": "text/x-python",
   "name": "python",
   "nbconvert_exporter": "python",
   "pygments_lexer": "ipython3",
   "version": "3.12.2"
  }
 },
 "nbformat": 4,
 "nbformat_minor": 5
}
