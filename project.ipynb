{
 "cells": [
  {
   "cell_type": "markdown",
   "id": "fa11297e-3260-48a9-99ff-f72dbfb972e3",
   "metadata": {},
   "source": [
    "# HSE-2024 text classification project"
   ]
  },
  {
   "cell_type": "markdown",
   "id": "ce9bf42f5b985ac8",
   "metadata": {},
   "source": [
    "## Table of content\n",
    "* [Imports](#c1)\n",
    "* [Data loading and preprocessing](#c2)\n",
    "* [Custom dataset](#c3)\n",
    "* [Custom model](#c4)\n",
    "* [Trainer](#c5)\n",
    "* [Model training](#c6)"
   ]
  },
  {
   "cell_type": "markdown",
   "id": "868114483c848d79",
   "metadata": {},
   "source": [
    "### Imports <a class=\"anchor\" id=\"c1\"></a>"
   ]
  },
  {
   "cell_type": "code",
   "execution_count": 1,
   "id": "b0efad74",
   "metadata": {},
   "outputs": [],
   "source": [
    "import numpy as np\n",
    "import pandas as pd\n",
    "\n",
    "import torch\n",
    "from sklearn.model_selection import train_test_split\n",
    "\n",
    "import os\n",
    "import re\n",
    "import string\n",
    "\n",
    "from classes import Preprocessor, MyModel, Trainer"
   ]
  },
  {
   "cell_type": "markdown",
   "id": "79bf6ab199bd0511",
   "metadata": {},
   "source": [
    "### Data loading and preprocessing <a class=\"anchor\" id=\"c2\"></a>"
   ]
  },
  {
   "cell_type": "code",
   "execution_count": 2,
   "id": "f1302e35a33a0911",
   "metadata": {
    "ExecuteTime": {
     "end_time": "2024-03-16T13:13:13.519967Z",
     "start_time": "2024-03-16T13:13:13.510904Z"
    }
   },
   "outputs": [
    {
     "data": {
      "text/plain": [
       "<torch._C.Generator at 0x16782262a90>"
      ]
     },
     "execution_count": 2,
     "metadata": {},
     "output_type": "execute_result"
    }
   ],
   "source": [
    "RANDOM_STATE = 42\n",
    "torch.manual_seed(RANDOM_STATE)"
   ]
  },
  {
   "cell_type": "code",
   "execution_count": 3,
   "id": "24ce7bd260a89584",
   "metadata": {
    "ExecuteTime": {
     "end_time": "2024-03-16T13:13:13.541403Z",
     "start_time": "2024-03-16T13:13:13.521039Z"
    }
   },
   "outputs": [],
   "source": [
    "base_dir = 'data/'\n",
    "if not os.path.exists(base_dir):  # создадим папку, куда будем сохранять модели, и где будут лежать данные\n",
    "    os.makedirs(base_dir)"
   ]
  },
  {
   "cell_type": "code",
   "execution_count": 4,
   "id": "1db05a48bd6571f2",
   "metadata": {
    "ExecuteTime": {
     "end_time": "2024-03-16T13:13:13.908022Z",
     "start_time": "2024-03-16T13:13:13.543410Z"
    }
   },
   "outputs": [
    {
     "data": {
      "text/html": [
       "<div>\n",
       "<style scoped>\n",
       "    .dataframe tbody tr th:only-of-type {\n",
       "        vertical-align: middle;\n",
       "    }\n",
       "\n",
       "    .dataframe tbody tr th {\n",
       "        vertical-align: top;\n",
       "    }\n",
       "\n",
       "    .dataframe thead th {\n",
       "        text-align: right;\n",
       "    }\n",
       "</style>\n",
       "<table border=\"1\" class=\"dataframe\">\n",
       "  <thead>\n",
       "    <tr style=\"text-align: right;\">\n",
       "      <th></th>\n",
       "      <th>document.id</th>\n",
       "      <th>source</th>\n",
       "      <th>stage</th>\n",
       "      <th>source_text</th>\n",
       "      <th>lemm_text</th>\n",
       "      <th>city</th>\n",
       "      <th>region</th>\n",
       "      <th>date</th>\n",
       "    </tr>\n",
       "  </thead>\n",
       "  <tbody>\n",
       "    <tr>\n",
       "      <th>8508</th>\n",
       "      <td>795951389</td>\n",
       "      <td>iqbuzz</td>\n",
       "      <td>3</td>\n",
       "      <td>[[id5284111|Валентин], Вот даже в твоих словах...</td>\n",
       "      <td>валентин твой слово нотка тот равный кома высо...</td>\n",
       "      <td>Ноябрьск</td>\n",
       "      <td>Ямало-Ненецкий  АО</td>\n",
       "      <td>2015-03-07</td>\n",
       "    </tr>\n",
       "    <tr>\n",
       "      <th>258</th>\n",
       "      <td>1032649600</td>\n",
       "      <td>iqbuzz</td>\n",
       "      <td>2</td>\n",
       "      <td>[[id169546378|Лавъ-Изъ], Государство в коем пр...</td>\n",
       "      <td>государство кой преобладание один нация более ...</td>\n",
       "      <td>Прокопьевск</td>\n",
       "      <td>Кемеровская область</td>\n",
       "      <td>2015-09-21</td>\n",
       "    </tr>\n",
       "    <tr>\n",
       "      <th>7685</th>\n",
       "      <td>758915861</td>\n",
       "      <td>iqbuzz</td>\n",
       "      <td>3</td>\n",
       "      <td>Молодые и свободные. Их дружбу не купишь за бу...</td>\n",
       "      <td>легко молодая сезон серия молодая свободный др...</td>\n",
       "      <td>Москва</td>\n",
       "      <td>Москва</td>\n",
       "      <td>2015-02-12</td>\n",
       "    </tr>\n",
       "  </tbody>\n",
       "</table>\n",
       "</div>"
      ],
      "text/plain": [
       "      document.id  source  stage  \\\n",
       "8508    795951389  iqbuzz      3   \n",
       "258    1032649600  iqbuzz      2   \n",
       "7685    758915861  iqbuzz      3   \n",
       "\n",
       "                                            source_text  \\\n",
       "8508  [[id5284111|Валентин], Вот даже в твоих словах...   \n",
       "258   [[id169546378|Лавъ-Изъ], Государство в коем пр...   \n",
       "7685  Молодые и свободные. Их дружбу не купишь за бу...   \n",
       "\n",
       "                                              lemm_text         city  \\\n",
       "8508  валентин твой слово нотка тот равный кома высо...     Ноябрьск   \n",
       "258   государство кой преобладание один нация более ...  Прокопьевск   \n",
       "7685  легко молодая сезон серия молодая свободный др...       Москва   \n",
       "\n",
       "                   region        date  \n",
       "8508   Ямало-Ненецкий  АО  2015-03-07  \n",
       "258   Кемеровская область  2015-09-21  \n",
       "7685               Москва  2015-02-12  "
      ]
     },
     "execution_count": 4,
     "metadata": {},
     "output_type": "execute_result"
    }
   ],
   "source": [
    "texts = pd.read_csv(f'{base_dir}texts_and_metadata.txt', sep='\\t')\n",
    "texts.sample(3)"
   ]
  },
  {
   "cell_type": "code",
   "execution_count": 5,
   "id": "2f8c930af33a5b55",
   "metadata": {
    "ExecuteTime": {
     "end_time": "2024-03-16T13:13:15.058581Z",
     "start_time": "2024-03-16T13:13:13.910030Z"
    }
   },
   "outputs": [
    {
     "data": {
      "text/html": [
       "<div>\n",
       "<style scoped>\n",
       "    .dataframe tbody tr th:only-of-type {\n",
       "        vertical-align: middle;\n",
       "    }\n",
       "\n",
       "    .dataframe tbody tr th {\n",
       "        vertical-align: top;\n",
       "    }\n",
       "\n",
       "    .dataframe thead th {\n",
       "        text-align: right;\n",
       "    }\n",
       "</style>\n",
       "<table border=\"1\" class=\"dataframe\">\n",
       "  <thead>\n",
       "    <tr style=\"text-align: right;\">\n",
       "      <th></th>\n",
       "      <th>document.id</th>\n",
       "      <th>source</th>\n",
       "      <th>stage</th>\n",
       "      <th>data</th>\n",
       "      <th>assessor</th>\n",
       "      <th>seed_eth_group</th>\n",
       "      <th>for_questions_about_text</th>\n",
       "      <th>do_text_make_sense_raw</th>\n",
       "      <th>do_text_make_sense_recoded</th>\n",
       "      <th>has_ethnonym_raw</th>\n",
       "      <th>...</th>\n",
       "      <th>represent_ethicity_raw</th>\n",
       "      <th>represent_ethicity_meaning</th>\n",
       "      <th>is_ethicity_superior_raw</th>\n",
       "      <th>is_ethicity_superior_meaning</th>\n",
       "      <th>is_ethicity_aggressor_raw</th>\n",
       "      <th>is_ethicity_aggressor_meaning</th>\n",
       "      <th>is_ethicity_dangerous_raw</th>\n",
       "      <th>is_ethicity_dangerous_meaning</th>\n",
       "      <th>comment</th>\n",
       "      <th>old_id</th>\n",
       "    </tr>\n",
       "  </thead>\n",
       "  <tbody>\n",
       "    <tr>\n",
       "      <th>16915</th>\n",
       "      <td>722771149</td>\n",
       "      <td>iqbuzz</td>\n",
       "      <td>3</td>\n",
       "      <td>2017-03-28 13:11:59</td>\n",
       "      <td>Tatiana</td>\n",
       "      <td>башкир</td>\n",
       "      <td>0</td>\n",
       "      <td>yes</td>\n",
       "      <td>1</td>\n",
       "      <td>several</td>\n",
       "      <td>...</td>\n",
       "      <td>1.0</td>\n",
       "      <td>no</td>\n",
       "      <td>3.0</td>\n",
       "      <td>irrel</td>\n",
       "      <td>3.0</td>\n",
       "      <td>irrel</td>\n",
       "      <td>1.0</td>\n",
       "      <td>no</td>\n",
       "      <td>Казахи, Уйгуры, Дунгане, Хакасы, Татары, Таджики</td>\n",
       "      <td>722771149</td>\n",
       "    </tr>\n",
       "    <tr>\n",
       "      <th>49881</th>\n",
       "      <td>1068054308</td>\n",
       "      <td>iqbuzz</td>\n",
       "      <td>3</td>\n",
       "      <td>2017-03-28 21:28:24</td>\n",
       "      <td>adzhigitova</td>\n",
       "      <td>абхаз</td>\n",
       "      <td>1</td>\n",
       "      <td>yes</td>\n",
       "      <td>1</td>\n",
       "      <td>several</td>\n",
       "      <td>...</td>\n",
       "      <td>2.0</td>\n",
       "      <td>unk</td>\n",
       "      <td>3.0</td>\n",
       "      <td>irrel</td>\n",
       "      <td>2.0</td>\n",
       "      <td>agressor</td>\n",
       "      <td>2.0</td>\n",
       "      <td>yes</td>\n",
       "      <td>NaN</td>\n",
       "      <td>1068054308</td>\n",
       "    </tr>\n",
       "    <tr>\n",
       "      <th>77273</th>\n",
       "      <td>1064714418</td>\n",
       "      <td>iqbuzz</td>\n",
       "      <td>2</td>\n",
       "      <td>2016-10-14 16:52:28</td>\n",
       "      <td>Tankly</td>\n",
       "      <td>удмурт</td>\n",
       "      <td>0</td>\n",
       "      <td>yes</td>\n",
       "      <td>1</td>\n",
       "      <td>several</td>\n",
       "      <td>...</td>\n",
       "      <td>1.0</td>\n",
       "      <td>no</td>\n",
       "      <td>3.0</td>\n",
       "      <td>irrel</td>\n",
       "      <td>3.0</td>\n",
       "      <td>irrel</td>\n",
       "      <td>1.0</td>\n",
       "      <td>no</td>\n",
       "      <td>NaN</td>\n",
       "      <td>удмурт_10</td>\n",
       "    </tr>\n",
       "  </tbody>\n",
       "</table>\n",
       "<p>3 rows × 56 columns</p>\n",
       "</div>"
      ],
      "text/plain": [
       "       document.id  source  stage                 data     assessor  \\\n",
       "16915    722771149  iqbuzz      3  2017-03-28 13:11:59      Tatiana   \n",
       "49881   1068054308  iqbuzz      3  2017-03-28 21:28:24  adzhigitova   \n",
       "77273   1064714418  iqbuzz      2  2016-10-14 16:52:28       Tankly   \n",
       "\n",
       "      seed_eth_group  for_questions_about_text do_text_make_sense_raw  \\\n",
       "16915         башкир                         0                    yes   \n",
       "49881          абхаз                         1                    yes   \n",
       "77273         удмурт                         0                    yes   \n",
       "\n",
       "       do_text_make_sense_recoded has_ethnonym_raw  ...  \\\n",
       "16915                           1          several  ...   \n",
       "49881                           1          several  ...   \n",
       "77273                           1          several  ...   \n",
       "\n",
       "      represent_ethicity_raw represent_ethicity_meaning  \\\n",
       "16915                    1.0                         no   \n",
       "49881                    2.0                        unk   \n",
       "77273                    1.0                         no   \n",
       "\n",
       "      is_ethicity_superior_raw is_ethicity_superior_meaning  \\\n",
       "16915                      3.0                        irrel   \n",
       "49881                      3.0                        irrel   \n",
       "77273                      3.0                        irrel   \n",
       "\n",
       "      is_ethicity_aggressor_raw  is_ethicity_aggressor_meaning  \\\n",
       "16915                       3.0                          irrel   \n",
       "49881                       2.0                       agressor   \n",
       "77273                       3.0                          irrel   \n",
       "\n",
       "       is_ethicity_dangerous_raw  is_ethicity_dangerous_meaning  \\\n",
       "16915                        1.0                             no   \n",
       "49881                        2.0                            yes   \n",
       "77273                        1.0                             no   \n",
       "\n",
       "                                                comment      old_id  \n",
       "16915  Казахи, Уйгуры, Дунгане, Хакасы, Татары, Таджики   722771149  \n",
       "49881                                               NaN  1068054308  \n",
       "77273                                               NaN   удмурт_10  \n",
       "\n",
       "[3 rows x 56 columns]"
      ]
     },
     "execution_count": 5,
     "metadata": {},
     "output_type": "execute_result"
    }
   ],
   "source": [
    "data = pd.read_csv(f'{base_dir}coding_results.txt', low_memory=False, sep='\\t')\n",
    "data.sample(3)"
   ]
  },
  {
   "cell_type": "code",
   "execution_count": 6,
   "id": "21d27009f3a04da6",
   "metadata": {
    "ExecuteTime": {
     "end_time": "2024-03-16T13:13:15.207178Z",
     "start_time": "2024-03-16T13:13:15.059593Z"
    }
   },
   "outputs": [
    {
     "data": {
      "text/html": [
       "<div>\n",
       "<style scoped>\n",
       "    .dataframe tbody tr th:only-of-type {\n",
       "        vertical-align: middle;\n",
       "    }\n",
       "\n",
       "    .dataframe tbody tr th {\n",
       "        vertical-align: top;\n",
       "    }\n",
       "\n",
       "    .dataframe thead th {\n",
       "        text-align: right;\n",
       "    }\n",
       "</style>\n",
       "<table border=\"1\" class=\"dataframe\">\n",
       "  <thead>\n",
       "    <tr style=\"text-align: right;\">\n",
       "      <th></th>\n",
       "      <th>document.id</th>\n",
       "      <th>source</th>\n",
       "      <th>stage</th>\n",
       "      <th>source_text</th>\n",
       "      <th>lemm_text</th>\n",
       "      <th>city</th>\n",
       "      <th>region</th>\n",
       "      <th>date</th>\n",
       "      <th>data</th>\n",
       "      <th>assessor</th>\n",
       "      <th>...</th>\n",
       "      <th>represent_ethicity_raw</th>\n",
       "      <th>represent_ethicity_meaning</th>\n",
       "      <th>is_ethicity_superior_raw</th>\n",
       "      <th>is_ethicity_superior_meaning</th>\n",
       "      <th>is_ethicity_aggressor_raw</th>\n",
       "      <th>is_ethicity_aggressor_meaning</th>\n",
       "      <th>is_ethicity_dangerous_raw</th>\n",
       "      <th>is_ethicity_dangerous_meaning</th>\n",
       "      <th>comment</th>\n",
       "      <th>old_id</th>\n",
       "    </tr>\n",
       "  </thead>\n",
       "  <tbody>\n",
       "    <tr>\n",
       "      <th>30991</th>\n",
       "      <td>1069099174</td>\n",
       "      <td>iqbuzz</td>\n",
       "      <td>2</td>\n",
       "      <td>[[id328761257|Ашотик], да не. Помнишь я тебе к...</td>\n",
       "      <td>ашотик помнить кидать вт немного помогать один...</td>\n",
       "      <td>Иркутск</td>\n",
       "      <td>Иркутская область</td>\n",
       "      <td>2015-10-24</td>\n",
       "      <td>2016-10-19 00:02:58</td>\n",
       "      <td>dianasadr</td>\n",
       "      <td>...</td>\n",
       "      <td>1.0</td>\n",
       "      <td>no</td>\n",
       "      <td>1.0</td>\n",
       "      <td>low</td>\n",
       "      <td>3.0</td>\n",
       "      <td>irrel</td>\n",
       "      <td>1.0</td>\n",
       "      <td>no</td>\n",
       "      <td>NaN</td>\n",
       "      <td>чурка_4</td>\n",
       "    </tr>\n",
       "    <tr>\n",
       "      <th>7096</th>\n",
       "      <td>749646192</td>\n",
       "      <td>iqbuzz</td>\n",
       "      <td>2</td>\n",
       "      <td>[[id213010462|Иван], вот и всплыла твоя зомбир...</td>\n",
       "      <td>иван всплыть твой ваш русский исключительность...</td>\n",
       "      <td>Петрозаводск</td>\n",
       "      <td>Карелия</td>\n",
       "      <td>2015-02-08</td>\n",
       "      <td>2016-10-18 23:52:52</td>\n",
       "      <td>skuchilina</td>\n",
       "      <td>...</td>\n",
       "      <td>1.0</td>\n",
       "      <td>no</td>\n",
       "      <td>3.0</td>\n",
       "      <td>irrel</td>\n",
       "      <td>3.0</td>\n",
       "      <td>irrel</td>\n",
       "      <td>1.0</td>\n",
       "      <td>no</td>\n",
       "      <td>Негр - афроамериканец</td>\n",
       "      <td>вепс_58</td>\n",
       "    </tr>\n",
       "    <tr>\n",
       "      <th>43960</th>\n",
       "      <td>730222073</td>\n",
       "      <td>iqbuzz</td>\n",
       "      <td>3</td>\n",
       "      <td>Ну-да и воевать до последнего украинца или рус...</td>\n",
       "      <td>воевать последний украинец руский уйти воевать...</td>\n",
       "      <td>Нефтеюганск</td>\n",
       "      <td>Ханты-Мансийский Автономный окру</td>\n",
       "      <td>2015-01-28</td>\n",
       "      <td>2017-03-25 18:45:56</td>\n",
       "      <td>skuchilina</td>\n",
       "      <td>...</td>\n",
       "      <td>1.0</td>\n",
       "      <td>no</td>\n",
       "      <td>3.0</td>\n",
       "      <td>irrel</td>\n",
       "      <td>3.0</td>\n",
       "      <td>irrel</td>\n",
       "      <td>1.0</td>\n",
       "      <td>no</td>\n",
       "      <td>NaN</td>\n",
       "      <td>730222073</td>\n",
       "    </tr>\n",
       "    <tr>\n",
       "      <th>37248</th>\n",
       "      <td>535811168</td>\n",
       "      <td>iqbuzz</td>\n",
       "      <td>3</td>\n",
       "      <td>аэропорт, известная история, но не безнаказанн...</td>\n",
       "      <td>re сочинский олимпиада конец сказка аэропорт и...</td>\n",
       "      <td>Коломна</td>\n",
       "      <td>Московская область</td>\n",
       "      <td>2014-02-12</td>\n",
       "      <td>2017-03-24 21:26:20</td>\n",
       "      <td>skuchilina</td>\n",
       "      <td>...</td>\n",
       "      <td>2.0</td>\n",
       "      <td>unk</td>\n",
       "      <td>3.0</td>\n",
       "      <td>irrel</td>\n",
       "      <td>3.0</td>\n",
       "      <td>irrel</td>\n",
       "      <td>1.0</td>\n",
       "      <td>no</td>\n",
       "      <td>NaN</td>\n",
       "      <td>535811168</td>\n",
       "    </tr>\n",
       "    <tr>\n",
       "      <th>54939</th>\n",
       "      <td>818208150</td>\n",
       "      <td>iqbuzz</td>\n",
       "      <td>3</td>\n",
       "      <td>\\\\\"Я чуваш. Есть такая русская национальность\\...</td>\n",
       "      <td>re гостиный чуваш такой русский национальность...</td>\n",
       "      <td>Приозерск</td>\n",
       "      <td>Ленинградская область</td>\n",
       "      <td>2015-03-19</td>\n",
       "      <td>2017-03-31 21:06:31</td>\n",
       "      <td>Tatiana</td>\n",
       "      <td>...</td>\n",
       "      <td>1.0</td>\n",
       "      <td>no</td>\n",
       "      <td>3.0</td>\n",
       "      <td>irrel</td>\n",
       "      <td>3.0</td>\n",
       "      <td>irrel</td>\n",
       "      <td>1.0</td>\n",
       "      <td>no</td>\n",
       "      <td>NaN</td>\n",
       "      <td>818208150</td>\n",
       "    </tr>\n",
       "  </tbody>\n",
       "</table>\n",
       "<p>5 rows × 61 columns</p>\n",
       "</div>"
      ],
      "text/plain": [
       "       document.id  source  stage  \\\n",
       "30991   1069099174  iqbuzz      2   \n",
       "7096     749646192  iqbuzz      2   \n",
       "43960    730222073  iqbuzz      3   \n",
       "37248    535811168  iqbuzz      3   \n",
       "54939    818208150  iqbuzz      3   \n",
       "\n",
       "                                             source_text  \\\n",
       "30991  [[id328761257|Ашотик], да не. Помнишь я тебе к...   \n",
       "7096   [[id213010462|Иван], вот и всплыла твоя зомбир...   \n",
       "43960  Ну-да и воевать до последнего украинца или рус...   \n",
       "37248  аэропорт, известная история, но не безнаказанн...   \n",
       "54939  \\\\\"Я чуваш. Есть такая русская национальность\\...   \n",
       "\n",
       "                                               lemm_text          city  \\\n",
       "30991  ашотик помнить кидать вт немного помогать один...       Иркутск   \n",
       "7096   иван всплыть твой ваш русский исключительность...  Петрозаводск   \n",
       "43960  воевать последний украинец руский уйти воевать...   Нефтеюганск   \n",
       "37248  re сочинский олимпиада конец сказка аэропорт и...       Коломна   \n",
       "54939  re гостиный чуваш такой русский национальность...     Приозерск   \n",
       "\n",
       "                                 region        date                 data  \\\n",
       "30991                 Иркутская область  2015-10-24  2016-10-19 00:02:58   \n",
       "7096                            Карелия  2015-02-08  2016-10-18 23:52:52   \n",
       "43960  Ханты-Мансийский Автономный окру  2015-01-28  2017-03-25 18:45:56   \n",
       "37248                Московская область  2014-02-12  2017-03-24 21:26:20   \n",
       "54939             Ленинградская область  2015-03-19  2017-03-31 21:06:31   \n",
       "\n",
       "         assessor  ... represent_ethicity_raw  represent_ethicity_meaning  \\\n",
       "30991   dianasadr  ...                    1.0                          no   \n",
       "7096   skuchilina  ...                    1.0                          no   \n",
       "43960  skuchilina  ...                    1.0                          no   \n",
       "37248  skuchilina  ...                    2.0                         unk   \n",
       "54939     Tatiana  ...                    1.0                          no   \n",
       "\n",
       "      is_ethicity_superior_raw  is_ethicity_superior_meaning  \\\n",
       "30991                      1.0                           low   \n",
       "7096                       3.0                         irrel   \n",
       "43960                      3.0                         irrel   \n",
       "37248                      3.0                         irrel   \n",
       "54939                      3.0                         irrel   \n",
       "\n",
       "      is_ethicity_aggressor_raw is_ethicity_aggressor_meaning  \\\n",
       "30991                       3.0                         irrel   \n",
       "7096                        3.0                         irrel   \n",
       "43960                       3.0                         irrel   \n",
       "37248                       3.0                         irrel   \n",
       "54939                       3.0                         irrel   \n",
       "\n",
       "      is_ethicity_dangerous_raw is_ethicity_dangerous_meaning  \\\n",
       "30991                       1.0                            no   \n",
       "7096                        1.0                            no   \n",
       "43960                       1.0                            no   \n",
       "37248                       1.0                            no   \n",
       "54939                       1.0                            no   \n",
       "\n",
       "                     comment     old_id  \n",
       "30991                    NaN    чурка_4  \n",
       "7096   Негр - афроамериканец    вепс_58  \n",
       "43960                    NaN  730222073  \n",
       "37248                    NaN  535811168  \n",
       "54939                    NaN  818208150  \n",
       "\n",
       "[5 rows x 61 columns]"
      ]
     },
     "execution_count": 6,
     "metadata": {},
     "output_type": "execute_result"
    }
   ],
   "source": [
    "df = texts.merge(data, how='left')\n",
    "df.sample(5)"
   ]
  },
  {
   "cell_type": "code",
   "execution_count": 7,
   "id": "88b555a29fca8ead",
   "metadata": {
    "ExecuteTime": {
     "end_time": "2024-03-16T13:13:15.216414Z",
     "start_time": "2024-03-16T13:13:15.209247Z"
    }
   },
   "outputs": [
    {
     "data": {
      "text/plain": [
       "(84784, 61)"
      ]
     },
     "execution_count": 7,
     "metadata": {},
     "output_type": "execute_result"
    }
   ],
   "source": [
    "df.shape"
   ]
  },
  {
   "cell_type": "code",
   "execution_count": 8,
   "id": "b0f58a43b9d2bc2e",
   "metadata": {
    "ExecuteTime": {
     "end_time": "2024-03-16T13:13:15.232899Z",
     "start_time": "2024-03-16T13:13:15.218424Z"
    }
   },
   "outputs": [
    {
     "data": {
      "text/plain": [
       "do_text_make_sense_raw\n",
       "yes     78372\n",
       "no       4334\n",
       "lang     1890\n",
       "joke      188\n",
       "Name: count, dtype: int64"
      ]
     },
     "execution_count": 8,
     "metadata": {},
     "output_type": "execute_result"
    }
   ],
   "source": [
    "df['do_text_make_sense_raw'].value_counts()"
   ]
  },
  {
   "cell_type": "code",
   "execution_count": 9,
   "id": "c59bb0d5a199388a",
   "metadata": {
    "ExecuteTime": {
     "end_time": "2024-03-16T13:13:15.300951Z",
     "start_time": "2024-03-16T13:13:15.234907Z"
    }
   },
   "outputs": [],
   "source": [
    "df.drop(df[df['do_text_make_sense_raw'] == 'no'].index, inplace=True)"
   ]
  },
  {
   "cell_type": "code",
   "execution_count": 10,
   "id": "7617fdd2aa60b7dc",
   "metadata": {
    "ExecuteTime": {
     "end_time": "2024-03-16T13:13:15.410364Z",
     "start_time": "2024-03-16T13:13:15.302029Z"
    }
   },
   "outputs": [],
   "source": [
    "ops = ['is_text_positive_recoded', 'is_text_neg_recoded']\n",
    "df[ops] = df[ops].apply(pd.to_numeric, errors='coerce')\n",
    "pos_ = df['is_text_positive_recoded']\n",
    "neg_ = df['is_text_neg_recoded']\n",
    "df.loc[(pos_ > 0) & (neg_ < 0), ops] = None\n",
    "df.loc[neg_ < 0, 'text_sentiment'] = -1\n",
    "df.loc[pos_ > 0, 'text_sentiment'] = 1\n",
    "df.loc[(neg_ == 0) & (pos_ == 0), 'text_sentiment'] = 0"
   ]
  },
  {
   "cell_type": "code",
   "execution_count": 11,
   "id": "48d83b3240a39054",
   "metadata": {
    "ExecuteTime": {
     "end_time": "2024-03-16T13:13:15.423634Z",
     "start_time": "2024-03-16T13:13:15.411371Z"
    }
   },
   "outputs": [
    {
     "data": {
      "text/plain": [
       "7"
      ]
     },
     "execution_count": 11,
     "metadata": {},
     "output_type": "execute_result"
    }
   ],
   "source": [
    "args = ['text_sentiment', 'has_eth_conflict_raw', 'has_pos_eth_interaction_raw', 'opinion_about_ethnonym_recoded',\n",
    "        'is_ethicity_superior_meaning', 'is_ethicity_aggressor_meaning',\n",
    "        'is_ethicity_dangerous_meaning']\n",
    "MAX_SPOIL = len(args)\n",
    "topic_to_russian = {'culture': 'культура', 'economics': 'экономика', 'ethicity': 'этничность', 'history': 'история',\n",
    "                    'humour': 'юмор', 'daily_routine': 'рутина', 'migration': 'миграция', 'other': 'другая',\n",
    "                    'politics': 'политика', 'religion': 'религия', 'society_social': 'социальная'}\n",
    "MAX_SPOIL"
   ]
  },
  {
   "cell_type": "code",
   "execution_count": 12,
   "id": "7d0e23cfe874429a",
   "metadata": {
    "ExecuteTime": {
     "end_time": "2024-03-16T13:13:15.442493Z",
     "start_time": "2024-03-16T13:13:15.425761Z"
    }
   },
   "outputs": [
    {
     "data": {
      "text/plain": [
       "has_pos_eth_interaction_raw\n",
       "no     62783\n",
       "yes    13603\n",
       "unk     1986\n",
       "Name: count, dtype: int64"
      ]
     },
     "execution_count": 12,
     "metadata": {},
     "output_type": "execute_result"
    }
   ],
   "source": [
    "df['has_pos_eth_interaction_raw'].value_counts()"
   ]
  },
  {
   "cell_type": "code",
   "execution_count": 13,
   "id": "e1e43c1fbfeba1c9",
   "metadata": {
    "ExecuteTime": {
     "end_time": "2024-03-16T13:13:15.461785Z",
     "start_time": "2024-03-16T13:13:15.446513Z"
    }
   },
   "outputs": [],
   "source": [
    "var_vocab = {\n",
    "    'text_sentiment': {'labels': {-1.0: 'этот текст является негативным', 0: 'этот текст является нейтральным',\n",
    "                                  1.0: 'этот текст является позитивным'}, 'aspect_level': False, 'prompt': 'тональность текста'},\n",
    "    'has_eth_conflict_raw': {\n",
    "        'labels': {'yes': 'в тексте есть этнический конфликт', 'no': 'в тексте этнический конфликт отсутствует',\n",
    "                   'unk': None},\n",
    "        'aspect_level': False, 'prompt': 'оцени наличие этнического конфликта'},\n",
    "    'has_pos_eth_interaction_raw': {'labels': {'yes': 'в тексте есть позитивное взаимодействие между этичностями',\n",
    "                                               'no': 'в тексте не зафиксировано позитивного взаимодействия этичностей',\n",
    "                                               'unk': None},\n",
    "                                    'aspect_level': False, 'prompt': 'наличие позитивного взаимодействия этничностей'},\n",
    "    'opinion_about_ethnonym_recoded': {'labels': {-1: 'мнение об этничности \\'{}\\' отрицательное',\n",
    "                                                  0: 'мнение об этничности \\'{}\\' нейтральное или не зафиксировано',\n",
    "                                                  1: 'мнение об этничности \\'{}\\' положительное'},\n",
    "                                       'aspect_level': True, 'prompt': 'мнение о {} в тексте'},\n",
    "    # 'represent_ethicity_meaning': {'labels': {}, 'aspect_level': True}, # not using yet\n",
    "    'is_ethicity_superior_meaning': {'labels': {'high': 'этничность \\'{}\\' является доминирующей',\n",
    "                                                'low': 'этничность \\'{}\\' является отчасти доминирующей',\n",
    "                                                'irrel': None},\n",
    "                                     'aspect_level': True, 'prompt': 'является ли этничность {} доминирующей'},\n",
    "    'is_ethicity_aggressor_meaning': {'labels': {'agressor':\n",
    "                                                     'этничность \\'{}\\' является агрессором',\n",
    "                                                 'victim': 'этничность \\'{}\\' является жертвой',\n",
    "                                                 'irrel': None},\n",
    "                                      'aspect_level': True, 'prompt': 'является ли этничность {} агрессором'},\n",
    "    'is_ethicity_dangerous_meaning': {\n",
    "        'labels': {'yes': 'этничность \\'{}\\' является опасной',\n",
    "                   'no': 'этничность \\'{}\\' не является опасной',\n",
    "                   'irrel': None},\n",
    "        'aspect_level': True, 'prompt': 'является ли этничность {} опасной'},\n",
    "}"
   ]
  },
  {
   "cell_type": "code",
   "execution_count": 14,
   "id": "635bdb29566bc788",
   "metadata": {
    "ExecuteTime": {
     "end_time": "2024-03-16T13:13:16.195368Z",
     "start_time": "2024-03-16T13:13:15.468912Z"
    }
   },
   "outputs": [],
   "source": [
    "df = df.fillna(np.nan).replace([np.nan], [None])"
   ]
  },
  {
   "cell_type": "code",
   "execution_count": 15,
   "id": "daa93c289140e12",
   "metadata": {
    "ExecuteTime": {
     "end_time": "2024-03-16T13:13:16.204529Z",
     "start_time": "2024-03-16T13:13:16.196382Z"
    }
   },
   "outputs": [
    {
     "data": {
      "text/plain": [
       "(14196,)"
      ]
     },
     "execution_count": 15,
     "metadata": {},
     "output_type": "execute_result"
    }
   ],
   "source": [
    "ids = df['document.id'].unique()\n",
    "ids.shape  # 14196 после дропа по do_text_make_sence = no"
   ]
  },
  {
   "cell_type": "code",
   "execution_count": 16,
   "id": "9351aae9-4899-4fdd-b31a-d67037ce6e1e",
   "metadata": {},
   "outputs": [
    {
     "name": "stderr",
     "output_type": "stream",
     "text": [
      "<>:3: SyntaxWarning: invalid escape sequence '\\['\n",
      "<>:3: SyntaxWarning: invalid escape sequence '\\['\n",
      "C:\\Users\\bentodan\\AppData\\Local\\Temp\\ipykernel_432\\3087058704.py:3: SyntaxWarning: invalid escape sequence '\\['\n",
      "  CLEANR = [re.compile('<.*?>'), re.compile(\"\\[.*?\\]\")]\n"
     ]
    }
   ],
   "source": [
    "def clean(text):\n",
    "    text = text.apply(lambda x: str(x))\n",
    "    CLEANR = [re.compile('<.*?>'), re.compile(\"\\[.*?\\]\")]\n",
    "    for i in CLEANR:\n",
    "        text = text.apply(lambda x: re.sub(i, '', x))\n",
    "    text = text.apply(lambda x: x.replace('\\\\', ''))\n",
    "    text = text.apply(lambda x: re.sub(r\"([\" + re.escape(string.punctuation) + r\"])\\1+\", r\"\\1\", x))\n",
    "    text = text.apply(lambda x: re.sub(r\"http\\S+\", '', x))\n",
    "    text = text.apply(lambda x: re.sub(r\"\\r\", '', x))\n",
    "    text = text.apply(lambda x: re.sub(r'\\s+', ' ', x))\n",
    "    text = text.apply(lambda x: re.sub(r'\\s+', ' ', x))\n",
    "    text = text.apply(lambda x: re.sub('\"+','\"', x))\n",
    "    text = text.apply(lambda x: re.sub(\"'+\",\"'\", x))\n",
    "    items = string.punctuation + \" \"\n",
    "    text = text.apply(lambda x: x.lstrip(items) if isinstance(x, str) else x)\n",
    "    return text"
   ]
  },
  {
   "cell_type": "code",
   "execution_count": 17,
   "id": "da95d743-aa5f-4bc0-9b57-6bd0eda39588",
   "metadata": {},
   "outputs": [],
   "source": [
    "df['source_text'] = clean(df['source_text'])"
   ]
  },
  {
   "cell_type": "code",
   "execution_count": 18,
   "id": "14d872e3-023c-4db1-94cb-3c6096e6b346",
   "metadata": {},
   "outputs": [
    {
     "data": {
      "text/plain": [
       "'но у вас же бред написан. Какими русскими? Вообще то там грузины воевали с Абхазами. Это исторический факт. А статья может быть на 10% правдива. Почему вы верите, какой-то статье?'"
      ]
     },
     "execution_count": 18,
     "metadata": {},
     "output_type": "execute_result"
    }
   ],
   "source": [
    "df['source_text'][0]"
   ]
  },
  {
   "cell_type": "code",
   "execution_count": 19,
   "id": "731b6e0a7c036836",
   "metadata": {
    "ExecuteTime": {
     "end_time": "2024-03-16T13:13:16.215940Z",
     "start_time": "2024-03-16T13:13:16.205497Z"
    }
   },
   "outputs": [],
   "source": [
    "preprocessor = Preprocessor.Preprocessor(df=df, args=args, var_vocab=var_vocab, topic_to_russian=topic_to_russian)"
   ]
  },
  {
   "cell_type": "code",
   "execution_count": 20,
   "id": "319dfcf6ad5c50e8",
   "metadata": {
    "ExecuteTime": {
     "end_time": "2024-03-16T13:13:16.235982Z",
     "start_time": "2024-03-16T13:13:16.217936Z"
    }
   },
   "outputs": [
    {
     "name": "stdout",
     "output_type": "stream",
     "text": [
      "783920705\n",
      "этот текст является позитивным, в тексте этнический конфликт отсутствует, в тексте не зафиксировано позитивного взаимодействия этичностей, мнение об этничности 'армянин' положительное, этничность 'армянин' не является опасной\n",
      "\n",
      "5 марта в 19:00 Областной дом народного творчества приглашает всех на долгожданное событие – областной праздник-конкурс национальных красавиц Дона «Краса Юга России»! Праздник национальных культур и красоты проводится второй раз на территории Ростовской области. В празднике-конкурсе примут участие лучшие представительницы народов, проживающих на Дону. Армянскую диаспору Дона представит Петросян Лиана.Ей наша поддержка очень нужна. Давайте все вместе соберемся и пойдем болеть за нашу представительницу. Билеты стоят 300 руб\n"
     ]
    }
   ],
   "source": [
    "id_ = df['document.id'].sample().values[0]\n",
    "descr, text = preprocessor.fit(id_)\n",
    "print(id_, descr, text, sep='\\n')"
   ]
  },
  {
   "cell_type": "code",
   "execution_count": 21,
   "id": "d26a4ba13ca497f0",
   "metadata": {
    "ExecuteTime": {
     "end_time": "2024-03-16T13:13:16.249176Z",
     "start_time": "2024-03-16T13:13:16.237995Z"
    }
   },
   "outputs": [
    {
     "name": "stdout",
     "output_type": "stream",
     "text": [
      "этот текст является позитивным, в тексте этнический конфликт отсутствует, в тексте не зафиксировано позитивного взаимодействия этичностей, мнение об этничности 'армянин' положительное, этничность 'армянин' не является опасной\n",
      "\n",
      "этот текст является негативным, мнение об этничности 'армянин' отрицательное, этничность 'армянин' является доминирующей, этничность 'армянин' является жертвой\n",
      "\n"
     ]
    }
   ],
   "source": [
    "descr_spoiled, text = preprocessor.fit(id_, spoil_size=len(preprocessor.args))\n",
    "print(descr, descr_spoiled, sep='\\n')"
   ]
  },
  {
   "cell_type": "code",
   "execution_count": 22,
   "id": "692e8a6ac50e1b93",
   "metadata": {
    "ExecuteTime": {
     "end_time": "2024-03-16T13:13:16.276722Z",
     "start_time": "2024-03-16T13:13:16.250194Z"
    }
   },
   "outputs": [
    {
     "name": "stdout",
     "output_type": "stream",
     "text": [
      "Текст имеет темы: культура, этничность, этот текст является позитивным, в тексте этнический конфликт отсутствует, в тексте не зафиксировано позитивного взаимодействия этичностей, мнение об этничности 'армянин' положительное, этничность 'армянин' не является опасной\n",
      "\n",
      "Текст имеет темы: экономика, история, этот текст является позитивным, в тексте этнический конфликт отсутствует, в тексте не зафиксировано позитивного взаимодействия этичностей, мнение об этничности 'армянин' положительное, этничность 'армянин' не является опасной\n",
      "\n"
     ]
    }
   ],
   "source": [
    "descr_topics, _ = preprocessor.fit(id_, topic=True)\n",
    "descr_topics_spoiled, _ = preprocessor.fit(id_, topic=True, topic_spoil=1)\n",
    "print(descr_topics, descr_topics_spoiled, sep='\\n')"
   ]
  },
  {
   "cell_type": "markdown",
   "id": "4843d60bf53dd986",
   "metadata": {},
   "source": [
    "### Custom dataset <a class=\"anchor\" id=\"c3\"></a>"
   ]
  },
  {
   "cell_type": "code",
   "execution_count": 23,
   "id": "bdd2ab92586b4300",
   "metadata": {
    "ExecuteTime": {
     "end_time": "2024-03-16T13:13:16.352614Z",
     "start_time": "2024-03-16T13:13:16.277734Z"
    }
   },
   "outputs": [
    {
     "data": {
      "text/plain": [
       "((47999, 62), (16170, 62), (16281, 62))"
      ]
     },
     "execution_count": 23,
     "metadata": {},
     "output_type": "execute_result"
    }
   ],
   "source": [
    "process_ids, test_ids = train_test_split(ids, test_size=0.2, random_state=RANDOM_STATE)\n",
    "train_ids, validate_ids = train_test_split(process_ids, train_size=0.75, random_state=RANDOM_STATE)\n",
    "\n",
    "train = df.loc[df['document.id'].isin(train_ids)]\n",
    "test = df.loc[df['document.id'].isin(test_ids)]\n",
    "validate = df.loc[df['document.id'].isin(validate_ids)]\n",
    "train.shape, test.shape, validate.shape  # percents are ≈ (60%, 20%, 20%)"
   ]
  },
  {
   "cell_type": "markdown",
   "id": "54d13ab22fe08ea0",
   "metadata": {},
   "source": [
    "### Custom model <a class=\"anchor\" id=\"c4\"></a>"
   ]
  },
  {
   "cell_type": "code",
   "execution_count": 24,
   "id": "8fa1b0ce53ec3bf6",
   "metadata": {
    "ExecuteTime": {
     "end_time": "2024-03-16T13:13:16.528628Z",
     "start_time": "2024-03-16T13:13:16.353631Z"
    }
   },
   "outputs": [
    {
     "name": "stdout",
     "output_type": "stream",
     "text": [
      "Device used: cpu.\n"
     ]
    }
   ],
   "source": [
    "device = torch.device('cuda') if torch.cuda.is_available() else torch.device('cpu')\n",
    "print(f\"Device used: {device}.\")"
   ]
  },
  {
   "cell_type": "code",
   "execution_count": 25,
   "id": "ed00a5f39f8b806d",
   "metadata": {
    "ExecuteTime": {
     "end_time": "2024-03-16T13:13:21.215828Z",
     "start_time": "2024-03-16T13:13:16.529624Z"
    }
   },
   "outputs": [
    {
     "name": "stdout",
     "output_type": "stream",
     "text": [
      "Model loaded. Model tokenizer is BertTokenizerFast(name_or_path='cointegrated/rubert-tiny2', vocab_size=83828, model_max_length=512, is_fast=True, padding_side='right', truncation_side='right', special_tokens={'unk_token': '[UNK]', 'sep_token': '[SEP]', 'pad_token': '[PAD]', 'cls_token': '[CLS]', 'mask_token': '[MASK]'}, clean_up_tokenization_spaces=True),  added_tokens_decoder={\n",
      "\t0: AddedToken(\"[PAD]\", rstrip=False, lstrip=False, single_word=False, normalized=False, special=True),\n",
      "\t1: AddedToken(\"[UNK]\", rstrip=False, lstrip=False, single_word=False, normalized=False, special=True),\n",
      "\t2: AddedToken(\"[CLS]\", rstrip=False, lstrip=False, single_word=False, normalized=False, special=True),\n",
      "\t3: AddedToken(\"[SEP]\", rstrip=False, lstrip=False, single_word=False, normalized=False, special=True),\n",
      "\t4: AddedToken(\"[MASK]\", rstrip=False, lstrip=False, single_word=False, normalized=False, special=True),\n",
      "}.\n"
     ]
    }
   ],
   "source": [
    "model = MyModel.MyModel(device) # turn on the developer mode here\n",
    "print(f\"Model loaded. Model tokenizer is {model.tokenizer}.\")"
   ]
  },
  {
   "cell_type": "code",
   "execution_count": 26,
   "id": "1d44b225117fb6c1",
   "metadata": {
    "ExecuteTime": {
     "end_time": "2024-03-16T13:13:22.117995Z",
     "start_time": "2024-03-16T13:13:21.218827Z"
    }
   },
   "outputs": [
    {
     "name": "stdout",
     "output_type": "stream",
     "text": [
      "Model reloaded. Model tokenizer is BertTokenizerFast(name_or_path='cointegrated/rubert-tiny2', vocab_size=83828, model_max_length=512, is_fast=True, padding_side='right', truncation_side='right', special_tokens={'unk_token': '[UNK]', 'sep_token': '[SEP]', 'pad_token': '[PAD]', 'cls_token': '[CLS]', 'mask_token': '[MASK]'}, clean_up_tokenization_spaces=True),  added_tokens_decoder={\n",
      "\t0: AddedToken(\"[PAD]\", rstrip=False, lstrip=False, single_word=False, normalized=False, special=True),\n",
      "\t1: AddedToken(\"[UNK]\", rstrip=False, lstrip=False, single_word=False, normalized=False, special=True),\n",
      "\t2: AddedToken(\"[CLS]\", rstrip=False, lstrip=False, single_word=False, normalized=False, special=True),\n",
      "\t3: AddedToken(\"[SEP]\", rstrip=False, lstrip=False, single_word=False, normalized=False, special=True),\n",
      "\t4: AddedToken(\"[MASK]\", rstrip=False, lstrip=False, single_word=False, normalized=False, special=True),\n",
      "}.\n"
     ]
    }
   ],
   "source": [
    "model.reinitialize()\n",
    "print(f\"Model reloaded. Model tokenizer is {model.tokenizer}.\")"
   ]
  },
  {
   "cell_type": "markdown",
   "id": "17ce014580ed6d7a",
   "metadata": {},
   "source": [
    "### Trainer <a class=\"anchor\" id=\"c5\"></a>"
   ]
  },
  {
   "cell_type": "code",
   "execution_count": 27,
   "id": "26daec4d9c62257b",
   "metadata": {
    "ExecuteTime": {
     "end_time": "2024-03-16T13:13:22.132070Z",
     "start_time": "2024-03-16T13:13:22.121017Z"
    }
   },
   "outputs": [],
   "source": [
    "params = {\n",
    "    'batch_size': [8, 16],\n",
    "    'lr': [1e-5, 1e-6, 1e-4],\n",
    "    'max_spoil': range(1, MAX_SPOIL + 1, 2),\n",
    "    'spoil_proba': np.arange(0.2,  0.8 + 0.1, 0.1)\n",
    "}"
   ]
  },
  {
   "cell_type": "code",
   "execution_count": 28,
   "id": "3e0a3528",
   "metadata": {
    "ExecuteTime": {
     "end_time": "2024-03-16T13:13:26.486667Z",
     "start_time": "2024-03-16T13:13:22.135087Z"
    }
   },
   "outputs": [],
   "source": [
    "trainer = Trainer.Trainer(MyModel.MyModel, device, train, validate, test, preprocessor=preprocessor, params=params)"
   ]
  },
  {
   "cell_type": "markdown",
   "id": "d65ec752c6357f13",
   "metadata": {},
   "source": [
    "### Model training <a class=\"anchor\" id=\"c6\"></a>"
   ]
  },
  {
   "cell_type": "code",
   "execution_count": 29,
   "id": "dcdaeb6eadb8f8e7",
   "metadata": {
    "ExecuteTime": {
     "end_time": "2024-03-16T13:13:26.496522Z",
     "start_time": "2024-03-16T13:13:26.489687Z"
    }
   },
   "outputs": [],
   "source": [
    "torch.cuda.empty_cache()  # just in case"
   ]
  },
  {
   "cell_type": "code",
   "execution_count": 2,
   "id": "a2c1ac056328e123",
   "metadata": {
    "ExecuteTime": {
     "end_time": "2024-03-16T13:13:26.504383Z",
     "start_time": "2024-03-16T13:13:26.499545Z"
    }
   },
   "outputs": [],
   "source": [
    "# trainer.choose_model() # uncomment if you want to find best model"
   ]
  },
  {
   "cell_type": "code",
   "execution_count": 3,
   "id": "fe971e21b977473e",
   "metadata": {
    "ExecuteTime": {
     "end_time": "2024-03-16T13:13:26.512587Z",
     "start_time": "2024-03-16T13:13:26.506398Z"
    }
   },
   "outputs": [],
   "source": [
    "# trainer.save()"
   ]
  },
  {
   "cell_type": "code",
   "execution_count": null,
   "id": "52f24cd508195125",
   "metadata": {
    "ExecuteTime": {
     "end_time": "2024-03-16T13:16:03.580647Z",
     "start_time": "2024-03-16T13:16:03.378355Z"
    }
   },
   "outputs": [],
   "source": [
    "# trainer.plot_loss(on_train=False)"
   ]
  },
  {
   "cell_type": "code",
   "execution_count": null,
   "id": "635f3eafdcdb0257",
   "metadata": {
    "ExecuteTime": {
     "end_time": "2024-03-16T13:16:03.766227Z",
     "start_time": "2024-03-16T13:16:03.581654Z"
    }
   },
   "outputs": [],
   "source": [
    "# trainer.plot_metrics(on_train=False)"
   ]
  },
  {
   "cell_type": "markdown",
   "id": "283db0dc-ff91-4dc0-b7e6-4c4d8c09190b",
   "metadata": {
    "ExecuteTime": {
     "end_time": "2024-03-16T13:16:03.770968Z",
     "start_time": "2024-03-16T13:16:03.767239Z"
    }
   },
   "source": [
    "### Генерация описаний"
   ]
  },
  {
   "cell_type": "code",
   "execution_count": 39,
   "id": "0f371a21-7d8c-41bb-811c-92d0dca0386c",
   "metadata": {},
   "outputs": [],
   "source": [
    "from gpt_classes import GPTDataset, GPTModel, GPTTrainer"
   ]
  },
  {
   "cell_type": "code",
   "execution_count": 40,
   "id": "d213983d-b6d2-4b7b-b2bc-67c341487a0d",
   "metadata": {},
   "outputs": [],
   "source": [
    "gptdataset = GPTDataset.GPTDataset(df, preprocessor=preprocessor, args=var_vocab)"
   ]
  },
  {
   "cell_type": "code",
   "execution_count": 41,
   "id": "4ffe88f1-ddbd-4905-b9a9-bae0223c4e64",
   "metadata": {},
   "outputs": [
    {
     "name": "stdout",
     "output_type": "stream",
     "text": [
      "Задание: Сгенерируй описание следующего текста, оцени тональность текста, оцени наличие этнического конфликта, наличие позитивного взаимодействия этничностей, мнение о абхаз в тексте, является ли этничность абхаз доминирующей, является ли этничность абхаз агрессором, является ли этничность абхаз опасной.\n",
      "Текст: но у вас же бред написан. Какими русскими? Вообще то там грузины воевали с Абхазами. Это исторический факт. А статья может быть на 10% правдива. Почему вы верите, какой-то статье?\n",
      "Описание: этот текст является негативным, в тексте есть этнический конфликт, в тексте не зафиксировано позитивного взаимодействия этичностей\n",
      "\n"
     ]
    }
   ],
   "source": [
    "print(gptdataset[0][0])"
   ]
  },
  {
   "cell_type": "code",
   "execution_count": 42,
   "id": "db54b9b4-a7d8-4c77-ae13-f03803434552",
   "metadata": {},
   "outputs": [],
   "source": [
    "from torch.utils.data import DataLoader"
   ]
  },
  {
   "cell_type": "code",
   "execution_count": 43,
   "id": "b3c173d4-1fd4-467d-bd22-4feabc6da473",
   "metadata": {},
   "outputs": [],
   "source": [
    "max_items = 100 # for now on\n",
    "gptTrainer = GPTTrainer.GPTTrainer(GPTModel.GPTModel, device, train[:max_items], validate[:max_items], test[:max_items], preprocessor=preprocessor, dataset=GPTDataset.GPTDataset, args=var_vocab, dataloader=DataLoader)\n",
    "# gptTrainer = GPTTrainer.GPTTrainer(GPTModel.GPTModel, device, train, validate, test, preprocessor=preprocessor, dataset=GPTDataset.GPTDataset, args=var_vocab, dataloader=DataLoader)"
   ]
  },
  {
   "cell_type": "code",
   "execution_count": 45,
   "id": "70c46a22-7c74-42bc-986d-9a5c723c6ff4",
   "metadata": {},
   "outputs": [
    {
     "name": "stdout",
     "output_type": "stream",
     "text": [
      "Что такое питон?\n",
      "Питон - это млекопитающее, которое питается плодами растений и животных.\n",
      "\n",
      "Какие у вас ассоциации со словом \"питон\"?\n",
      "Птица\n",
      "птица, которая летает, летающая, летящая\n",
      "Это птица. Птица - птица, которую можно увидеть в небе, а можно и не увидеть. Это птица-попугай, который живет на земле. А еще это птица - птичка, которой можно летать. И еще - птеродактиль\n"
     ]
    }
   ],
   "source": [
    "print(gptTrainer.model.my_generate('Что такое питон?')) # слон - это змея:)"
   ]
  },
  {
   "cell_type": "code",
   "execution_count": null,
   "id": "f85a5f18-2d43-4b9b-97b7-c16093b2a806",
   "metadata": {},
   "outputs": [],
   "source": [
    "gptTrainer.train(1)"
   ]
  },
  {
   "cell_type": "code",
   "execution_count": null,
   "id": "919845ab-37c7-49a5-b120-6a53612c1a00",
   "metadata": {},
   "outputs": [],
   "source": [
    "print(gptTrainer.model.my_generate('Что такое питон?'))"
   ]
  },
  {
   "cell_type": "code",
   "execution_count": null,
   "id": "2f1a9df7-8615-4418-a039-5f0f972ca7ba",
   "metadata": {},
   "outputs": [],
   "source": [
    "for id_, generated in gptTrainer.data[0][0]['generated']:\n",
    "    print(id_)\n",
    "    print(generated)\n",
    "    print(\"\\n-----\\n\")\n",
    "    break"
   ]
  },
  {
   "cell_type": "code",
   "execution_count": null,
   "id": "64b8a509-35b3-4574-8098-ef982791967e",
   "metadata": {},
   "outputs": [],
   "source": [
    "print(gptTrainer.data[0][0]['matched_with_descr'])"
   ]
  },
  {
   "cell_type": "code",
   "execution_count": null,
   "id": "c3e8604a-65bc-44dc-980f-b13cb588b62d",
   "metadata": {},
   "outputs": [],
   "source": [
    "GPTparams = {\n",
    "    'cut_data': [True, False],\n",
    "    'batch_size': [10, 20],\n",
    "    'lr': [1e-5, 1e-6, 1e-4],\n",
    "    'ngrams': [1, 2, 3, 4, 5]\n",
    "}"
   ]
  },
  {
   "cell_type": "code",
   "execution_count": null,
   "id": "31c1f7a8-5d99-4942-8322-d261f73014be",
   "metadata": {},
   "outputs": [],
   "source": [
    "gptTrainer.choose_model(GPTparams)"
   ]
  },
  {
   "cell_type": "code",
   "execution_count": null,
   "id": "305ac5eb-7e99-4f8d-83ca-5d9300438ab8",
   "metadata": {},
   "outputs": [],
   "source": []
  },
  {
   "cell_type": "markdown",
   "id": "77ded2d1",
   "metadata": {},
   "source": [
    "### Add f1_score "
   ]
  },
  {
   "cell_type": "code",
   "execution_count": 46,
   "id": "686b0f6e",
   "metadata": {},
   "outputs": [],
   "source": [
    "sample_num = 5\n",
    "ids = df['document.id'].sample(sample_num).tolist()"
   ]
  },
  {
   "cell_type": "code",
   "execution_count": 47,
   "id": "93c08159",
   "metadata": {},
   "outputs": [
    {
     "data": {
      "text/plain": [
       "[552763, 891302411, 927506040]"
      ]
     },
     "execution_count": 47,
     "metadata": {},
     "output_type": "execute_result"
    }
   ],
   "source": [
    "ids[:3]"
   ]
  },
  {
   "cell_type": "code",
   "execution_count": 61,
   "id": "23238db2",
   "metadata": {},
   "outputs": [],
   "source": [
    "values = dict()\n",
    "labels = dict()"
   ]
  },
  {
   "cell_type": "code",
   "execution_count": 62,
   "id": "d90b121b",
   "metadata": {},
   "outputs": [],
   "source": [
    "for var, val in var_vocab.items():\n",
    "    values[var] = dict()\n",
    "    labels[var] = dict()\n",
    "    val = val['labels']\n",
    "    for id_ in ids:\n",
    "        data = df.loc[df['document.id'] == id_]\n",
    "        values[var][id_] = None\n",
    "        labels[var][id_] = res\n",
    "        if not var_vocab[var]['aspect_level']:\n",
    "            data = data.drop_duplicates(subset='assessor')[var]\n",
    "            res = preprocessor.define(data)\n",
    "            if res is not None:\n",
    "                values[var][id_] = val[res]"
   ]
  },
  {
   "cell_type": "code",
   "execution_count": 50,
   "id": "b8a09260",
   "metadata": {},
   "outputs": [],
   "source": [
    "model_preds = dict()"
   ]
  },
  {
   "cell_type": "code",
   "execution_count": 51,
   "id": "0e9ab92d",
   "metadata": {},
   "outputs": [
    {
     "data": {
      "text/plain": [
       "(32, 62)"
      ]
     },
     "execution_count": 51,
     "metadata": {},
     "output_type": "execute_result"
    }
   ],
   "source": [
    "f1_df = df[df['document.id'].isin(ids)]\n",
    "f1_df.shape"
   ]
  },
  {
   "cell_type": "code",
   "execution_count": 53,
   "id": "7c6c7f91",
   "metadata": {},
   "outputs": [
    {
     "name": "stdout",
     "output_type": "stream",
     "text": [
      "start evaluating data\\epoch_0_num_0\n",
      "text_sentiment\n",
      "has_eth_conflict_raw\n",
      "has_pos_eth_interaction_raw\n",
      "opinion_about_ethnonym_recoded\n",
      "is_ethicity_superior_meaning\n",
      "is_ethicity_aggressor_meaning\n",
      "is_ethicity_dangerous_meaning\n"
     ]
    }
   ],
   "source": [
    "dir_ = \"data\" # fill with correct path to dir\n",
    "\n",
    "model = GPTModel.GPTModel(device)\n",
    "\n",
    "for filename in os.listdir(dir_):\n",
    "    \n",
    "    f = os.path.join(dir_, filename)\n",
    "    if f.startswith(dir_ + \"\\\\epoch\"):\n",
    "        print(f\"start evaluating {f}\")\n",
    "\n",
    "        model_preds[f] = dict()\n",
    "        model.load_state_dict(torch.load(f))\n",
    "        model.eval()\n",
    "\n",
    "        for var, val in var_vocab.items():\n",
    "            if var_vocab[var]['aspect_level']:\n",
    "                continue\n",
    "            print(var)\n",
    "            model_preds[f][var] = dict()\n",
    "            prompt = val['prompt']\n",
    "            for id_ in ids:\n",
    "                text = f1_df[f1_df['document.id'] == id_].iloc[0].lemm_text\n",
    "                data = f'Задание: {prompt or \"\"}\\nТекст: {text or \"\"}\\nОписание:'\n",
    "                generated = model.my_generate(data)\n",
    "                model_preds[f][var][id_] = generated\n",
    "        break"
   ]
  },
  {
   "cell_type": "code",
   "execution_count": 54,
   "id": "3a7b6826",
   "metadata": {},
   "outputs": [],
   "source": [
    "from sklearn.metrics import f1_score"
   ]
  },
  {
   "cell_type": "code",
   "execution_count": 55,
   "id": "d51903ee",
   "metadata": {},
   "outputs": [],
   "source": [
    "results = dict()"
   ]
  },
  {
   "cell_type": "code",
   "execution_count": 71,
   "id": "8388269f",
   "metadata": {},
   "outputs": [
    {
     "name": "stdout",
     "output_type": "stream",
     "text": [
      "Задание: тональность текста\n",
      "Текст: кавказец онподнимаеттрубку среда приходить центр город убивать отец хороший минутспустя звонить среда неприедешь намне парень отвечать хороший черезнесколько час емузвонят егодрузья братан передрягупопали приезжать центр средув хороший онспросил усвоей материть емуделать вещий егожизни убийцаотца будущий жена друг мать отвечать отец невернешь девушка встречать езжать кдрузьям дружба святой средув придти высылать машин открывать заднююдверь сидеть егодевушка всвадебном платье открываютбагажник убийца отец окружать\n",
      "Описание:\n",
      "1.\\t\n",
      "\n",
      "2. \\t\\thttps://www.youtube.com/watch?v=z-Z-zZZ_Z\n",
      "3.  \n",
      "4. \n",
      "5.\n",
      "6. \n",
      "\n",
      "7.   \n",
      "8.    \n",
      "9.        \n",
      "10.                \n",
      "11. https://t.co/zzYzWzJZzQ\n",
      "12. http://vk.cc/2QQ\n",
      "---\n",
      "None\n",
      "====\n",
      "Задание: тональность текста\n",
      "Текст: видео нужно крутить канал вместо реклама дмитрий фашист русский белорус украинец казах грузин другой народ ссср одинакий русский русский народ прекрасно помнить горелый хатынь залить кровь бабий ярый пылать маленькая украинский деревушка умирать голод блокадный ленинград русский помнить всегда отличие росиять вспомнить день победа два год назад путать русский тот сейчас принять называть росиян\n",
      "Описание:\n",
      "1.\\t\n",
      "2.\n",
      "\n",
      "3. \\t\\thttp://www.youtube.com/watch?v=z-Z-z_z0\n",
      "4. \n",
      "5. https://youtu.be/Z_ZzZZ0_0Y\n",
      "6.  \n",
      "7. http://tvzvezda.ru/news/vstrane_i_mire/content/20180814\n",
      "---\n",
      "None\n",
      "====\n",
      "Задание: тональность текста\n",
      "Текст: черекский район голубой озеры июнь пройти фестиваль искусство карачаевец балкарец алтына къол участник выставка стать мастер искусство свой работа мастер представить самый различный направление наглядно демонстрировать быт карачаевец балкарец фестиваль алтынкъол голубыеозёр голубой озеро\n",
      "Описание:\n",
      "1.\\t\n",
      "2. \\t\\thttp://vk.com/topic-636914_634915\n",
      "3. \n",
      "4.  \n",
      "5.\n",
      "6. \n",
      "\n",
      "\n",
      "7.   \n",
      "8.    \n",
      "9.                \n",
      "  10.                                       \n",
      "    11. https://t.co/QxxyYzFQz8   Оригинал записи и комментарии на LiveInternet\n",
      "---\n",
      "этот текст является позитивным\n",
      "====\n",
      "Задание: тональность текста\n",
      "Текст: честь чеченский девушка оскорблять клясться просто беспонтовыя базар устроить написать чеченка свой выходить человек написать знать некоторый вайнашка выйти другой думать мир чистокровный чеченка выйти другой какой наивный чеченец понимать самый хороший друг чеченец ряд даги ещё про чеченка сказать злиться еле успокаивать ревность конечно хорошо абсурд доводить этот тема\n",
      "Описание:\n",
      "1.\\t\n",
      "2. \\t\\thttps://www.youtube.com/watch?v=z-z_d_l_g\n",
      "3. \n",
      "4.  \n",
      "5.   \n",
      "6.\n",
      "7.    \n",
      "8.        \n",
      "9.                                \n",
      "\n",
      "\n",
      "14858859\tvladimir-roslov\t2019-08-31 16:00:01:30.00\t\n",
      "---\n",
      "этот текст является негативным\n",
      "====\n",
      "Задание: тональность текста\n",
      "Текст: re рэймарин цитата сообщение igrok spb смотреть сторона сей девайс вопрос карта какой вид этот самый базовый карта просьба реальный пользователь выложить скрин отображаться карта например ладога спасибо отрезветь седень сфотографировать ладога конечно ставрополь цвет намёк вода ишак калмык бабуин полный ветвь дарвин один намёк существующий водоём идеальный защита строиться после тот её упереть время\n",
      "Описание:\n",
      "1. Ладога.\n",
      "2. Водоём\n",
      "3. Вода\n",
      "4. Древо\n",
      "5. Дерево\n",
      "6. Колодец\n",
      "7. Река\n",
      "8. Тундра\n",
      "9. Озеро\n",
      "10. Лес\n",
      "11. Озерцо\n",
      "12. Пруд\n",
      "13. Пещера\n",
      "14. Скала\n",
      "15. Скамейка\n",
      "16. Дом\n",
      "17. Сад\n",
      "18. Птица\n",
      "19. Курица\n",
      "20\n",
      "---\n",
      "None\n",
      "====\n",
      "no None None 1.0 -1.0\n",
      "0 0 False False 0\n",
      "====\n"
     ]
    }
   ],
   "source": [
    "for filename in os.listdir(dir_):\n",
    "    f = os.path.join(dir_, filename)\n",
    "    if f.startswith(dir_ + \"\\\\epoch\"):\n",
    "        results[f] = dict()\n",
    "        for var in var_vocab:\n",
    "            if var_vocab[var]['aspect_level']:\n",
    "                continue\n",
    "            vals = values[var]\n",
    "            model_vals = model_preds[f][var]\n",
    "            classes = []\n",
    "            preds = []\n",
    "            for id_ in ids:\n",
    "                print(model_vals[id_], vals[id_], sep = \"\\n---\\n\", end = \"\\n====\\n\")\n",
    "                preds.append(vals[id_] in model_vals[id_] if model_vals[id_] and vals[id_] else False)\n",
    "                classes.append(labels[var][id_])\n",
    "            # f1 = f1_score(preds, classes)\n",
    "            # results[f][var] = f1\n",
    "            print(*classes)\n",
    "            print(*preds, end=\"\\n====\\n\")\n",
    "            break\n",
    "\n",
    "        break"
   ]
  },
  {
   "cell_type": "code",
   "execution_count": null,
   "id": "43281c62",
   "metadata": {},
   "outputs": [],
   "source": []
  }
 ],
 "metadata": {
  "kernelspec": {
   "display_name": "Python 3 (ipykernel)",
   "language": "python",
   "name": "python3"
  },
  "language_info": {
   "codemirror_mode": {
    "name": "ipython",
    "version": 3
   },
   "file_extension": ".py",
   "mimetype": "text/x-python",
   "name": "python",
   "nbconvert_exporter": "python",
   "pygments_lexer": "ipython3",
   "version": "3.12.2"
  }
 },
 "nbformat": 4,
 "nbformat_minor": 5
}
