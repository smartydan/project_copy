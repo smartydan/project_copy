{
 "cells": [
  {
   "cell_type": "markdown",
   "id": "fa11297e-3260-48a9-99ff-f72dbfb972e3",
   "metadata": {},
   "source": [
    "# HSE-2024 text classification project"
   ]
  },
  {
   "cell_type": "markdown",
   "id": "ce9bf42f5b985ac8",
   "metadata": {},
   "source": [
    "## Table of content\n",
    "* [Imports](#c1)\n",
    "* [Data loading and preprocessing](#c2)\n",
    "* [Custom dataset](#c3)\n",
    "* [Custom model](#c4)\n",
    "* [Trainer](#c5)\n",
    "* [Model training](#c6)"
   ]
  },
  {
   "cell_type": "markdown",
   "id": "868114483c848d79",
   "metadata": {},
   "source": [
    "### Imports <a class=\"anchor\" id=\"c1\"></a>"
   ]
  },
  {
   "cell_type": "code",
   "execution_count": 12,
   "id": "b0efad74",
   "metadata": {},
   "outputs": [
    {
     "data": {
      "text/plain": [
       "<torch._C.Generator at 0x183fd823630>"
      ]
     },
     "execution_count": 12,
     "metadata": {},
     "output_type": "execute_result"
    }
   ],
   "source": [
    "import numpy as np\n",
    "import pandas as pd\n",
    "\n",
    "import torch\n",
    "from sklearn.model_selection import train_test_split\n",
    "\n",
    "import os\n",
    "import re\n",
    "import string\n",
    "\n",
    "from classes import Preprocessor, MyModel, Trainer\n",
    "\n",
    "RANDOM_STATE = 42\n",
    "torch.manual_seed(RANDOM_STATE)"
   ]
  },
  {
   "cell_type": "markdown",
   "id": "79bf6ab199bd0511",
   "metadata": {},
   "source": [
    "### Data loading and preprocessing <a class=\"anchor\" id=\"c2\"></a>"
   ]
  },
  {
   "cell_type": "code",
   "execution_count": 6,
   "id": "1db05a48bd6571f2",
   "metadata": {
    "ExecuteTime": {
     "end_time": "2024-03-16T13:13:13.908022Z",
     "start_time": "2024-03-16T13:13:13.543410Z"
    }
   },
   "outputs": [],
   "source": [
    "base_dir = 'data/'\n",
    "texts = pd.read_csv(f'{base_dir}texts_and_metadata.txt', sep='\\t')\n",
    "data = pd.read_csv(f'{base_dir}coding_results.txt', low_memory=False, sep='\\t')\n",
    "df = texts.merge(data, how='left')\n",
    "\n",
    "df.drop(df[df['do_text_make_sense_raw'] == 'no'].index, inplace=True)\n",
    "\n",
    "ops = ['is_text_positive_recoded', 'is_text_neg_recoded']\n",
    "df[ops] = df[ops].apply(pd.to_numeric, errors='coerce')\n",
    "pos_ = df['is_text_positive_recoded']\n",
    "neg_ = df['is_text_neg_recoded']\n",
    "df.loc[(pos_ > 0) & (neg_ < 0), ops] = None\n",
    "df.loc[neg_ < 0, 'text_sentiment'] = -1\n",
    "df.loc[pos_ > 0, 'text_sentiment'] = 1\n",
    "df.loc[(neg_ == 0) & (pos_ == 0), 'text_sentiment'] = 0\n",
    "\n",
    "df = df.fillna(np.nan).replace([np.nan], [None])"
   ]
  },
  {
   "cell_type": "code",
   "execution_count": 7,
   "id": "48d83b3240a39054",
   "metadata": {
    "ExecuteTime": {
     "end_time": "2024-03-16T13:13:15.423634Z",
     "start_time": "2024-03-16T13:13:15.411371Z"
    }
   },
   "outputs": [],
   "source": [
    "args = ['text_sentiment', 'has_eth_conflict_raw', 'has_pos_eth_interaction_raw', 'opinion_about_ethnonym_recoded',\n",
    "        'is_ethicity_superior_meaning', 'is_ethicity_aggressor_meaning',\n",
    "        'is_ethicity_dangerous_meaning']\n",
    "MAX_SPOIL = len(args)\n",
    "topic_to_russian = {'culture': 'культура', 'economics': 'экономика', 'ethicity': 'этничность', 'history': 'история',\n",
    "                    'humour': 'юмор', 'daily_routine': 'рутина', 'migration': 'миграция', 'other': 'другая',\n",
    "                    'politics': 'политика', 'religion': 'религия', 'society_social': 'социальная'}\n",
    "\n",
    "var_vocab = {\n",
    "    'text_sentiment': {'labels': {-1.0: 'этот текст является негативным', 0: 'этот текст является нейтральным',\n",
    "                                  1.0: 'этот текст является позитивным'}, 'aspect_level': False, 'prompt': 'тональность текста'},\n",
    "    'has_eth_conflict_raw': {\n",
    "        'labels': {'yes': 'в тексте есть этнический конфликт', 'no': 'в тексте этнический конфликт отсутствует',\n",
    "                   'unk': None},\n",
    "        'aspect_level': False, 'prompt': 'оцени наличие этнического конфликта'},\n",
    "    'has_pos_eth_interaction_raw': {'labels': {'yes': 'в тексте есть позитивное взаимодействие между этичностями',\n",
    "                                               'no': 'в тексте не зафиксировано позитивного взаимодействия этичностей',\n",
    "                                               'unk': None},\n",
    "                                    'aspect_level': False, 'prompt': 'наличие позитивного взаимодействия этничностей'},\n",
    "    'opinion_about_ethnonym_recoded': {'labels': {-1: 'мнение об этничности \\'{}\\' отрицательное',\n",
    "                                                  0: 'мнение об этничности \\'{}\\' нейтральное или не зафиксировано',\n",
    "                                                  1: 'мнение об этничности \\'{}\\' положительное'},\n",
    "                                       'aspect_level': True, 'prompt': 'мнение о {} в тексте'},\n",
    "    # 'represent_ethicity_meaning': {'labels': {}, 'aspect_level': True}, # not using yet\n",
    "    'is_ethicity_superior_meaning': {'labels': {'high': 'этничность \\'{}\\' является доминирующей',\n",
    "                                                'low': 'этничность \\'{}\\' является отчасти доминирующей',\n",
    "                                                'irrel': None},\n",
    "                                     'aspect_level': True, 'prompt': 'является ли этничность {} доминирующей'},\n",
    "    'is_ethicity_aggressor_meaning': {'labels': {'agressor':\n",
    "                                                     'этничность \\'{}\\' является агрессором',\n",
    "                                                 'victim': 'этничность \\'{}\\' является жертвой',\n",
    "                                                 'irrel': None},\n",
    "                                      'aspect_level': True, 'prompt': 'является ли этничность {} агрессором'},\n",
    "    'is_ethicity_dangerous_meaning': {\n",
    "        'labels': {'yes': 'этничность \\'{}\\' является опасной',\n",
    "                   'no': 'этничность \\'{}\\' не является опасной',\n",
    "                   'irrel': None},\n",
    "        'aspect_level': True, 'prompt': 'является ли этничность {} опасной'},\n",
    "}"
   ]
  },
  {
   "cell_type": "code",
   "execution_count": 8,
   "id": "9351aae9-4899-4fdd-b31a-d67037ce6e1e",
   "metadata": {},
   "outputs": [
    {
     "name": "stderr",
     "output_type": "stream",
     "text": [
      "<>:3: SyntaxWarning: invalid escape sequence '\\['\n",
      "<>:3: SyntaxWarning: invalid escape sequence '\\['\n",
      "C:\\Users\\toxas\\AppData\\Local\\Temp\\ipykernel_5484\\3087058704.py:3: SyntaxWarning: invalid escape sequence '\\['\n",
      "  CLEANR = [re.compile('<.*?>'), re.compile(\"\\[.*?\\]\")]\n"
     ]
    }
   ],
   "source": [
    "def clean(text):\n",
    "    text = text.apply(lambda x: str(x))\n",
    "    CLEANR = [re.compile('<.*?>'), re.compile(\"\\[.*?\\]\")]\n",
    "    for i in CLEANR:\n",
    "        text = text.apply(lambda x: re.sub(i, '', x))\n",
    "    text = text.apply(lambda x: x.replace('\\\\', ''))\n",
    "    text = text.apply(lambda x: re.sub(r\"([\" + re.escape(string.punctuation) + r\"])\\1+\", r\"\\1\", x))\n",
    "    text = text.apply(lambda x: re.sub(r\"http\\S+\", '', x))\n",
    "    text = text.apply(lambda x: re.sub(r\"\\r\", '', x))\n",
    "    text = text.apply(lambda x: re.sub(r'\\s+', ' ', x))\n",
    "    text = text.apply(lambda x: re.sub(r'\\s+', ' ', x))\n",
    "    text = text.apply(lambda x: re.sub('\"+','\"', x))\n",
    "    text = text.apply(lambda x: re.sub(\"'+\",\"'\", x))\n",
    "    items = string.punctuation + \" \"\n",
    "    text = text.apply(lambda x: x.lstrip(items) if isinstance(x, str) else x)\n",
    "    return text"
   ]
  },
  {
   "cell_type": "code",
   "execution_count": 9,
   "id": "da95d743-aa5f-4bc0-9b57-6bd0eda39588",
   "metadata": {},
   "outputs": [],
   "source": [
    "df['source_text'] = clean(df['source_text'])"
   ]
  },
  {
   "cell_type": "markdown",
   "id": "4843d60bf53dd986",
   "metadata": {},
   "source": [
    "### Custom dataset <a class=\"anchor\" id=\"c3\"></a>"
   ]
  },
  {
   "cell_type": "code",
   "execution_count": 13,
   "id": "bdd2ab92586b4300",
   "metadata": {
    "ExecuteTime": {
     "end_time": "2024-03-16T13:13:16.352614Z",
     "start_time": "2024-03-16T13:13:16.277734Z"
    }
   },
   "outputs": [
    {
     "data": {
      "text/plain": [
       "((47999, 62), (16170, 62), (16281, 62))"
      ]
     },
     "execution_count": 13,
     "metadata": {},
     "output_type": "execute_result"
    }
   ],
   "source": [
    "ids = df['document.id'].unique()\n",
    "process_ids, test_ids = train_test_split(ids, test_size=0.2, random_state=RANDOM_STATE)\n",
    "train_ids, validate_ids = train_test_split(process_ids, train_size=0.75, random_state=RANDOM_STATE)\n",
    "\n",
    "train = df.loc[df['document.id'].isin(train_ids)]\n",
    "test = df.loc[df['document.id'].isin(test_ids)]\n",
    "validate = df.loc[df['document.id'].isin(validate_ids)]\n",
    "train.shape, test.shape, validate.shape  # percents are ≈ (60%, 20%, 20%)\n",
    "\n",
    "preprocessor = Preprocessor.Preprocessor(df=df, args=args, var_vocab=var_vocab, topic_to_russian=topic_to_russian)"
   ]
  },
  {
   "cell_type": "markdown",
   "id": "17ce014580ed6d7a",
   "metadata": {},
   "source": [
    "### Trainer <a class=\"anchor\" id=\"c5\"></a>"
   ]
  },
  {
   "cell_type": "code",
   "execution_count": 15,
   "id": "26daec4d9c62257b",
   "metadata": {
    "ExecuteTime": {
     "end_time": "2024-03-16T13:13:22.132070Z",
     "start_time": "2024-03-16T13:13:22.121017Z"
    }
   },
   "outputs": [],
   "source": [
    "params = {\n",
    "    'batch_size': [8, 16, 32, 64],\n",
    "    'lr': [1e-5, 1e-6, 1e-4],\n",
    "    'max_spoil': range(1, MAX_SPOIL + 1, 1),\n",
    "    'spoil_proba': np.arange(0.1,  1, 0.1),\n",
    "    'timer': [0, 1]\n",
    "}"
   ]
  },
  {
   "cell_type": "code",
   "execution_count": 28,
   "id": "3e0a3528",
   "metadata": {
    "ExecuteTime": {
     "end_time": "2024-03-16T13:13:26.486667Z",
     "start_time": "2024-03-16T13:13:22.135087Z"
    }
   },
   "outputs": [],
   "source": [
    "trainer = Trainer.Trainer(MyModel.MyModel, train, validate, test, device='cuda', preprocessor=preprocessor, params=params)"
   ]
  },
  {
   "cell_type": "markdown",
   "id": "d65ec752c6357f13",
   "metadata": {},
   "source": [
    "### Bert model training <a class=\"anchor\" id=\"c6\"></a>"
   ]
  },
  {
   "cell_type": "code",
   "execution_count": 30,
   "id": "a2c1ac056328e123",
   "metadata": {
    "ExecuteTime": {
     "end_time": "2024-03-16T13:13:26.504383Z",
     "start_time": "2024-03-16T13:13:26.499545Z"
    }
   },
   "outputs": [],
   "source": [
    "trainer.choose_model() # uncomment if you want to find best model\n",
    "trainer.save()"
   ]
  }
 ],
 "metadata": {
  "kernelspec": {
   "display_name": "Python 3 (ipykernel)",
   "language": "python",
   "name": "python3"
  },
  "language_info": {
   "codemirror_mode": {
    "name": "ipython",
    "version": 3
   },
   "file_extension": ".py",
   "mimetype": "text/x-python",
   "name": "python",
   "nbconvert_exporter": "python",
   "pygments_lexer": "ipython3",
   "version": "3.12.3"
  }
 },
 "nbformat": 4,
 "nbformat_minor": 5
}
