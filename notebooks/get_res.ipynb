{
 "cells": [
  {
   "cell_type": "code",
   "execution_count": 1,
   "metadata": {},
   "outputs": [],
   "source": [
    "import sys\n",
    "sys.path.append('..') # to make modules importable"
   ]
  },
  {
   "cell_type": "code",
   "execution_count": 2,
   "metadata": {},
   "outputs": [],
   "source": [
    "import pickle\n",
    "from tqdm.notebook import tqdm\n",
    "import pandas as pd\n",
    "from dicts import var_vocab, args, topic_to_russian\n",
    "from classes.Preprocessor import Preprocessor\n",
    "from sklearn.model_selection import train_test_split"
   ]
  },
  {
   "cell_type": "code",
   "execution_count": 3,
   "metadata": {},
   "outputs": [
    {
     "data": {
      "text/html": [
       "<div>\n",
       "<style scoped>\n",
       "    .dataframe tbody tr th:only-of-type {\n",
       "        vertical-align: middle;\n",
       "    }\n",
       "\n",
       "    .dataframe tbody tr th {\n",
       "        vertical-align: top;\n",
       "    }\n",
       "\n",
       "    .dataframe thead th {\n",
       "        text-align: right;\n",
       "    }\n",
       "</style>\n",
       "<table border=\"1\" class=\"dataframe\">\n",
       "  <thead>\n",
       "    <tr style=\"text-align: right;\">\n",
       "      <th></th>\n",
       "      <th>document.id</th>\n",
       "      <th>source</th>\n",
       "      <th>stage</th>\n",
       "      <th>source_text</th>\n",
       "      <th>lemm_text</th>\n",
       "      <th>city</th>\n",
       "      <th>region</th>\n",
       "      <th>date</th>\n",
       "      <th>data</th>\n",
       "      <th>assessor</th>\n",
       "      <th>...</th>\n",
       "      <th>represent_ethicity_meaning</th>\n",
       "      <th>is_ethicity_superior_raw</th>\n",
       "      <th>is_ethicity_superior_meaning</th>\n",
       "      <th>is_ethicity_aggressor_raw</th>\n",
       "      <th>is_ethicity_aggressor_meaning</th>\n",
       "      <th>is_ethicity_dangerous_raw</th>\n",
       "      <th>is_ethicity_dangerous_meaning</th>\n",
       "      <th>comment</th>\n",
       "      <th>old_id</th>\n",
       "      <th>text_sentiment</th>\n",
       "    </tr>\n",
       "  </thead>\n",
       "  <tbody>\n",
       "    <tr>\n",
       "      <th>36980</th>\n",
       "      <td>663079512</td>\n",
       "      <td>iqbuzz</td>\n",
       "      <td>3</td>\n",
       "      <td>Елена. Сдается ком. 15 м кв + застекленная лод...</td>\n",
       "      <td>бесплатный объявление москва елена сдаваться к...</td>\n",
       "      <td>Москва</td>\n",
       "      <td>Москва</td>\n",
       "      <td>2014-12-01</td>\n",
       "      <td>2017-03-31 01:25:33</td>\n",
       "      <td>alyonam</td>\n",
       "      <td>...</td>\n",
       "      <td>NaN</td>\n",
       "      <td>NaN</td>\n",
       "      <td>NaN</td>\n",
       "      <td>NaN</td>\n",
       "      <td>NaN</td>\n",
       "      <td>NaN</td>\n",
       "      <td>NaN</td>\n",
       "      <td>NaN</td>\n",
       "      <td>663079512</td>\n",
       "      <td>0.0</td>\n",
       "    </tr>\n",
       "    <tr>\n",
       "      <th>2826</th>\n",
       "      <td>616278028</td>\n",
       "      <td>iqbuzz</td>\n",
       "      <td>2</td>\n",
       "      <td>Татарстан для татар ! Башкортостан для Башкорт...</td>\n",
       "      <td>татарстан татарин башкортостан башкорт чувашия...</td>\n",
       "      <td>Уфа</td>\n",
       "      <td>Пермский край</td>\n",
       "      <td>2014-09-26</td>\n",
       "      <td>2016-10-20 14:49:19</td>\n",
       "      <td>skuchilina</td>\n",
       "      <td>...</td>\n",
       "      <td>no</td>\n",
       "      <td>3.0</td>\n",
       "      <td>irrel</td>\n",
       "      <td>3.0</td>\n",
       "      <td>irrel</td>\n",
       "      <td>1.0</td>\n",
       "      <td>no</td>\n",
       "      <td>NaN</td>\n",
       "      <td>аланы_142</td>\n",
       "      <td>0.0</td>\n",
       "    </tr>\n",
       "    <tr>\n",
       "      <th>21449</th>\n",
       "      <td>926873229</td>\n",
       "      <td>iqbuzz</td>\n",
       "      <td>2</td>\n",
       "      <td>ИМХО, так их правительству походу безразлично ...</td>\n",
       "      <td>николай имхо правительство поход безразличный ...</td>\n",
       "      <td>Санкт-Петербург</td>\n",
       "      <td>Санкт-Петербург</td>\n",
       "      <td>2015-06-05</td>\n",
       "      <td>2016-09-24 23:56:04</td>\n",
       "      <td>an_men</td>\n",
       "      <td>...</td>\n",
       "      <td>yes</td>\n",
       "      <td>2.0</td>\n",
       "      <td>high</td>\n",
       "      <td>3.0</td>\n",
       "      <td>irrel</td>\n",
       "      <td>1.0</td>\n",
       "      <td>no</td>\n",
       "      <td>NaN</td>\n",
       "      <td>прибалт_111</td>\n",
       "      <td>-1.0</td>\n",
       "    </tr>\n",
       "  </tbody>\n",
       "</table>\n",
       "<p>3 rows × 62 columns</p>\n",
       "</div>"
      ],
      "text/plain": [
       "       document.id  source  stage  \\\n",
       "36980    663079512  iqbuzz      3   \n",
       "2826     616278028  iqbuzz      2   \n",
       "21449    926873229  iqbuzz      2   \n",
       "\n",
       "                                             source_text  \\\n",
       "36980  Елена. Сдается ком. 15 м кв + застекленная лод...   \n",
       "2826   Татарстан для татар ! Башкортостан для Башкорт...   \n",
       "21449  ИМХО, так их правительству походу безразлично ...   \n",
       "\n",
       "                                               lemm_text             city  \\\n",
       "36980  бесплатный объявление москва елена сдаваться к...           Москва   \n",
       "2826   татарстан татарин башкортостан башкорт чувашия...              Уфа   \n",
       "21449  николай имхо правительство поход безразличный ...  Санкт-Петербург   \n",
       "\n",
       "                region        date                 data    assessor  ...  \\\n",
       "36980           Москва  2014-12-01  2017-03-31 01:25:33     alyonam  ...   \n",
       "2826     Пермский край  2014-09-26  2016-10-20 14:49:19  skuchilina  ...   \n",
       "21449  Санкт-Петербург  2015-06-05  2016-09-24 23:56:04      an_men  ...   \n",
       "\n",
       "      represent_ethicity_meaning  is_ethicity_superior_raw  \\\n",
       "36980                        NaN                       NaN   \n",
       "2826                          no                       3.0   \n",
       "21449                        yes                       2.0   \n",
       "\n",
       "      is_ethicity_superior_meaning  is_ethicity_aggressor_raw  \\\n",
       "36980                          NaN                        NaN   \n",
       "2826                         irrel                        3.0   \n",
       "21449                         high                        3.0   \n",
       "\n",
       "      is_ethicity_aggressor_meaning is_ethicity_dangerous_raw  \\\n",
       "36980                           NaN                       NaN   \n",
       "2826                          irrel                       1.0   \n",
       "21449                         irrel                       1.0   \n",
       "\n",
       "       is_ethicity_dangerous_meaning  comment       old_id text_sentiment  \n",
       "36980                            NaN      NaN    663079512            0.0  \n",
       "2826                              no      NaN    аланы_142            0.0  \n",
       "21449                             no      NaN  прибалт_111           -1.0  \n",
       "\n",
       "[3 rows x 62 columns]"
      ]
     },
     "execution_count": 3,
     "metadata": {},
     "output_type": "execute_result"
    }
   ],
   "source": [
    "df = pd.read_csv(\"../data/df.csv\", low_memory=False)\n",
    "df.sample(3)"
   ]
  },
  {
   "cell_type": "code",
   "execution_count": 4,
   "metadata": {},
   "outputs": [
    {
     "data": {
      "text/plain": [
       "((47999, 62), (16170, 62), (16281, 62))"
      ]
     },
     "execution_count": 4,
     "metadata": {},
     "output_type": "execute_result"
    }
   ],
   "source": [
    "ids = df['document.id'].unique()\n",
    "RANDOM_STATE = 42\n",
    "process_ids, test_ids = train_test_split(ids, test_size=0.2, random_state=RANDOM_STATE)\n",
    "train_ids, validate_ids = train_test_split(process_ids, train_size=0.75, random_state=RANDOM_STATE)\n",
    "\n",
    "train = df.loc[df['document.id'].isin(train_ids)]\n",
    "test = df.loc[df['document.id'].isin(test_ids)]\n",
    "validate = df.loc[df['document.id'].isin(validate_ids)]\n",
    "train.shape, test.shape, validate.shape  # percents are ≈ (60%, 20%, 20%)"
   ]
  },
  {
   "cell_type": "code",
   "execution_count": 5,
   "metadata": {},
   "outputs": [],
   "source": [
    "with open(\"../data/gpt_scores.pkl\", \"rb\") as f:\n",
    "    res = pickle.load(f)"
   ]
  },
  {
   "cell_type": "code",
   "execution_count": 6,
   "metadata": {},
   "outputs": [
    {
     "name": "stdout",
     "output_type": "stream",
     "text": [
      "epoch_8_num_54_loss_0.7994186667966574 score is 1174\n",
      "epoch_5_num_52_loss_0.7315569369028031 score is 1179\n",
      "epoch_7_num_10_loss_0.7702571042826478 score is 1173\n",
      "epoch_2_num_54_loss_0.6606334624549909 score is 1173\n",
      "epoch_3_num_10_loss_0.6640205195252324 score is 1171\n"
     ]
    }
   ],
   "source": [
    "best_model = None\n",
    "best_score = 0\n",
    "for model, score in res.items():\n",
    "    if score > 1170:\n",
    "        print(f\"{model} score is {score}\")\n",
    "    if best_score < score:\n",
    "        best_score = score\n",
    "        best_model = model"
   ]
  },
  {
   "cell_type": "code",
   "execution_count": 7,
   "metadata": {},
   "outputs": [
    {
     "name": "stdout",
     "output_type": "stream",
     "text": [
      "epoch_5_num_52_loss_0.7315569369028031 score is 1179\n"
     ]
    }
   ],
   "source": [
    "print(f\"{best_model} score is {best_score}\")"
   ]
  },
  {
   "cell_type": "code",
   "execution_count": 8,
   "metadata": {},
   "outputs": [],
   "source": [
    "preprocessor = Preprocessor(df=df, args=args, var_vocab=var_vocab, topic_to_russian=topic_to_russian)"
   ]
  },
  {
   "cell_type": "code",
   "execution_count": 9,
   "metadata": {},
   "outputs": [],
   "source": [
    "from torch.utils.data import DataLoader\n",
    "from gpt_classes.GPTDataset import GPTDataset\n",
    "from gpt_classes.GPTModel import GPTModel\n",
    "import torch"
   ]
  },
  {
   "cell_type": "code",
   "execution_count": 10,
   "metadata": {},
   "outputs": [],
   "source": [
    "dataset = GPTDataset(validate, args=args, preprocessor=preprocessor)"
   ]
  },
  {
   "cell_type": "code",
   "execution_count": 11,
   "metadata": {},
   "outputs": [],
   "source": [
    "loader = DataLoader(dataset, batch_size=16)\n",
    "device = 'cuda' if torch.cuda.is_available() else 'cpu'\n",
    "model = GPTModel(device).to(device)"
   ]
  },
  {
   "cell_type": "code",
   "execution_count": 12,
   "metadata": {},
   "outputs": [
    {
     "name": "stdout",
     "output_type": "stream",
     "text": [
      "cpu epoch_5_num_52_loss_0.7315569369028031\n"
     ]
    }
   ],
   "source": [
    "# best_model = 'epoch_3_num_10_loss_0.6640205195252324'\n",
    "model.load_state_dict(torch.load(f\"../models/{best_model}\", map_location=torch.device(device)))\n",
    "print(device, best_model)"
   ]
  },
  {
   "cell_type": "code",
   "execution_count": 13,
   "metadata": {},
   "outputs": [],
   "source": [
    "all_generated = []\n",
    "all_texts = []\n",
    "all_desc = []"
   ]
  },
  {
   "cell_type": "code",
   "execution_count": 14,
   "metadata": {},
   "outputs": [
    {
     "data": {
      "application/vnd.jupyter.widget-view+json": {
       "model_id": "ef9a6d241a824a98a4ce5eb907be046c",
       "version_major": 2,
       "version_minor": 0
      },
      "text/plain": [
       "  0%|          | 0/178 [00:00<?, ?it/s]"
      ]
     },
     "metadata": {},
     "output_type": "display_data"
    },
    {
     "name": "stderr",
     "output_type": "stream",
     "text": [
      "Token indices sequence length is longer than the specified maximum sequence length for this model (569 > 512). Running this sequence through the model will result in indexing errors\n"
     ]
    }
   ],
   "source": [
    "with torch.no_grad():\n",
    "    for i, (data, cut_data) in enumerate(tqdm(loader), 1):\n",
    "        outputs = model(data, cut_data)\n",
    "\n",
    "        for el in data:\n",
    "            text, descr = el.split(\"Описание: \", 1)\n",
    "            all_texts.append(text)\n",
    "            all_desc.append(descr)\n",
    "\n",
    "        generated = model.my_generate(cut_data)\n",
    "        all_generated.extend(generated)\n",
    "    "
   ]
  },
  {
   "cell_type": "code",
   "execution_count": 21,
   "metadata": {},
   "outputs": [
    {
     "name": "stdout",
     "output_type": "stream",
     "text": [
      "\n",
      "Задание: Сгенерируй описание следующего текста, оцени тональность текста, оцени наличие этнического конфликта, наличие позитивного взаимодействия этничностей, мнение о абхаз в тексте, является ли этничность абхаз доминирующей, является ли этничность абхаз агрессором, является ли этничность абхаз опасной.\n",
      "Текст: Для примера приведу по датам ключевые моменты Грузино-Абхазкой войны в хронологическом порядке. Количество договоренностей о прекращении огня можете посчитать сами. К чему эти договоренности привели ясно из хроники. Роль России тоже видна не вооруженным глазом.\n",
      "Описание: этот текст является негативным, в этническом составе Грузии есть этнические конфликты, этногенез, но они не носят локальный характер, а имеют место быть, это не означает, что в грузии не будет создано правительство или народная партия, которое будет диктовать свою волю грузинам, абхазы не хотят иметь правительство, у них нет договора с Россией, они хотят независимости своей республики, и это их естественное состояние, потому что это выгодно России, она хочет независимости своего народа\n",
      "======\n",
      "\n",
      "\n",
      "Задание: Сгенерируй описание следующего текста, оцени тональность текста, оцени наличие этнического конфликта, наличие позитивного взаимодействия этничностей, мнение о абхаз в тексте, является ли этничность абхаз доминирующей, является ли этничность абхаз агрессором, является ли этничность абхаз опасной.\n",
      "Текст: да что же тогда чеченский батальон делал в Нагорном Карабахе и чеченский батальон Басаева с казаками делали в абхазо- грузинской войне, а имеено Кремль насадил на слабую почву сепаратизм в Грузии и поддерживала абхазов?!\n",
      "Описание: этот текст является негативным, в этническом составе не боеспособный, этнический конфликт отсутствует, есть позитивное взаимодействие между этичностями, не является опасной\n",
      "оформление текста не соответствует действительности, текст есть негатив, о чем говорят этнические различия между грузинами и абхазами,\n",
      "об этнической принадлежности 'абхаз' не было, это не говорит о том, что этот факт является\n",
      "пренесчастным\n",
      "\n",
      "Чечня, Абхазия,\n",
      "======\n",
      "\n",
      "\n",
      "Задание: Сгенерируй описание следующего текста, оцени тональность текста, оцени наличие этнического конфликта, наличие позитивного взаимодействия этничностей, мнение о абхаз в тексте, является ли этничность абхаз доминирующей, является ли этничность абхаз агрессором, является ли этничность абхаз опасной.\n",
      "Текст: когда шла война,абхазы все покинули свои дома.Многие так и остались нашими соседями.Я знаю из их слов,что до моря там далеко.А сама география разделила это селение на две части,так было,так и осталось. Увидите своими глазами.)\n",
      "Описание: этот текст является позитивным, в этническом составе этнический конфликт отсутствует, этничный конфликт не является опасной ситуации, есть позитивное взаимодействие между этичностями, мнения об этногенезе 'абхаз' отрицательное, 'аварец' является отчасти доминирующим, не существует позитивной, а в позитивном взаимодействии этичныстей\n",
      "Дата: 21.12.2014 - Абхазия, Республика Абхазсия, Карабах, Приднестровье, Осетия\n",
      "Эфир от 22.\n",
      "======\n",
      "\n",
      "\n",
      "Задание: Сгенерируй описание следующего текста, оцени тональность текста, оцени наличие этнического конфликта, наличие позитивного взаимодействия этничностей, мнение о абхаз в тексте, является ли этничность абхаз доминирующей, является ли этничность абхаз агрессором, является ли этничность абхаз опасной.\n",
      "Текст: Конечно рады.Рады так что, день независимости приурочили к дню победы над Грузией(война 1992-1993 года). Правда сами абхазы для своей страны ничего не сделали, от слова совсем. Единственная гордость - Мы победили грузин\"\n",
      "Описание: этот текст является позитивным, в нем этнический конфликт отсутствует, этот тексте есть позитивное взаимодействие между этичностями, мнения об этом положительное, есть положительные тенденции, позитивный взаимодействия этичныстей\n",
      "о тексте не зафиксировано, о мнение об этническом составе\n",
      "об отрицательное, этничный конфликт не является опасной\n",
      "\n",
      "Читать дальшеСвернутьОт Бреста до Берлина. От Бреска до Парижа. И от Парижа до Брюсселя. А так же как и от Берлина до Вашингтона\n",
      "======\n",
      "\n",
      "\n",
      "Задание: Сгенерируй описание следующего текста, оцени тональность текста, оцени наличие этнического конфликта, наличие позитивного взаимодействия этничностей, мнение о абхаз в тексте, является ли этничность абхаз доминирующей, является ли этничность абхаз агрессором, является ли этничность абхаз опасной.\n",
      "Текст: Украинцы,заткнитесь!Порошенко и Обама -не лучше.Я сейчас на отдыхе в Абазии.Все Абхазцы благодарны Россие за помощь в войне с Грузией.Многие страны за Путина,но США давит на другие страны.\n",
      "Описание: этот текст является негативным, в этническом составе есть этнический конфликт, этничным соглашением не является, есть позитивное взаимодействие между этичностями, положительное, а мнение об этнике 'абхаз' отрицательное, не говорит о том, что этот факт является доминирующим, отрицательным, на мнение украинцев не распространяется, это мнение отдельных представителей этноса, но не всех украинцев, так же как и русских, проживающих в Абхазии и на Украине, также как абхазы и грузины\n",
      "======\n",
      "\n"
     ]
    }
   ],
   "source": [
    "i = 0\n",
    "for gen, text, descr in zip(all_generated, all_texts, all_desc):\n",
    "    print(f\"\\n{gen}\\n======\\n\")\n",
    "    i += 1\n",
    "    if i >= 5:\n",
    "        break"
   ]
  },
  {
   "cell_type": "code",
   "execution_count": 16,
   "metadata": {},
   "outputs": [],
   "source": [
    "from classes.MyModel import MyModel\n",
    "import numpy as np\n",
    "from sklearn.metrics import f1_score"
   ]
  },
  {
   "cell_type": "code",
   "execution_count": 17,
   "metadata": {},
   "outputs": [
    {
     "data": {
      "text/plain": [
       "<All keys matched successfully>"
      ]
     },
     "execution_count": 17,
     "metadata": {},
     "output_type": "execute_result"
    }
   ],
   "source": [
    "bert = MyModel('cpu')\n",
    "bert.load_state_dict(torch.load('../data/best_model'))"
   ]
  },
  {
   "cell_type": "code",
   "execution_count": 43,
   "metadata": {},
   "outputs": [],
   "source": [
    "def calculate_score(y_true, y_pred):\n",
    "    y_true = y_true.cpu().detach().numpy()\n",
    "    y_pred = np.argmax(y_pred.cpu().detach().numpy(), axis=1)\n",
    "\n",
    "    f1 = f1_score(y_true, y_pred)\n",
    "    print(f'f1 score: {f1:.5f}')\n",
    "\n",
    "    return f1"
   ]
  },
  {
   "cell_type": "code",
   "execution_count": 32,
   "metadata": {},
   "outputs": [],
   "source": [
    "def validate():\n",
    "    all_outputs = torch.empty(0).to('cpu')\n",
    "\n",
    "    with torch.no_grad():\n",
    "        for i, input in enumerate(all_generated, 1):\n",
    "            input = \"Текст:\" + input.split(\"Текст:\")[1] # \"Задание: ... Текст: ... Описание: ... -> Текст: ... Описание: ...\"\n",
    "            outputs = bert(input)\n",
    "            all_outputs = torch.cat((all_outputs, outputs.to('cpu')), dim=0)\n",
    "    return all_outputs"
   ]
  },
  {
   "cell_type": "code",
   "execution_count": 34,
   "metadata": {},
   "outputs": [],
   "source": [
    "outputs = validate()"
   ]
  },
  {
   "cell_type": "code",
   "execution_count": 53,
   "metadata": {},
   "outputs": [],
   "source": [
    "y_true = torch.zeros(len(all_generated)).to('cpu')"
   ]
  },
  {
   "cell_type": "code",
   "execution_count": 59,
   "metadata": {},
   "outputs": [
    {
     "name": "stdout",
     "output_type": "stream",
     "text": [
      "1451 predicted to be true descriptions out of 2839\n"
     ]
    }
   ],
   "source": [
    "y_pred = np.argmax(outputs.cpu().detach().numpy(), axis=1)\n",
    "print(f\"{np.sum(1 - y_pred)} predicted to be true descriptions out of {len(y_true)}\")"
   ]
  },
  {
   "cell_type": "code",
   "execution_count": 60,
   "metadata": {},
   "outputs": [
    {
     "data": {
      "text/plain": [
       "0.6764568764568765"
      ]
     },
     "execution_count": 60,
     "metadata": {},
     "output_type": "execute_result"
    }
   ],
   "source": [
    "f1_score(1 - y_true, 1 - y_pred)"
   ]
  },
  {
   "cell_type": "code",
   "execution_count": null,
   "metadata": {},
   "outputs": [],
   "source": []
  }
 ],
 "metadata": {
  "kernelspec": {
   "display_name": "Python 3",
   "language": "python",
   "name": "python3"
  },
  "language_info": {
   "codemirror_mode": {
    "name": "ipython",
    "version": 3
   },
   "file_extension": ".py",
   "mimetype": "text/x-python",
   "name": "python",
   "nbconvert_exporter": "python",
   "pygments_lexer": "ipython3",
   "version": "3.12.2"
  }
 },
 "nbformat": 4,
 "nbformat_minor": 2
}
