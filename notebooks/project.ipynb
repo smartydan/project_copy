{
 "cells": [
  {
   "cell_type": "markdown",
   "id": "fa11297e-3260-48a9-99ff-f72dbfb972e3",
   "metadata": {},
   "source": [
    "# HSE-2024 text classification project"
   ]
  },
  {
   "cell_type": "markdown",
   "id": "ce9bf42f5b985ac8",
   "metadata": {},
   "source": [
    "## Table of content\n",
    "* [Imports](#c1)\n",
    "* [Data loading and preprocessing](#c2)\n",
    "* [Custom dataset](#c3)\n",
    "* [Custom model](#c4)\n",
    "* [Trainer](#c5)\n",
    "* [BERT training](#c6)\n",
    "* [GPT training](#c6)"
   ]
  },
  {
   "cell_type": "markdown",
   "id": "868114483c848d79",
   "metadata": {},
   "source": [
    "### Imports <a class=\"anchor\" id=\"c1\"></a>"
   ]
  },
  {
   "cell_type": "code",
   "execution_count": 1,
   "id": "b0efad74",
   "metadata": {},
   "outputs": [],
   "source": [
    "import sys\n",
    "sys.path.append('..')\n",
    "import numpy as np\n",
    "import pandas as pd\n",
    "\n",
    "import torch\n",
    "from sklearn.model_selection import train_test_split\n",
    "\n",
    "import os\n",
    "import re\n",
    "import string\n",
    "\n",
    "from dicts import var_vocab, args, topic_to_russian\n",
    "from classes import Preprocessor, MyModel, Trainer"
   ]
  },
  {
   "cell_type": "markdown",
   "id": "79bf6ab199bd0511",
   "metadata": {},
   "source": [
    "### Data loading and preprocessing <a class=\"anchor\" id=\"c2\"></a>"
   ]
  },
  {
   "cell_type": "code",
   "execution_count": 2,
   "id": "f1302e35a33a0911",
   "metadata": {
    "ExecuteTime": {
     "end_time": "2024-03-16T13:13:13.519967Z",
     "start_time": "2024-03-16T13:13:13.510904Z"
    }
   },
   "outputs": [
    {
     "data": {
      "text/plain": [
       "<torch._C.Generator at 0x17c27b16d70>"
      ]
     },
     "execution_count": 2,
     "metadata": {},
     "output_type": "execute_result"
    }
   ],
   "source": [
    "RANDOM_STATE = 42\n",
    "torch.manual_seed(RANDOM_STATE)"
   ]
  },
  {
   "cell_type": "code",
   "execution_count": 3,
   "id": "24ce7bd260a89584",
   "metadata": {
    "ExecuteTime": {
     "end_time": "2024-03-16T13:13:13.541403Z",
     "start_time": "2024-03-16T13:13:13.521039Z"
    }
   },
   "outputs": [],
   "source": [
    "base_dir = '../data/'\n",
    "if not os.path.exists(base_dir):  # создадим папку, куда будем сохранять модели, и где будут лежать данные\n",
    "    os.makedirs(base_dir)"
   ]
  },
  {
   "cell_type": "code",
   "execution_count": 4,
   "id": "1db05a48bd6571f2",
   "metadata": {
    "ExecuteTime": {
     "end_time": "2024-03-16T13:13:13.908022Z",
     "start_time": "2024-03-16T13:13:13.543410Z"
    }
   },
   "outputs": [
    {
     "data": {
      "text/html": [
       "<div>\n",
       "<style scoped>\n",
       "    .dataframe tbody tr th:only-of-type {\n",
       "        vertical-align: middle;\n",
       "    }\n",
       "\n",
       "    .dataframe tbody tr th {\n",
       "        vertical-align: top;\n",
       "    }\n",
       "\n",
       "    .dataframe thead th {\n",
       "        text-align: right;\n",
       "    }\n",
       "</style>\n",
       "<table border=\"1\" class=\"dataframe\">\n",
       "  <thead>\n",
       "    <tr style=\"text-align: right;\">\n",
       "      <th></th>\n",
       "      <th>document.id</th>\n",
       "      <th>source</th>\n",
       "      <th>stage</th>\n",
       "      <th>source_text</th>\n",
       "      <th>lemm_text</th>\n",
       "      <th>city</th>\n",
       "      <th>region</th>\n",
       "      <th>date</th>\n",
       "    </tr>\n",
       "  </thead>\n",
       "  <tbody>\n",
       "    <tr>\n",
       "      <th>5693</th>\n",
       "      <td>440143765</td>\n",
       "      <td>iqbuzz</td>\n",
       "      <td>3</td>\n",
       "      <td>Дмитрий, ситуация на Украине не определённая. ...</td>\n",
       "      <td>дмитрий ситуация украина определённый нужно пр...</td>\n",
       "      <td>Великий Новгород</td>\n",
       "      <td>Новгородская область</td>\n",
       "      <td>2014-04-14</td>\n",
       "    </tr>\n",
       "    <tr>\n",
       "      <th>13178</th>\n",
       "      <td>1470245</td>\n",
       "      <td>vk</td>\n",
       "      <td>1</td>\n",
       "      <td>Ассаламу Алейкум. Приближается лето и у меня в...</td>\n",
       "      <td>ассаламу алейкум приближаться лето возникать в...</td>\n",
       "      <td>Махачкала</td>\n",
       "      <td>Дагестан</td>\n",
       "      <td>2014-03-24</td>\n",
       "    </tr>\n",
       "    <tr>\n",
       "      <th>884</th>\n",
       "      <td>892137525</td>\n",
       "      <td>iqbuzz</td>\n",
       "      <td>2</td>\n",
       "      <td>С праздником Великой Победы над фашизмом! Непр...</td>\n",
       "      <td>праздник великий победа над фашизм непременный...</td>\n",
       "      <td>Москва</td>\n",
       "      <td>Москва</td>\n",
       "      <td>2015-05-10</td>\n",
       "    </tr>\n",
       "  </tbody>\n",
       "</table>\n",
       "</div>"
      ],
      "text/plain": [
       "       document.id  source  stage  \\\n",
       "5693     440143765  iqbuzz      3   \n",
       "13178      1470245      vk      1   \n",
       "884      892137525  iqbuzz      2   \n",
       "\n",
       "                                             source_text  \\\n",
       "5693   Дмитрий, ситуация на Украине не определённая. ...   \n",
       "13178  Ассаламу Алейкум. Приближается лето и у меня в...   \n",
       "884    С праздником Великой Победы над фашизмом! Непр...   \n",
       "\n",
       "                                               lemm_text              city  \\\n",
       "5693   дмитрий ситуация украина определённый нужно пр...  Великий Новгород   \n",
       "13178  ассаламу алейкум приближаться лето возникать в...         Махачкала   \n",
       "884    праздник великий победа над фашизм непременный...            Москва   \n",
       "\n",
       "                     region        date  \n",
       "5693   Новгородская область  2014-04-14  \n",
       "13178              Дагестан  2014-03-24  \n",
       "884                  Москва  2015-05-10  "
      ]
     },
     "execution_count": 4,
     "metadata": {},
     "output_type": "execute_result"
    }
   ],
   "source": [
    "texts = pd.read_csv(f'{base_dir}texts_and_metadata.txt', sep='\\t')\n",
    "texts.sample(3)"
   ]
  },
  {
   "cell_type": "code",
   "execution_count": 5,
   "id": "2f8c930af33a5b55",
   "metadata": {
    "ExecuteTime": {
     "end_time": "2024-03-16T13:13:15.058581Z",
     "start_time": "2024-03-16T13:13:13.910030Z"
    }
   },
   "outputs": [
    {
     "data": {
      "text/html": [
       "<div>\n",
       "<style scoped>\n",
       "    .dataframe tbody tr th:only-of-type {\n",
       "        vertical-align: middle;\n",
       "    }\n",
       "\n",
       "    .dataframe tbody tr th {\n",
       "        vertical-align: top;\n",
       "    }\n",
       "\n",
       "    .dataframe thead th {\n",
       "        text-align: right;\n",
       "    }\n",
       "</style>\n",
       "<table border=\"1\" class=\"dataframe\">\n",
       "  <thead>\n",
       "    <tr style=\"text-align: right;\">\n",
       "      <th></th>\n",
       "      <th>document.id</th>\n",
       "      <th>source</th>\n",
       "      <th>stage</th>\n",
       "      <th>data</th>\n",
       "      <th>assessor</th>\n",
       "      <th>seed_eth_group</th>\n",
       "      <th>for_questions_about_text</th>\n",
       "      <th>do_text_make_sense_raw</th>\n",
       "      <th>do_text_make_sense_recoded</th>\n",
       "      <th>has_ethnonym_raw</th>\n",
       "      <th>...</th>\n",
       "      <th>represent_ethicity_raw</th>\n",
       "      <th>represent_ethicity_meaning</th>\n",
       "      <th>is_ethicity_superior_raw</th>\n",
       "      <th>is_ethicity_superior_meaning</th>\n",
       "      <th>is_ethicity_aggressor_raw</th>\n",
       "      <th>is_ethicity_aggressor_meaning</th>\n",
       "      <th>is_ethicity_dangerous_raw</th>\n",
       "      <th>is_ethicity_dangerous_meaning</th>\n",
       "      <th>comment</th>\n",
       "      <th>old_id</th>\n",
       "    </tr>\n",
       "  </thead>\n",
       "  <tbody>\n",
       "    <tr>\n",
       "      <th>14887</th>\n",
       "      <td>706679672</td>\n",
       "      <td>iqbuzz</td>\n",
       "      <td>3</td>\n",
       "      <td>2017-03-24 21:30:54</td>\n",
       "      <td>skuchilina</td>\n",
       "      <td>литовец</td>\n",
       "      <td>0</td>\n",
       "      <td>yes</td>\n",
       "      <td>1</td>\n",
       "      <td>several</td>\n",
       "      <td>...</td>\n",
       "      <td>1.0</td>\n",
       "      <td>no</td>\n",
       "      <td>3.0</td>\n",
       "      <td>irrel</td>\n",
       "      <td>3.0</td>\n",
       "      <td>irrel</td>\n",
       "      <td>1.0</td>\n",
       "      <td>no</td>\n",
       "      <td>NaN</td>\n",
       "      <td>706679672</td>\n",
       "    </tr>\n",
       "    <tr>\n",
       "      <th>36022</th>\n",
       "      <td>868811160</td>\n",
       "      <td>iqbuzz</td>\n",
       "      <td>3</td>\n",
       "      <td>2017-03-28 19:52:41</td>\n",
       "      <td>skuchilina</td>\n",
       "      <td>угр</td>\n",
       "      <td>1</td>\n",
       "      <td>yes</td>\n",
       "      <td>1</td>\n",
       "      <td>several</td>\n",
       "      <td>...</td>\n",
       "      <td>1.0</td>\n",
       "      <td>no</td>\n",
       "      <td>3.0</td>\n",
       "      <td>irrel</td>\n",
       "      <td>3.0</td>\n",
       "      <td>irrel</td>\n",
       "      <td>1.0</td>\n",
       "      <td>no</td>\n",
       "      <td>угры: финно-угры</td>\n",
       "      <td>868811160</td>\n",
       "    </tr>\n",
       "    <tr>\n",
       "      <th>22307</th>\n",
       "      <td>764903507</td>\n",
       "      <td>iqbuzz</td>\n",
       "      <td>3</td>\n",
       "      <td>2017-04-03 14:57:13</td>\n",
       "      <td>belchonok</td>\n",
       "      <td>абхаз</td>\n",
       "      <td>1</td>\n",
       "      <td>yes</td>\n",
       "      <td>1</td>\n",
       "      <td>one</td>\n",
       "      <td>...</td>\n",
       "      <td>1.0</td>\n",
       "      <td>no</td>\n",
       "      <td>3.0</td>\n",
       "      <td>irrel</td>\n",
       "      <td>3.0</td>\n",
       "      <td>irrel</td>\n",
       "      <td>1.0</td>\n",
       "      <td>no</td>\n",
       "      <td>NaN</td>\n",
       "      <td>764903507</td>\n",
       "    </tr>\n",
       "  </tbody>\n",
       "</table>\n",
       "<p>3 rows × 56 columns</p>\n",
       "</div>"
      ],
      "text/plain": [
       "       document.id  source  stage                 data    assessor  \\\n",
       "14887    706679672  iqbuzz      3  2017-03-24 21:30:54  skuchilina   \n",
       "36022    868811160  iqbuzz      3  2017-03-28 19:52:41  skuchilina   \n",
       "22307    764903507  iqbuzz      3  2017-04-03 14:57:13   belchonok   \n",
       "\n",
       "      seed_eth_group  for_questions_about_text do_text_make_sense_raw  \\\n",
       "14887        литовец                         0                    yes   \n",
       "36022            угр                         1                    yes   \n",
       "22307          абхаз                         1                    yes   \n",
       "\n",
       "       do_text_make_sense_recoded has_ethnonym_raw  ...  \\\n",
       "14887                           1          several  ...   \n",
       "36022                           1          several  ...   \n",
       "22307                           1              one  ...   \n",
       "\n",
       "      represent_ethicity_raw represent_ethicity_meaning  \\\n",
       "14887                    1.0                         no   \n",
       "36022                    1.0                         no   \n",
       "22307                    1.0                         no   \n",
       "\n",
       "      is_ethicity_superior_raw is_ethicity_superior_meaning  \\\n",
       "14887                      3.0                        irrel   \n",
       "36022                      3.0                        irrel   \n",
       "22307                      3.0                        irrel   \n",
       "\n",
       "      is_ethicity_aggressor_raw  is_ethicity_aggressor_meaning  \\\n",
       "14887                       3.0                          irrel   \n",
       "36022                       3.0                          irrel   \n",
       "22307                       3.0                          irrel   \n",
       "\n",
       "       is_ethicity_dangerous_raw  is_ethicity_dangerous_meaning  \\\n",
       "14887                        1.0                             no   \n",
       "36022                        1.0                             no   \n",
       "22307                        1.0                             no   \n",
       "\n",
       "                comment     old_id  \n",
       "14887               NaN  706679672  \n",
       "36022  угры: финно-угры  868811160  \n",
       "22307               NaN  764903507  \n",
       "\n",
       "[3 rows x 56 columns]"
      ]
     },
     "execution_count": 5,
     "metadata": {},
     "output_type": "execute_result"
    }
   ],
   "source": [
    "data = pd.read_csv(f'{base_dir}coding_results.txt', low_memory=False, sep='\\t')\n",
    "data.sample(3)"
   ]
  },
  {
   "cell_type": "code",
   "execution_count": 6,
   "id": "21d27009f3a04da6",
   "metadata": {
    "ExecuteTime": {
     "end_time": "2024-03-16T13:13:15.207178Z",
     "start_time": "2024-03-16T13:13:15.059593Z"
    }
   },
   "outputs": [
    {
     "data": {
      "text/html": [
       "<div>\n",
       "<style scoped>\n",
       "    .dataframe tbody tr th:only-of-type {\n",
       "        vertical-align: middle;\n",
       "    }\n",
       "\n",
       "    .dataframe tbody tr th {\n",
       "        vertical-align: top;\n",
       "    }\n",
       "\n",
       "    .dataframe thead th {\n",
       "        text-align: right;\n",
       "    }\n",
       "</style>\n",
       "<table border=\"1\" class=\"dataframe\">\n",
       "  <thead>\n",
       "    <tr style=\"text-align: right;\">\n",
       "      <th></th>\n",
       "      <th>document.id</th>\n",
       "      <th>source</th>\n",
       "      <th>stage</th>\n",
       "      <th>source_text</th>\n",
       "      <th>lemm_text</th>\n",
       "      <th>city</th>\n",
       "      <th>region</th>\n",
       "      <th>date</th>\n",
       "      <th>data</th>\n",
       "      <th>assessor</th>\n",
       "      <th>...</th>\n",
       "      <th>represent_ethicity_raw</th>\n",
       "      <th>represent_ethicity_meaning</th>\n",
       "      <th>is_ethicity_superior_raw</th>\n",
       "      <th>is_ethicity_superior_meaning</th>\n",
       "      <th>is_ethicity_aggressor_raw</th>\n",
       "      <th>is_ethicity_aggressor_meaning</th>\n",
       "      <th>is_ethicity_dangerous_raw</th>\n",
       "      <th>is_ethicity_dangerous_meaning</th>\n",
       "      <th>comment</th>\n",
       "      <th>old_id</th>\n",
       "    </tr>\n",
       "  </thead>\n",
       "  <tbody>\n",
       "    <tr>\n",
       "      <th>56221</th>\n",
       "      <td>828591411</td>\n",
       "      <td>iqbuzz</td>\n",
       "      <td>3</td>\n",
       "      <td>Но это старый-старый анекдот.Про русских,про е...</td>\n",
       "      <td>чукча масса анекдот ещё юмор принимать хамство</td>\n",
       "      <td>NaN</td>\n",
       "      <td>NaN</td>\n",
       "      <td>2015-03-26</td>\n",
       "      <td>2017-03-29 22:04:41</td>\n",
       "      <td>Tatiana</td>\n",
       "      <td>...</td>\n",
       "      <td>1.0</td>\n",
       "      <td>no</td>\n",
       "      <td>3.0</td>\n",
       "      <td>irrel</td>\n",
       "      <td>3.0</td>\n",
       "      <td>irrel</td>\n",
       "      <td>1.0</td>\n",
       "      <td>no</td>\n",
       "      <td>NaN</td>\n",
       "      <td>828591411</td>\n",
       "    </tr>\n",
       "    <tr>\n",
       "      <th>47346</th>\n",
       "      <td>759799688</td>\n",
       "      <td>iqbuzz</td>\n",
       "      <td>3</td>\n",
       "      <td>В Росси живут разные народы. У чеченцев, ингуш...</td>\n",
       "      <td>почему россия вымирать русский росся жить разн...</td>\n",
       "      <td>Самара</td>\n",
       "      <td>Самарская область</td>\n",
       "      <td>2015-02-13</td>\n",
       "      <td>2017-03-25 19:40:26</td>\n",
       "      <td>mintbreeze</td>\n",
       "      <td>...</td>\n",
       "      <td>1.0</td>\n",
       "      <td>no</td>\n",
       "      <td>3.0</td>\n",
       "      <td>irrel</td>\n",
       "      <td>3.0</td>\n",
       "      <td>irrel</td>\n",
       "      <td>1.0</td>\n",
       "      <td>no</td>\n",
       "      <td>NaN</td>\n",
       "      <td>759799688</td>\n",
       "    </tr>\n",
       "    <tr>\n",
       "      <th>70178</th>\n",
       "      <td>959578195</td>\n",
       "      <td>iqbuzz</td>\n",
       "      <td>3</td>\n",
       "      <td>Меня зовут Женя &lt;b&gt;Якут&lt;/b&gt;, я бомж. А еще я в...</td>\n",
       "      <td>женя якут бомж блоггер выпуск игорь николаев б...</td>\n",
       "      <td>Якутск</td>\n",
       "      <td>Саха /Якутия/</td>\n",
       "      <td>2015-07-11</td>\n",
       "      <td>2017-03-23 07:29:29</td>\n",
       "      <td>DariaN</td>\n",
       "      <td>...</td>\n",
       "      <td>NaN</td>\n",
       "      <td>NaN</td>\n",
       "      <td>NaN</td>\n",
       "      <td>NaN</td>\n",
       "      <td>NaN</td>\n",
       "      <td>NaN</td>\n",
       "      <td>NaN</td>\n",
       "      <td>NaN</td>\n",
       "      <td>NaN</td>\n",
       "      <td>959578195</td>\n",
       "    </tr>\n",
       "    <tr>\n",
       "      <th>33796</th>\n",
       "      <td>341491540</td>\n",
       "      <td>iqbuzz</td>\n",
       "      <td>3</td>\n",
       "      <td>Сергей, материнский капитал? Подачка единоврем...</td>\n",
       "      <td>сергей материнский капитал подачка единовремен...</td>\n",
       "      <td>Петухово</td>\n",
       "      <td>Пермский край</td>\n",
       "      <td>2014-01-23</td>\n",
       "      <td>2017-04-02 21:38:07</td>\n",
       "      <td>adzhigitova</td>\n",
       "      <td>...</td>\n",
       "      <td>3.0</td>\n",
       "      <td>yes</td>\n",
       "      <td>3.0</td>\n",
       "      <td>irrel</td>\n",
       "      <td>1.0</td>\n",
       "      <td>victim</td>\n",
       "      <td>1.0</td>\n",
       "      <td>no</td>\n",
       "      <td>NaN</td>\n",
       "      <td>341491540</td>\n",
       "    </tr>\n",
       "    <tr>\n",
       "      <th>52389</th>\n",
       "      <td>794966325</td>\n",
       "      <td>iqbuzz</td>\n",
       "      <td>3</td>\n",
       "      <td>[[id65684042|Леван], 92 год,Грузино-Абхазкий, ...</td>\n",
       "      <td>леван россия виноватый сторона абхазец воевать...</td>\n",
       "      <td>Череповец</td>\n",
       "      <td>Вологодская область</td>\n",
       "      <td>2015-03-06</td>\n",
       "      <td>2017-03-29 03:08:17</td>\n",
       "      <td>an_men</td>\n",
       "      <td>...</td>\n",
       "      <td>1.0</td>\n",
       "      <td>no</td>\n",
       "      <td>3.0</td>\n",
       "      <td>irrel</td>\n",
       "      <td>2.0</td>\n",
       "      <td>agressor</td>\n",
       "      <td>1.0</td>\n",
       "      <td>no</td>\n",
       "      <td>NaN</td>\n",
       "      <td>794966325</td>\n",
       "    </tr>\n",
       "  </tbody>\n",
       "</table>\n",
       "<p>5 rows × 61 columns</p>\n",
       "</div>"
      ],
      "text/plain": [
       "       document.id  source  stage  \\\n",
       "56221    828591411  iqbuzz      3   \n",
       "47346    759799688  iqbuzz      3   \n",
       "70178    959578195  iqbuzz      3   \n",
       "33796    341491540  iqbuzz      3   \n",
       "52389    794966325  iqbuzz      3   \n",
       "\n",
       "                                             source_text  \\\n",
       "56221  Но это старый-старый анекдот.Про русских,про е...   \n",
       "47346  В Росси живут разные народы. У чеченцев, ингуш...   \n",
       "70178  Меня зовут Женя <b>Якут</b>, я бомж. А еще я в...   \n",
       "33796  Сергей, материнский капитал? Подачка единоврем...   \n",
       "52389  [[id65684042|Леван], 92 год,Грузино-Абхазкий, ...   \n",
       "\n",
       "                                               lemm_text       city  \\\n",
       "56221     чукча масса анекдот ещё юмор принимать хамство        NaN   \n",
       "47346  почему россия вымирать русский росся жить разн...     Самара   \n",
       "70178  женя якут бомж блоггер выпуск игорь николаев б...     Якутск   \n",
       "33796  сергей материнский капитал подачка единовремен...   Петухово   \n",
       "52389  леван россия виноватый сторона абхазец воевать...  Череповец   \n",
       "\n",
       "                    region        date                 data     assessor  ...  \\\n",
       "56221                  NaN  2015-03-26  2017-03-29 22:04:41      Tatiana  ...   \n",
       "47346    Самарская область  2015-02-13  2017-03-25 19:40:26   mintbreeze  ...   \n",
       "70178        Саха /Якутия/  2015-07-11  2017-03-23 07:29:29       DariaN  ...   \n",
       "33796        Пермский край  2014-01-23  2017-04-02 21:38:07  adzhigitova  ...   \n",
       "52389  Вологодская область  2015-03-06  2017-03-29 03:08:17       an_men  ...   \n",
       "\n",
       "      represent_ethicity_raw  represent_ethicity_meaning  \\\n",
       "56221                    1.0                          no   \n",
       "47346                    1.0                          no   \n",
       "70178                    NaN                         NaN   \n",
       "33796                    3.0                         yes   \n",
       "52389                    1.0                          no   \n",
       "\n",
       "      is_ethicity_superior_raw  is_ethicity_superior_meaning  \\\n",
       "56221                      3.0                         irrel   \n",
       "47346                      3.0                         irrel   \n",
       "70178                      NaN                           NaN   \n",
       "33796                      3.0                         irrel   \n",
       "52389                      3.0                         irrel   \n",
       "\n",
       "      is_ethicity_aggressor_raw is_ethicity_aggressor_meaning  \\\n",
       "56221                       3.0                         irrel   \n",
       "47346                       3.0                         irrel   \n",
       "70178                       NaN                           NaN   \n",
       "33796                       1.0                        victim   \n",
       "52389                       2.0                      agressor   \n",
       "\n",
       "      is_ethicity_dangerous_raw is_ethicity_dangerous_meaning comment  \\\n",
       "56221                       1.0                            no     NaN   \n",
       "47346                       1.0                            no     NaN   \n",
       "70178                       NaN                           NaN     NaN   \n",
       "33796                       1.0                            no     NaN   \n",
       "52389                       1.0                            no     NaN   \n",
       "\n",
       "          old_id  \n",
       "56221  828591411  \n",
       "47346  759799688  \n",
       "70178  959578195  \n",
       "33796  341491540  \n",
       "52389  794966325  \n",
       "\n",
       "[5 rows x 61 columns]"
      ]
     },
     "execution_count": 6,
     "metadata": {},
     "output_type": "execute_result"
    }
   ],
   "source": [
    "df = texts.merge(data, how='left')\n",
    "df.sample(5)"
   ]
  },
  {
   "cell_type": "code",
   "execution_count": 7,
   "id": "88b555a29fca8ead",
   "metadata": {
    "ExecuteTime": {
     "end_time": "2024-03-16T13:13:15.216414Z",
     "start_time": "2024-03-16T13:13:15.209247Z"
    }
   },
   "outputs": [
    {
     "data": {
      "text/plain": [
       "(84784, 61)"
      ]
     },
     "execution_count": 7,
     "metadata": {},
     "output_type": "execute_result"
    }
   ],
   "source": [
    "df.shape"
   ]
  },
  {
   "cell_type": "code",
   "execution_count": 8,
   "id": "b0f58a43b9d2bc2e",
   "metadata": {
    "ExecuteTime": {
     "end_time": "2024-03-16T13:13:15.232899Z",
     "start_time": "2024-03-16T13:13:15.218424Z"
    }
   },
   "outputs": [
    {
     "data": {
      "text/plain": [
       "do_text_make_sense_raw\n",
       "yes     78372\n",
       "no       4334\n",
       "lang     1890\n",
       "joke      188\n",
       "Name: count, dtype: int64"
      ]
     },
     "execution_count": 8,
     "metadata": {},
     "output_type": "execute_result"
    }
   ],
   "source": [
    "df['do_text_make_sense_raw'].value_counts()"
   ]
  },
  {
   "cell_type": "code",
   "execution_count": 9,
   "id": "c59bb0d5a199388a",
   "metadata": {
    "ExecuteTime": {
     "end_time": "2024-03-16T13:13:15.300951Z",
     "start_time": "2024-03-16T13:13:15.234907Z"
    }
   },
   "outputs": [],
   "source": [
    "df.drop(df[df['do_text_make_sense_raw'] == 'no'].index, inplace=True)"
   ]
  },
  {
   "cell_type": "code",
   "execution_count": 10,
   "id": "7617fdd2aa60b7dc",
   "metadata": {
    "ExecuteTime": {
     "end_time": "2024-03-16T13:13:15.410364Z",
     "start_time": "2024-03-16T13:13:15.302029Z"
    }
   },
   "outputs": [],
   "source": [
    "ops = ['is_text_positive_recoded', 'is_text_neg_recoded']\n",
    "df[ops] = df[ops].apply(pd.to_numeric, errors='coerce')\n",
    "pos_ = df['is_text_positive_recoded']\n",
    "neg_ = df['is_text_neg_recoded']\n",
    "df.loc[(pos_ > 0) & (neg_ < 0), ops] = None\n",
    "df.loc[neg_ < 0, 'text_sentiment'] = -1\n",
    "df.loc[pos_ > 0, 'text_sentiment'] = 1\n",
    "df.loc[(neg_ == 0) & (pos_ == 0), 'text_sentiment'] = 0"
   ]
  },
  {
   "cell_type": "code",
   "execution_count": 11,
   "id": "48d83b3240a39054",
   "metadata": {
    "ExecuteTime": {
     "end_time": "2024-03-16T13:13:15.423634Z",
     "start_time": "2024-03-16T13:13:15.411371Z"
    }
   },
   "outputs": [
    {
     "data": {
      "text/plain": [
       "7"
      ]
     },
     "execution_count": 11,
     "metadata": {},
     "output_type": "execute_result"
    }
   ],
   "source": [
    "MAX_SPOIL = len(args)\n",
    "MAX_SPOIL"
   ]
  },
  {
   "cell_type": "code",
   "execution_count": 12,
   "id": "7d0e23cfe874429a",
   "metadata": {
    "ExecuteTime": {
     "end_time": "2024-03-16T13:13:15.442493Z",
     "start_time": "2024-03-16T13:13:15.425761Z"
    }
   },
   "outputs": [
    {
     "data": {
      "text/plain": [
       "has_pos_eth_interaction_raw\n",
       "no     62783\n",
       "yes    13603\n",
       "unk     1986\n",
       "Name: count, dtype: int64"
      ]
     },
     "execution_count": 12,
     "metadata": {},
     "output_type": "execute_result"
    }
   ],
   "source": [
    "df['has_pos_eth_interaction_raw'].value_counts()"
   ]
  },
  {
   "cell_type": "code",
   "execution_count": 13,
   "id": "635bdb29566bc788",
   "metadata": {
    "ExecuteTime": {
     "end_time": "2024-03-16T13:13:16.195368Z",
     "start_time": "2024-03-16T13:13:15.468912Z"
    }
   },
   "outputs": [],
   "source": [
    "df = df.fillna(np.nan).replace([np.nan], [None])"
   ]
  },
  {
   "cell_type": "code",
   "execution_count": 14,
   "id": "daa93c289140e12",
   "metadata": {
    "ExecuteTime": {
     "end_time": "2024-03-16T13:13:16.204529Z",
     "start_time": "2024-03-16T13:13:16.196382Z"
    }
   },
   "outputs": [
    {
     "data": {
      "text/plain": [
       "(14196,)"
      ]
     },
     "execution_count": 14,
     "metadata": {},
     "output_type": "execute_result"
    }
   ],
   "source": [
    "ids = df['document.id'].unique()\n",
    "ids.shape  # 14196 после дропа по do_text_make_sence = no"
   ]
  },
  {
   "cell_type": "code",
   "execution_count": 15,
   "id": "9351aae9-4899-4fdd-b31a-d67037ce6e1e",
   "metadata": {},
   "outputs": [
    {
     "name": "stderr",
     "output_type": "stream",
     "text": [
      "<>:3: SyntaxWarning: invalid escape sequence '\\['\n",
      "<>:3: SyntaxWarning: invalid escape sequence '\\['\n",
      "C:\\Users\\bentodan\\AppData\\Local\\Temp\\ipykernel_8244\\3087058704.py:3: SyntaxWarning: invalid escape sequence '\\['\n",
      "  CLEANR = [re.compile('<.*?>'), re.compile(\"\\[.*?\\]\")]\n"
     ]
    }
   ],
   "source": [
    "def clean(text):\n",
    "    text = text.apply(lambda x: str(x))\n",
    "    CLEANR = [re.compile('<.*?>'), re.compile(\"\\[.*?\\]\")]\n",
    "    for i in CLEANR:\n",
    "        text = text.apply(lambda x: re.sub(i, '', x))\n",
    "    text = text.apply(lambda x: x.replace('\\\\', ''))\n",
    "    text = text.apply(lambda x: re.sub(r\"([\" + re.escape(string.punctuation) + r\"])\\1+\", r\"\\1\", x))\n",
    "    text = text.apply(lambda x: re.sub(r\"http\\S+\", '', x))\n",
    "    text = text.apply(lambda x: re.sub(r\"\\r\", '', x))\n",
    "    text = text.apply(lambda x: re.sub(r'\\s+', ' ', x))\n",
    "    text = text.apply(lambda x: re.sub(r'\\s+', ' ', x))\n",
    "    text = text.apply(lambda x: re.sub('\"+','\"', x))\n",
    "    text = text.apply(lambda x: re.sub(\"'+\",\"'\", x))\n",
    "    items = string.punctuation + \" \"\n",
    "    text = text.apply(lambda x: x.lstrip(items) if isinstance(x, str) else x)\n",
    "    return text"
   ]
  },
  {
   "cell_type": "code",
   "execution_count": 16,
   "id": "da95d743-aa5f-4bc0-9b57-6bd0eda39588",
   "metadata": {},
   "outputs": [],
   "source": [
    "df['source_text'] = clean(df['source_text'])"
   ]
  },
  {
   "cell_type": "code",
   "execution_count": 17,
   "id": "8606e306",
   "metadata": {},
   "outputs": [],
   "source": [
    "df.to_csv(\"data/df.csv\", index=False)"
   ]
  },
  {
   "cell_type": "code",
   "execution_count": 18,
   "id": "14d872e3-023c-4db1-94cb-3c6096e6b346",
   "metadata": {},
   "outputs": [
    {
     "data": {
      "text/plain": [
       "'но у вас же бред написан. Какими русскими? Вообще то там грузины воевали с Абхазами. Это исторический факт. А статья может быть на 10% правдива. Почему вы верите, какой-то статье?'"
      ]
     },
     "execution_count": 18,
     "metadata": {},
     "output_type": "execute_result"
    }
   ],
   "source": [
    "df['source_text'][0]"
   ]
  },
  {
   "cell_type": "code",
   "execution_count": 19,
   "id": "731b6e0a7c036836",
   "metadata": {
    "ExecuteTime": {
     "end_time": "2024-03-16T13:13:16.215940Z",
     "start_time": "2024-03-16T13:13:16.205497Z"
    }
   },
   "outputs": [],
   "source": [
    "preprocessor = Preprocessor.Preprocessor(df=df, args=args, var_vocab=var_vocab, topic_to_russian=topic_to_russian)"
   ]
  },
  {
   "cell_type": "code",
   "execution_count": 20,
   "id": "319dfcf6ad5c50e8",
   "metadata": {
    "ExecuteTime": {
     "end_time": "2024-03-16T13:13:16.235982Z",
     "start_time": "2024-03-16T13:13:16.217936Z"
    }
   },
   "outputs": [
    {
     "name": "stdout",
     "output_type": "stream",
     "text": [
      "690632954\n",
      "этот текст является негативным, в тексте этнический конфликт отсутствует, в тексте не зафиксировано позитивного взаимодействия этичностей, этничность 'русня' не является опасной\n",
      "\n",
      "не считай себя умнее других. Это раз. Эту фигню про крест все знают. А хач — это пренебрежительное прозвище людей нетрадиционной национальности. Так же как они русских называют руснёй.\n"
     ]
    }
   ],
   "source": [
    "id_ = df['document.id'].sample().values[0]\n",
    "descr, text = preprocessor.fit(id_)\n",
    "print(id_, descr, text, sep='\\n')"
   ]
  },
  {
   "cell_type": "code",
   "execution_count": 21,
   "id": "d26a4ba13ca497f0",
   "metadata": {
    "ExecuteTime": {
     "end_time": "2024-03-16T13:13:16.249176Z",
     "start_time": "2024-03-16T13:13:16.237995Z"
    }
   },
   "outputs": [
    {
     "name": "stdout",
     "output_type": "stream",
     "text": [
      "этот текст является негативным, в тексте этнический конфликт отсутствует, в тексте не зафиксировано позитивного взаимодействия этичностей, этничность 'русня' не является опасной\n",
      "\n",
      "этот текст является позитивным, этничность 'русня' является отчасти доминирующей, этничность 'русня' является жертвой, этничность 'русня' является опасной\n",
      "\n"
     ]
    }
   ],
   "source": [
    "descr_spoiled, text = preprocessor.fit(id_, spoil_size=len(preprocessor.args))\n",
    "print(descr, descr_spoiled, sep='\\n')"
   ]
  },
  {
   "cell_type": "code",
   "execution_count": 22,
   "id": "692e8a6ac50e1b93",
   "metadata": {
    "ExecuteTime": {
     "end_time": "2024-03-16T13:13:16.276722Z",
     "start_time": "2024-03-16T13:13:16.250194Z"
    }
   },
   "outputs": [
    {
     "name": "stdout",
     "output_type": "stream",
     "text": [
      "Текст имеет темы: этничность, этот текст является негативным, в тексте этнический конфликт отсутствует, в тексте не зафиксировано позитивного взаимодействия этичностей, этничность 'русня' не является опасной\n",
      "\n",
      "Текст имеет темы: культура, этот текст является негативным, в тексте этнический конфликт отсутствует, в тексте не зафиксировано позитивного взаимодействия этичностей, этничность 'русня' не является опасной\n",
      "\n"
     ]
    }
   ],
   "source": [
    "descr_topics, _ = preprocessor.fit(id_, topic=True)\n",
    "descr_topics_spoiled, _ = preprocessor.fit(id_, topic=True, topic_spoil=1)\n",
    "print(descr_topics, descr_topics_spoiled, sep='\\n')"
   ]
  },
  {
   "cell_type": "markdown",
   "id": "4843d60bf53dd986",
   "metadata": {},
   "source": [
    "### Custom dataset <a class=\"anchor\" id=\"c3\"></a>"
   ]
  },
  {
   "cell_type": "code",
   "execution_count": 23,
   "id": "bdd2ab92586b4300",
   "metadata": {
    "ExecuteTime": {
     "end_time": "2024-03-16T13:13:16.352614Z",
     "start_time": "2024-03-16T13:13:16.277734Z"
    }
   },
   "outputs": [
    {
     "data": {
      "text/plain": [
       "((47999, 62), (16170, 62), (16281, 62))"
      ]
     },
     "execution_count": 23,
     "metadata": {},
     "output_type": "execute_result"
    }
   ],
   "source": [
    "process_ids, test_ids = train_test_split(ids, test_size=0.2, random_state=RANDOM_STATE)\n",
    "train_ids, validate_ids = train_test_split(process_ids, train_size=0.75, random_state=RANDOM_STATE)\n",
    "\n",
    "train = df.loc[df['document.id'].isin(train_ids)]\n",
    "test = df.loc[df['document.id'].isin(test_ids)]\n",
    "validate = df.loc[df['document.id'].isin(validate_ids)]\n",
    "train.shape, test.shape, validate.shape  # percents are ≈ (60%, 20%, 20%)"
   ]
  },
  {
   "cell_type": "markdown",
   "id": "54d13ab22fe08ea0",
   "metadata": {},
   "source": [
    "### Custom model <a class=\"anchor\" id=\"c4\"></a>"
   ]
  },
  {
   "cell_type": "code",
   "execution_count": 24,
   "id": "8fa1b0ce53ec3bf6",
   "metadata": {
    "ExecuteTime": {
     "end_time": "2024-03-16T13:13:16.528628Z",
     "start_time": "2024-03-16T13:13:16.353631Z"
    }
   },
   "outputs": [
    {
     "name": "stdout",
     "output_type": "stream",
     "text": [
      "Device used: cpu.\n"
     ]
    }
   ],
   "source": [
    "device = torch.device('cuda') if torch.cuda.is_available() else torch.device('cpu')\n",
    "print(f\"Device used: {device}.\")"
   ]
  },
  {
   "cell_type": "code",
   "execution_count": 25,
   "id": "ed00a5f39f8b806d",
   "metadata": {
    "ExecuteTime": {
     "end_time": "2024-03-16T13:13:21.215828Z",
     "start_time": "2024-03-16T13:13:16.529624Z"
    }
   },
   "outputs": [
    {
     "name": "stdout",
     "output_type": "stream",
     "text": [
      "Model loaded. Model tokenizer is BertTokenizerFast(name_or_path='cointegrated/rubert-tiny2', vocab_size=83828, model_max_length=512, is_fast=True, padding_side='right', truncation_side='right', special_tokens={'unk_token': '[UNK]', 'sep_token': '[SEP]', 'pad_token': '[PAD]', 'cls_token': '[CLS]', 'mask_token': '[MASK]'}, clean_up_tokenization_spaces=True),  added_tokens_decoder={\n",
      "\t0: AddedToken(\"[PAD]\", rstrip=False, lstrip=False, single_word=False, normalized=False, special=True),\n",
      "\t1: AddedToken(\"[UNK]\", rstrip=False, lstrip=False, single_word=False, normalized=False, special=True),\n",
      "\t2: AddedToken(\"[CLS]\", rstrip=False, lstrip=False, single_word=False, normalized=False, special=True),\n",
      "\t3: AddedToken(\"[SEP]\", rstrip=False, lstrip=False, single_word=False, normalized=False, special=True),\n",
      "\t4: AddedToken(\"[MASK]\", rstrip=False, lstrip=False, single_word=False, normalized=False, special=True),\n",
      "}.\n"
     ]
    }
   ],
   "source": [
    "model = MyModel.MyModel(device) # turn on the developer mode here\n",
    "print(f\"Model loaded. Model tokenizer is {model.tokenizer}.\")"
   ]
  },
  {
   "cell_type": "code",
   "execution_count": 26,
   "id": "1d44b225117fb6c1",
   "metadata": {
    "ExecuteTime": {
     "end_time": "2024-03-16T13:13:22.117995Z",
     "start_time": "2024-03-16T13:13:21.218827Z"
    }
   },
   "outputs": [
    {
     "name": "stdout",
     "output_type": "stream",
     "text": [
      "Model reloaded. Model tokenizer is BertTokenizerFast(name_or_path='cointegrated/rubert-tiny2', vocab_size=83828, model_max_length=512, is_fast=True, padding_side='right', truncation_side='right', special_tokens={'unk_token': '[UNK]', 'sep_token': '[SEP]', 'pad_token': '[PAD]', 'cls_token': '[CLS]', 'mask_token': '[MASK]'}, clean_up_tokenization_spaces=True),  added_tokens_decoder={\n",
      "\t0: AddedToken(\"[PAD]\", rstrip=False, lstrip=False, single_word=False, normalized=False, special=True),\n",
      "\t1: AddedToken(\"[UNK]\", rstrip=False, lstrip=False, single_word=False, normalized=False, special=True),\n",
      "\t2: AddedToken(\"[CLS]\", rstrip=False, lstrip=False, single_word=False, normalized=False, special=True),\n",
      "\t3: AddedToken(\"[SEP]\", rstrip=False, lstrip=False, single_word=False, normalized=False, special=True),\n",
      "\t4: AddedToken(\"[MASK]\", rstrip=False, lstrip=False, single_word=False, normalized=False, special=True),\n",
      "}.\n"
     ]
    }
   ],
   "source": [
    "model.reinitialize()\n",
    "print(f\"Model reloaded. Model tokenizer is {model.tokenizer}.\")"
   ]
  },
  {
   "cell_type": "markdown",
   "id": "17ce014580ed6d7a",
   "metadata": {},
   "source": [
    "### Trainer <a class=\"anchor\" id=\"c5\"></a>"
   ]
  },
  {
   "cell_type": "code",
   "execution_count": 27,
   "id": "26daec4d9c62257b",
   "metadata": {
    "ExecuteTime": {
     "end_time": "2024-03-16T13:13:22.132070Z",
     "start_time": "2024-03-16T13:13:22.121017Z"
    }
   },
   "outputs": [],
   "source": [
    "params = {\n",
    "    'batch_size': [8, 16],\n",
    "    'lr': [1e-5, 1e-6, 1e-4],\n",
    "    'max_spoil': range(1, MAX_SPOIL + 1, 2),\n",
    "    'spoil_proba': np.arange(0.2,  0.8 + 0.1, 0.1)\n",
    "}"
   ]
  },
  {
   "cell_type": "code",
   "execution_count": 28,
   "id": "3e0a3528",
   "metadata": {
    "ExecuteTime": {
     "end_time": "2024-03-16T13:13:26.486667Z",
     "start_time": "2024-03-16T13:13:22.135087Z"
    }
   },
   "outputs": [],
   "source": [
    "trainer = Trainer.Trainer(MyModel.MyModel, train, validate, test, device=device, preprocessor=preprocessor, params=params)"
   ]
  },
  {
   "cell_type": "markdown",
   "id": "d65ec752c6357f13",
   "metadata": {},
   "source": [
    "### BERT training <a class=\"anchor\" id=\"c6\"></a>"
   ]
  },
  {
   "cell_type": "code",
   "execution_count": 29,
   "id": "dcdaeb6eadb8f8e7",
   "metadata": {
    "ExecuteTime": {
     "end_time": "2024-03-16T13:13:26.496522Z",
     "start_time": "2024-03-16T13:13:26.489687Z"
    }
   },
   "outputs": [],
   "source": [
    "torch.cuda.empty_cache()  # just in case"
   ]
  },
  {
   "cell_type": "code",
   "execution_count": 30,
   "id": "a2c1ac056328e123",
   "metadata": {
    "ExecuteTime": {
     "end_time": "2024-03-16T13:13:26.504383Z",
     "start_time": "2024-03-16T13:13:26.499545Z"
    }
   },
   "outputs": [],
   "source": [
    "# trainer.choose_model() # uncomment if you want to find best model"
   ]
  },
  {
   "cell_type": "code",
   "execution_count": 31,
   "id": "fe971e21b977473e",
   "metadata": {
    "ExecuteTime": {
     "end_time": "2024-03-16T13:13:26.512587Z",
     "start_time": "2024-03-16T13:13:26.506398Z"
    }
   },
   "outputs": [],
   "source": [
    "# trainer.save()"
   ]
  },
  {
   "cell_type": "code",
   "execution_count": 32,
   "id": "52f24cd508195125",
   "metadata": {
    "ExecuteTime": {
     "end_time": "2024-03-16T13:16:03.580647Z",
     "start_time": "2024-03-16T13:16:03.378355Z"
    }
   },
   "outputs": [],
   "source": [
    "# trainer.plot_loss(on_train=False)"
   ]
  },
  {
   "cell_type": "code",
   "execution_count": 33,
   "id": "635f3eafdcdb0257",
   "metadata": {
    "ExecuteTime": {
     "end_time": "2024-03-16T13:16:03.766227Z",
     "start_time": "2024-03-16T13:16:03.581654Z"
    }
   },
   "outputs": [],
   "source": [
    "# trainer.plot_metrics(on_train=False)"
   ]
  },
  {
   "cell_type": "markdown",
   "id": "283db0dc-ff91-4dc0-b7e6-4c4d8c09190b",
   "metadata": {
    "ExecuteTime": {
     "end_time": "2024-03-16T13:16:03.770968Z",
     "start_time": "2024-03-16T13:16:03.767239Z"
    }
   },
   "source": [
    "### GPT training <a class=\"anchor\" id=\"c7\"></a>"
   ]
  },
  {
   "cell_type": "code",
   "execution_count": 34,
   "id": "0f371a21-7d8c-41bb-811c-92d0dca0386c",
   "metadata": {},
   "outputs": [],
   "source": [
    "from gpt_classes import GPTDataset, GPTModel, GPTTrainer"
   ]
  },
  {
   "cell_type": "code",
   "execution_count": 35,
   "id": "d213983d-b6d2-4b7b-b2bc-67c341487a0d",
   "metadata": {},
   "outputs": [],
   "source": [
    "gptdataset = GPTDataset.GPTDataset(df, preprocessor=preprocessor, args=var_vocab)"
   ]
  },
  {
   "cell_type": "code",
   "execution_count": 36,
   "id": "4ffe88f1-ddbd-4905-b9a9-bae0223c4e64",
   "metadata": {},
   "outputs": [
    {
     "name": "stdout",
     "output_type": "stream",
     "text": [
      "Задание: Сгенерируй описание следующего текста, оцени тональность текста, оцени наличие этнического конфликта, наличие позитивного взаимодействия этничностей, мнение о абхаз в тексте, является ли этничность абхаз доминирующей, является ли этничность абхаз агрессором, является ли этничность абхаз опасной.\n",
      "Текст: но у вас же бред написан. Какими русскими? Вообще то там грузины воевали с Абхазами. Это исторический факт. А статья может быть на 10% правдива. Почему вы верите, какой-то статье?\n",
      "Описание: этот текст является негативным, в тексте есть этнический конфликт, в тексте не зафиксировано позитивного взаимодействия этичностей\n",
      "\n"
     ]
    }
   ],
   "source": [
    "print(gptdataset[0][0])"
   ]
  },
  {
   "cell_type": "code",
   "execution_count": 37,
   "id": "db54b9b4-a7d8-4c77-ae13-f03803434552",
   "metadata": {},
   "outputs": [],
   "source": [
    "from torch.utils.data import DataLoader"
   ]
  },
  {
   "cell_type": "code",
   "execution_count": 38,
   "id": "b3c173d4-1fd4-467d-bd22-4feabc6da473",
   "metadata": {},
   "outputs": [],
   "source": [
    "max_items = 100 # for now on\n",
    "gptTrainer = GPTTrainer.GPTTrainer(GPTModel.GPTModel, device, train[:max_items], validate[:max_items], test[:max_items], preprocessor=preprocessor, dataset=GPTDataset.GPTDataset, args=var_vocab, dataloader=DataLoader)\n",
    "# gptTrainer = GPTTrainer.GPTTrainer(GPTModel.GPTModel, device, train, validate, test, preprocessor=preprocessor, dataset=GPTDataset.GPTDataset, args=var_vocab, dataloader=DataLoader)"
   ]
  },
  {
   "cell_type": "code",
   "execution_count": 39,
   "id": "70c46a22-7c74-42bc-986d-9a5c723c6ff4",
   "metadata": {},
   "outputs": [
    {
     "name": "stdout",
     "output_type": "stream",
     "text": [
      "Что такое питон?\n",
      "Питон - это млекопитающее, которое питается плодами растений и животных.\n",
      "\n",
      "Какие у вас ассоциации со словом \"питон\"?\n",
      "Птица\n",
      "птица, которая летает, летающая, летящая\n",
      "Это птица. Птица - птица, которую можно увидеть в небе, а можно и не увидеть. Это птица-попугай, который живет на земле. А еще это птица - птичка, которой можно летать. И еще - птеродактиль\n"
     ]
    }
   ],
   "source": [
    "print(gptTrainer.model.my_generate('Что такое питон?')) # слон - это змея:)"
   ]
  },
  {
   "cell_type": "code",
   "execution_count": 40,
   "id": "f85a5f18-2d43-4b9b-97b7-c16093b2a806",
   "metadata": {},
   "outputs": [
    {
     "data": {
      "image/png": "[encoded data removed]",
      "text/plain": [
       "<Figure size 640x480 with 1 Axes>"
      ]
     },
     "metadata": {},
     "output_type": "display_data"
    }
   ],
   "source": [
    "gptTrainer.train(1)"
   ]
  },
  {
   "cell_type": "code",
   "execution_count": 41,
   "id": "919845ab-37c7-49a5-b120-6a53612c1a00",
   "metadata": {},
   "outputs": [
    {
     "name": "stdout",
     "output_type": "stream",
     "text": [
      "Что такое питон? Сгенерируй описание следующего текста, оцени тональность текста и оцени наличие этнического конфликта, наличие позитивного взаимодействия этничностей, является ли этничность абхаз доминирующей, в тексте не зафиксировано позитивное взаимодействия этичностей.\n",
      "Текст: в текст не вошло бы этнический конфликт, как бы это не было бы, а так же, что бы мы делали в армии,\n",
      "Описание: этот текст является негативным, так как мы не знаем, о чем мы говорим,\n"
     ]
    }
   ],
   "source": [
    "print(gptTrainer.model.my_generate('Что такое питон?'))"
   ]
  },
  {
   "cell_type": "code",
   "execution_count": 42,
   "id": "2f1a9df7-8615-4418-a039-5f0f972ca7ba",
   "metadata": {},
   "outputs": [
    {
     "name": "stdout",
     "output_type": "stream",
     "text": [
      "3\n",
      "[\"Задание: Сгенерируй описание следующего текста, оцени тональность текста, оцени наличие этнического конфликта, наличие позитивного взаимодействия этничностей, мнение о абхаз в тексте, является ли этничность абхаз доминирующей, является ли этничность абхаз агрессором, является ли этничность абхаз опасной.\\nТекст: Да не совсем. Грузины в 60-х залупались на абхазов, евреи пытались выделываться, то ли ради виз в Израиль, то ли по Талмуду, крымские татары регулярно устраивали бурления в Ташкенте. Но БЕСПРЕДЕЛА не было никогда, это правда.\\nОписание: этот текст является негативным, в тексте есть этнический конфликт, в тексте не зафиксировано позитивного взаимодействия этичностей, этничность 'абхаз' не является опасной\\n\\nСхема: это не означает, что это является позитивным, а это означает что-то другое, как в фильме 'Охотник'\\nВ тексте отсутствует, и это было бы в армии, так же как и в России, но в США, не говоря о Франции, ну а в чем же дело, почему бы не в Израиле, если бы мы не были бы на Украине,\\nА это же не считается опасной, есть позитивное взаимодействие этихчных конфликтов, считается ли это\", 'Задание: Сгенерируй описание следующего текста, оцени тональность текста, оцени наличие этнического конфликта, наличие позитивного взаимодействия этничностей, мнение о абхаз в тексте, является ли этничность абхаз доминирующей, является ли этничность абхаз агрессором, является ли этничность абхаз опасной.\\nТекст: Да не совсем. Грузины в 60-х залупались на абхазов, евреи пытались выделываться, то ли ради виз в Израиль, то ли по Талмуду, крымские татары регулярно устраивали бурления в Ташкенте. Но БЕСПРЕДЕЛА не было никогда, это правда.\\nОписание: этот текст является негативным, этот факт является позитивным, а это означает, что это не является опасной\\n\\nСхема: это же не зафиксировано негативного взаимодействия этичностей\\nА это что, не так, как ты думаешь, ты не знаешь, в этом тексте есть позитивное взаимодействие этихчных культур, так что ты бы не знал, и это было бы в армии, но это был бы позитивный взаимодействия этих стран, если бы мы были бы на олимпиаде, да и многое']\n",
      "\n",
      "-----\n",
      "\n"
     ]
    }
   ],
   "source": [
    "for id_, generated in gptTrainer.data[0][0]['generated']:\n",
    "    print(id_)\n",
    "    print(generated)\n",
    "    print(\"\\n-----\\n\")\n",
    "    break"
   ]
  },
  {
   "cell_type": "code",
   "execution_count": 43,
   "id": "64b8a509-35b3-4574-8098-ef982791967e",
   "metadata": {},
   "outputs": [
    {
     "name": "stdout",
     "output_type": "stream",
     "text": [
      "0.0\n"
     ]
    }
   ],
   "source": [
    "print(gptTrainer.data[0][0]['matched_with_descr'])"
   ]
  },
  {
   "cell_type": "code",
   "execution_count": 44,
   "id": "c3e8604a-65bc-44dc-980f-b13cb588b62d",
   "metadata": {},
   "outputs": [],
   "source": [
    "GPTparams = {\n",
    "    'cut_data': [True, False],\n",
    "    'batch_size': [10, 20],\n",
    "    'lr': [1e-5, 1e-6, 1e-4],\n",
    "    'ngrams': [1, 2, 3, 4, 5]\n",
    "}"
   ]
  },
  {
   "cell_type": "code",
   "execution_count": 45,
   "id": "31c1f7a8-5d99-4942-8322-d261f73014be",
   "metadata": {},
   "outputs": [],
   "source": [
    "# gptTrainer.choose_model(GPTparams)"
   ]
  },
  {
   "cell_type": "code",
   "execution_count": null,
   "id": "305ac5eb-7e99-4f8d-83ca-5d9300438ab8",
   "metadata": {},
   "outputs": [],
   "source": []
  }
 ],
 "metadata": {
  "kernelspec": {
   "display_name": "Python 3 (ipykernel)",
   "language": "python",
   "name": "python3"
  },
  "language_info": {
   "codemirror_mode": {
    "name": "ipython",
    "version": 3
   },
   "file_extension": ".py",
   "mimetype": "text/x-python",
   "name": "python",
   "nbconvert_exporter": "python",
   "pygments_lexer": "ipython3",
   "version": "3.12.2"
  }
 },
 "nbformat": 4,
 "nbformat_minor": 5
}
